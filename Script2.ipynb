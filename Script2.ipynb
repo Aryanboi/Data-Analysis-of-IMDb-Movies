{
 "cells": [
  {
   "cell_type": "code",
   "execution_count": 1,
   "metadata": {},
   "outputs": [],
   "source": [
    "import plotly.graph_objs as go\n",
    "import plotly.express as px\n",
    "import pandas as pd\n"
   ]
  },
  {
   "cell_type": "code",
   "execution_count": 2,
   "metadata": {},
   "outputs": [
    {
     "name": "stderr",
     "output_type": "stream",
     "text": [
      "C:\\Users\\aryan\\AppData\\Local\\Programs\\Python\\Python39\\lib\\site-packages\\IPython\\core\\interactiveshell.py:3441: DtypeWarning: Columns (3) have mixed types.Specify dtype option on import or set low_memory=False.\n",
      "  exec(code_obj, self.user_global_ns, self.user_ns)\n"
     ]
    }
   ],
   "source": [
    "df=pd.read_csv('IMDbmovies.csv')[:1000]"
   ]
  },
  {
   "cell_type": "code",
   "execution_count": 6,
   "metadata": {},
   "outputs": [],
   "source": [
    "df['genre'] = df['genre'].apply(lambda a : a.split(',')[0])"
   ]
  },
  {
   "cell_type": "code",
   "execution_count": 42,
   "metadata": {},
   "outputs": [],
   "source": [
    "df.drop(columns=['imdb_title_id', 'title', 'date_published','description','usa_gross_income', 'metascore', ], inplace=True)\n",
    "df.rename(columns={'original_title': 'Movie_Name', 'year':'Year', 'genre': 'Genre', 'country': 'Country','worlwide_gross_income': 'Worldwide_gross_income' ,'language': 'Language', 'director': 'Director', 'writer': 'Writer', 'preoduction_company': 'Production Company', 'actors': 'Actors', 'avg_vote': 'Rating', 'reviews_from_users': 'Reviews from users', 'reviews_from_critics': 'Reviews from critics'}, inplace= True)"
   ]
  },
  {
   "cell_type": "code",
   "execution_count": 43,
   "metadata": {},
   "outputs": [
    {
     "data": {
      "text/html": [
       "<div>\n",
       "<style scoped>\n",
       "    .dataframe tbody tr th:only-of-type {\n",
       "        vertical-align: middle;\n",
       "    }\n",
       "\n",
       "    .dataframe tbody tr th {\n",
       "        vertical-align: top;\n",
       "    }\n",
       "\n",
       "    .dataframe thead th {\n",
       "        text-align: right;\n",
       "    }\n",
       "</style>\n",
       "<table border=\"1\" class=\"dataframe\">\n",
       "  <thead>\n",
       "    <tr style=\"text-align: right;\">\n",
       "      <th></th>\n",
       "      <th>Movie_Name</th>\n",
       "      <th>Year</th>\n",
       "      <th>Genre</th>\n",
       "      <th>duration</th>\n",
       "      <th>Country</th>\n",
       "      <th>Language</th>\n",
       "      <th>Director</th>\n",
       "      <th>Writer</th>\n",
       "      <th>production_company</th>\n",
       "      <th>Actors</th>\n",
       "      <th>Rating</th>\n",
       "      <th>votes</th>\n",
       "      <th>budget</th>\n",
       "      <th>Worldwide_gross_income</th>\n",
       "      <th>Reviews from users</th>\n",
       "      <th>Reviews from critics</th>\n",
       "    </tr>\n",
       "  </thead>\n",
       "  <tbody>\n",
       "    <tr>\n",
       "      <th>165</th>\n",
       "      <td>Das Cabinet des Dr. Caligari</td>\n",
       "      <td>1920</td>\n",
       "      <td>Fantasy, Horror, Mystery</td>\n",
       "      <td>76</td>\n",
       "      <td>Germany</td>\n",
       "      <td>German</td>\n",
       "      <td>Robert Wiene</td>\n",
       "      <td>Carl Mayer, Hans Janowitz</td>\n",
       "      <td>Decla-Bioscop AG</td>\n",
       "      <td>Werner Krauss, Conrad Veidt, Friedrich Feher, ...</td>\n",
       "      <td>8.1</td>\n",
       "      <td>55601</td>\n",
       "      <td>$ 18000</td>\n",
       "      <td>$ 8811</td>\n",
       "      <td>237.0</td>\n",
       "      <td>160.0</td>\n",
       "    </tr>\n",
       "    <tr>\n",
       "      <th>251</th>\n",
       "      <td>The Kid</td>\n",
       "      <td>1921</td>\n",
       "      <td>Comedy, Drama, Family</td>\n",
       "      <td>68</td>\n",
       "      <td>USA</td>\n",
       "      <td>English, None</td>\n",
       "      <td>Charles Chaplin</td>\n",
       "      <td>Charles Chaplin</td>\n",
       "      <td>Charles Chaplin Productions</td>\n",
       "      <td>Carl Miller, Edna Purviance, Jackie Coogan, Ch...</td>\n",
       "      <td>8.3</td>\n",
       "      <td>109038</td>\n",
       "      <td>$ 250000</td>\n",
       "      <td>$ 26916</td>\n",
       "      <td>173.0</td>\n",
       "      <td>105.0</td>\n",
       "    </tr>\n",
       "    <tr>\n",
       "      <th>252</th>\n",
       "      <td>Körkarlen</td>\n",
       "      <td>1921</td>\n",
       "      <td>Drama, Fantasy, Horror</td>\n",
       "      <td>107</td>\n",
       "      <td>Sweden</td>\n",
       "      <td>Swedish</td>\n",
       "      <td>Victor Sjöström</td>\n",
       "      <td>Selma Lagerlöf, Victor Sjöström</td>\n",
       "      <td>Svensk Filmindustri (SF)</td>\n",
       "      <td>Victor Sjöström, Hilda Borgström, Tore Svennbe...</td>\n",
       "      <td>8.1</td>\n",
       "      <td>10054</td>\n",
       "      <td>NaN</td>\n",
       "      <td>NaN</td>\n",
       "      <td>68.0</td>\n",
       "      <td>82.0</td>\n",
       "    </tr>\n",
       "    <tr>\n",
       "      <th>334</th>\n",
       "      <td>Safety Last!</td>\n",
       "      <td>1923</td>\n",
       "      <td>Action, Comedy, Thriller</td>\n",
       "      <td>74</td>\n",
       "      <td>USA</td>\n",
       "      <td>English</td>\n",
       "      <td>Fred C. Newmeyer, Sam Taylor</td>\n",
       "      <td>Hal Roach, Sam Taylor</td>\n",
       "      <td>Hal Roach Studios</td>\n",
       "      <td>Harold Lloyd, Mildred Davis, Bill Strother, No...</td>\n",
       "      <td>8.1</td>\n",
       "      <td>17795</td>\n",
       "      <td>$ 121000</td>\n",
       "      <td>NaN</td>\n",
       "      <td>91.0</td>\n",
       "      <td>93.0</td>\n",
       "    </tr>\n",
       "    <tr>\n",
       "      <th>372</th>\n",
       "      <td>Der letzte Mann</td>\n",
       "      <td>1924</td>\n",
       "      <td>Drama</td>\n",
       "      <td>77</td>\n",
       "      <td>Germany</td>\n",
       "      <td>NaN</td>\n",
       "      <td>F.W. Murnau</td>\n",
       "      <td>Carl Mayer</td>\n",
       "      <td>Universum Film (UFA)</td>\n",
       "      <td>Emil Jannings, Maly Delschaft, Max Hiller, Emi...</td>\n",
       "      <td>8.1</td>\n",
       "      <td>12157</td>\n",
       "      <td>NaN</td>\n",
       "      <td>NaN</td>\n",
       "      <td>61.0</td>\n",
       "      <td>82.0</td>\n",
       "    </tr>\n",
       "    <tr>\n",
       "      <th>380</th>\n",
       "      <td>Die Nibelungen: Siegfried</td>\n",
       "      <td>1924</td>\n",
       "      <td>Adventure, Drama, Fantasy</td>\n",
       "      <td>143</td>\n",
       "      <td>Germany</td>\n",
       "      <td>German</td>\n",
       "      <td>Fritz Lang</td>\n",
       "      <td>Fritz Lang, Thea von Harbou</td>\n",
       "      <td>Decla-Bioscop AG</td>\n",
       "      <td>Gertrud Arnold, Margarete Schön, Hanna Ralph, ...</td>\n",
       "      <td>8.1</td>\n",
       "      <td>5082</td>\n",
       "      <td>NaN</td>\n",
       "      <td>NaN</td>\n",
       "      <td>29.0</td>\n",
       "      <td>51.0</td>\n",
       "    </tr>\n",
       "    <tr>\n",
       "      <th>390</th>\n",
       "      <td>Sherlock Jr.</td>\n",
       "      <td>1924</td>\n",
       "      <td>Action, Comedy, Romance</td>\n",
       "      <td>45</td>\n",
       "      <td>USA</td>\n",
       "      <td>English</td>\n",
       "      <td>Buster Keaton</td>\n",
       "      <td>Jean C. Havez, Joseph A. Mitchell</td>\n",
       "      <td>Buster Keaton Productions</td>\n",
       "      <td>Buster Keaton, Kathryn McGuire, Joe Keaton, Er...</td>\n",
       "      <td>8.2</td>\n",
       "      <td>39634</td>\n",
       "      <td>NaN</td>\n",
       "      <td>NaN</td>\n",
       "      <td>321.0</td>\n",
       "      <td>71.0</td>\n",
       "    </tr>\n",
       "    <tr>\n",
       "      <th>401</th>\n",
       "      <td>Bronenosets Potemkin</td>\n",
       "      <td>1925</td>\n",
       "      <td>Drama, History, Thriller</td>\n",
       "      <td>75</td>\n",
       "      <td>Soviet Union</td>\n",
       "      <td>Russian</td>\n",
       "      <td>Sergei M. Eisenstein</td>\n",
       "      <td>Nina Agadzhanova</td>\n",
       "      <td>Goskino</td>\n",
       "      <td>Aleksandr Antonov, Vladimir Barskiy, Grigoriy ...</td>\n",
       "      <td>8.0</td>\n",
       "      <td>51775</td>\n",
       "      <td>NaN</td>\n",
       "      <td>$ 61389</td>\n",
       "      <td>210.0</td>\n",
       "      <td>85.0</td>\n",
       "    </tr>\n",
       "    <tr>\n",
       "      <th>415</th>\n",
       "      <td>The Gold Rush</td>\n",
       "      <td>1925</td>\n",
       "      <td>Adventure, Comedy, Drama</td>\n",
       "      <td>95</td>\n",
       "      <td>USA</td>\n",
       "      <td>English, None</td>\n",
       "      <td>Charles Chaplin</td>\n",
       "      <td>Charles Chaplin</td>\n",
       "      <td>Charles Chaplin Productions</td>\n",
       "      <td>Charles Chaplin, Mack Swain, Tom Murray, Henry...</td>\n",
       "      <td>8.2</td>\n",
       "      <td>97480</td>\n",
       "      <td>$ 923000</td>\n",
       "      <td>$ 26916</td>\n",
       "      <td>190.0</td>\n",
       "      <td>125.0</td>\n",
       "    </tr>\n",
       "    <tr>\n",
       "      <th>417</th>\n",
       "      <td>Greed</td>\n",
       "      <td>1924</td>\n",
       "      <td>Drama, Thriller, Western</td>\n",
       "      <td>140</td>\n",
       "      <td>USA</td>\n",
       "      <td>English</td>\n",
       "      <td>Erich von Stroheim</td>\n",
       "      <td>June Mathis, Erich von Stroheim</td>\n",
       "      <td>Metro-Goldwyn Pictures Corporation</td>\n",
       "      <td>Zasu Pitts, Gibson Gowland, Jean Hersholt, Dal...</td>\n",
       "      <td>8.1</td>\n",
       "      <td>8898</td>\n",
       "      <td>$ 546883</td>\n",
       "      <td>NaN</td>\n",
       "      <td>88.0</td>\n",
       "      <td>50.0</td>\n",
       "    </tr>\n",
       "    <tr>\n",
       "      <th>485</th>\n",
       "      <td>Faust: Eine deutsche Volkssage</td>\n",
       "      <td>1926</td>\n",
       "      <td>Drama, Fantasy, Horror</td>\n",
       "      <td>107</td>\n",
       "      <td>Germany</td>\n",
       "      <td>German</td>\n",
       "      <td>F.W. Murnau</td>\n",
       "      <td>Gerhart Hauptmann, Hans Kyser</td>\n",
       "      <td>Universum Film (UFA)</td>\n",
       "      <td>Gösta Ekman, Emil Jannings, Camilla Horn, Frid...</td>\n",
       "      <td>8.1</td>\n",
       "      <td>13588</td>\n",
       "      <td>NaN</td>\n",
       "      <td>NaN</td>\n",
       "      <td>65.0</td>\n",
       "      <td>54.0</td>\n",
       "    </tr>\n",
       "    <tr>\n",
       "      <th>506</th>\n",
       "      <td>Metropolis</td>\n",
       "      <td>1927</td>\n",
       "      <td>Drama, Sci-Fi</td>\n",
       "      <td>153</td>\n",
       "      <td>Germany</td>\n",
       "      <td>German</td>\n",
       "      <td>Fritz Lang</td>\n",
       "      <td>Thea von Harbou, Thea von Harbou</td>\n",
       "      <td>Universum Film (UFA)</td>\n",
       "      <td>Alfred Abel, Gustav Fröhlich, Rudolf Klein-Rog...</td>\n",
       "      <td>8.3</td>\n",
       "      <td>156076</td>\n",
       "      <td>DEM 6000000</td>\n",
       "      <td>$ 1349711</td>\n",
       "      <td>495.0</td>\n",
       "      <td>208.0</td>\n",
       "    </tr>\n",
       "    <tr>\n",
       "      <th>558</th>\n",
       "      <td>The General</td>\n",
       "      <td>1926</td>\n",
       "      <td>Action, Adventure, Comedy</td>\n",
       "      <td>67</td>\n",
       "      <td>USA</td>\n",
       "      <td>English</td>\n",
       "      <td>Clyde Bruckman, Buster Keaton</td>\n",
       "      <td>Buster Keaton, Clyde Bruckman</td>\n",
       "      <td>Buster Keaton Productions</td>\n",
       "      <td>Marion Mack, Glen Cavender, Jim Farley, Freder...</td>\n",
       "      <td>8.1</td>\n",
       "      <td>78769</td>\n",
       "      <td>$ 750000</td>\n",
       "      <td>NaN</td>\n",
       "      <td>288.0</td>\n",
       "      <td>117.0</td>\n",
       "    </tr>\n",
       "    <tr>\n",
       "      <th>580</th>\n",
       "      <td>Napoléon vu par Abel Gance</td>\n",
       "      <td>1927</td>\n",
       "      <td>Biography, Drama, History</td>\n",
       "      <td>240</td>\n",
       "      <td>France</td>\n",
       "      <td>NaN</td>\n",
       "      <td>Abel Gance</td>\n",
       "      <td>Abel Gance</td>\n",
       "      <td>Ciné France</td>\n",
       "      <td>Albert Dieudonné, Vladimir Roudenko, Edmond Va...</td>\n",
       "      <td>8.1</td>\n",
       "      <td>6864</td>\n",
       "      <td>FRF 20000000</td>\n",
       "      <td>$ 39448</td>\n",
       "      <td>66.0</td>\n",
       "      <td>44.0</td>\n",
       "    </tr>\n",
       "    <tr>\n",
       "      <th>600</th>\n",
       "      <td>Sunrise: A Song of Two Humans</td>\n",
       "      <td>1927</td>\n",
       "      <td>Drama, Romance</td>\n",
       "      <td>94</td>\n",
       "      <td>USA</td>\n",
       "      <td>English</td>\n",
       "      <td>F.W. Murnau</td>\n",
       "      <td>Carl Mayer, Hermann Sudermann</td>\n",
       "      <td>Fox Film Corporation</td>\n",
       "      <td>George O'Brien, Janet Gaynor, Margaret Livings...</td>\n",
       "      <td>8.1</td>\n",
       "      <td>46069</td>\n",
       "      <td>$ 200000</td>\n",
       "      <td>$ 121107</td>\n",
       "      <td>250.0</td>\n",
       "      <td>186.0</td>\n",
       "    </tr>\n",
       "    <tr>\n",
       "      <th>624</th>\n",
       "      <td>The Cameraman</td>\n",
       "      <td>1928</td>\n",
       "      <td>Comedy, Drama, Family</td>\n",
       "      <td>76</td>\n",
       "      <td>USA</td>\n",
       "      <td>English</td>\n",
       "      <td>Edward Sedgwick, Buster Keaton</td>\n",
       "      <td>Clyde Bruckman, Lew Lipton</td>\n",
       "      <td>Metro-Goldwyn-Mayer (MGM)</td>\n",
       "      <td>Buster Keaton, Marceline Day, Harold Goodwin, ...</td>\n",
       "      <td>8.1</td>\n",
       "      <td>10101</td>\n",
       "      <td>NaN</td>\n",
       "      <td>$ 1737460</td>\n",
       "      <td>61.0</td>\n",
       "      <td>49.0</td>\n",
       "    </tr>\n",
       "    <tr>\n",
       "      <th>628</th>\n",
       "      <td>The Circus</td>\n",
       "      <td>1928</td>\n",
       "      <td>Comedy, Romance</td>\n",
       "      <td>72</td>\n",
       "      <td>USA</td>\n",
       "      <td>English</td>\n",
       "      <td>Charles Chaplin</td>\n",
       "      <td>Charles Chaplin</td>\n",
       "      <td>Charles Chaplin Productions</td>\n",
       "      <td>Al Ernest Garcia, Merna Kennedy, Harry Crocker...</td>\n",
       "      <td>8.1</td>\n",
       "      <td>27414</td>\n",
       "      <td>$ 900000</td>\n",
       "      <td>$ 26916</td>\n",
       "      <td>327.0</td>\n",
       "      <td>65.0</td>\n",
       "    </tr>\n",
       "    <tr>\n",
       "      <th>650</th>\n",
       "      <td>The Last Command</td>\n",
       "      <td>1928</td>\n",
       "      <td>Drama, History, Romance</td>\n",
       "      <td>88</td>\n",
       "      <td>USA</td>\n",
       "      <td>English</td>\n",
       "      <td>Josef von Sternberg</td>\n",
       "      <td>Lajos Biró, John F. Goodrich</td>\n",
       "      <td>Paramount Pictures</td>\n",
       "      <td>Emil Jannings, Evelyn Brent, William Powell, J...</td>\n",
       "      <td>8.0</td>\n",
       "      <td>3282</td>\n",
       "      <td>NaN</td>\n",
       "      <td>NaN</td>\n",
       "      <td>40.0</td>\n",
       "      <td>43.0</td>\n",
       "    </tr>\n",
       "    <tr>\n",
       "      <th>663</th>\n",
       "      <td>La passion de Jeanne d'Arc</td>\n",
       "      <td>1928</td>\n",
       "      <td>Biography, Drama, History</td>\n",
       "      <td>110</td>\n",
       "      <td>France</td>\n",
       "      <td>French</td>\n",
       "      <td>Carl Theodor Dreyer</td>\n",
       "      <td>Joseph Delteil, Carl Theodor Dreyer</td>\n",
       "      <td>Société générale des films</td>\n",
       "      <td>Maria Falconetti, Eugene Silvain, André Berley...</td>\n",
       "      <td>8.1</td>\n",
       "      <td>45823</td>\n",
       "      <td>NaN</td>\n",
       "      <td>$ 21877</td>\n",
       "      <td>195.0</td>\n",
       "      <td>137.0</td>\n",
       "    </tr>\n",
       "    <tr>\n",
       "      <th>693</th>\n",
       "      <td>The Wind</td>\n",
       "      <td>1928</td>\n",
       "      <td>Drama, Romance, Thriller</td>\n",
       "      <td>95</td>\n",
       "      <td>USA</td>\n",
       "      <td>English</td>\n",
       "      <td>Victor Sjöström</td>\n",
       "      <td>Frances Marion, Dorothy Scarborough</td>\n",
       "      <td>Metro-Goldwyn-Mayer (MGM)</td>\n",
       "      <td>Lillian Gish, Lars Hanson, Montagu Love, Dorot...</td>\n",
       "      <td>8.0</td>\n",
       "      <td>5980</td>\n",
       "      <td>NaN</td>\n",
       "      <td>NaN</td>\n",
       "      <td>49.0</td>\n",
       "      <td>31.0</td>\n",
       "    </tr>\n",
       "    <tr>\n",
       "      <th>841</th>\n",
       "      <td>All Quiet on the Western Front</td>\n",
       "      <td>1930</td>\n",
       "      <td>Drama, War</td>\n",
       "      <td>152</td>\n",
       "      <td>USA</td>\n",
       "      <td>English, French, German, Latin</td>\n",
       "      <td>Lewis Milestone</td>\n",
       "      <td>Erich Maria Remarque, Maxwell Anderson</td>\n",
       "      <td>Universal Pictures</td>\n",
       "      <td>Louis Wolheim, Lew Ayres, John Wray, Arnold Lu...</td>\n",
       "      <td>8.0</td>\n",
       "      <td>56356</td>\n",
       "      <td>$ 1200000</td>\n",
       "      <td>NaN</td>\n",
       "      <td>240.0</td>\n",
       "      <td>102.0</td>\n",
       "    </tr>\n",
       "  </tbody>\n",
       "</table>\n",
       "</div>"
      ],
      "text/plain": [
       "                         Movie_Name  Year                      Genre  \\\n",
       "165    Das Cabinet des Dr. Caligari  1920   Fantasy, Horror, Mystery   \n",
       "251                         The Kid  1921      Comedy, Drama, Family   \n",
       "252                       Körkarlen  1921     Drama, Fantasy, Horror   \n",
       "334                    Safety Last!  1923   Action, Comedy, Thriller   \n",
       "372                 Der letzte Mann  1924                      Drama   \n",
       "380       Die Nibelungen: Siegfried  1924  Adventure, Drama, Fantasy   \n",
       "390                    Sherlock Jr.  1924    Action, Comedy, Romance   \n",
       "401            Bronenosets Potemkin  1925   Drama, History, Thriller   \n",
       "415                   The Gold Rush  1925   Adventure, Comedy, Drama   \n",
       "417                           Greed  1924   Drama, Thriller, Western   \n",
       "485  Faust: Eine deutsche Volkssage  1926     Drama, Fantasy, Horror   \n",
       "506                      Metropolis  1927              Drama, Sci-Fi   \n",
       "558                     The General  1926  Action, Adventure, Comedy   \n",
       "580      Napoléon vu par Abel Gance  1927  Biography, Drama, History   \n",
       "600   Sunrise: A Song of Two Humans  1927             Drama, Romance   \n",
       "624                   The Cameraman  1928      Comedy, Drama, Family   \n",
       "628                      The Circus  1928            Comedy, Romance   \n",
       "650                The Last Command  1928    Drama, History, Romance   \n",
       "663      La passion de Jeanne d'Arc  1928  Biography, Drama, History   \n",
       "693                        The Wind  1928   Drama, Romance, Thriller   \n",
       "841  All Quiet on the Western Front  1930                 Drama, War   \n",
       "\n",
       "     duration       Country                        Language  \\\n",
       "165        76       Germany                          German   \n",
       "251        68           USA                   English, None   \n",
       "252       107        Sweden                         Swedish   \n",
       "334        74           USA                         English   \n",
       "372        77       Germany                             NaN   \n",
       "380       143       Germany                          German   \n",
       "390        45           USA                         English   \n",
       "401        75  Soviet Union                         Russian   \n",
       "415        95           USA                   English, None   \n",
       "417       140           USA                         English   \n",
       "485       107       Germany                          German   \n",
       "506       153       Germany                          German   \n",
       "558        67           USA                         English   \n",
       "580       240        France                             NaN   \n",
       "600        94           USA                         English   \n",
       "624        76           USA                         English   \n",
       "628        72           USA                         English   \n",
       "650        88           USA                         English   \n",
       "663       110        France                          French   \n",
       "693        95           USA                         English   \n",
       "841       152           USA  English, French, German, Latin   \n",
       "\n",
       "                           Director                                  Writer  \\\n",
       "165                    Robert Wiene               Carl Mayer, Hans Janowitz   \n",
       "251                 Charles Chaplin                         Charles Chaplin   \n",
       "252                 Victor Sjöström         Selma Lagerlöf, Victor Sjöström   \n",
       "334    Fred C. Newmeyer, Sam Taylor                   Hal Roach, Sam Taylor   \n",
       "372                     F.W. Murnau                              Carl Mayer   \n",
       "380                      Fritz Lang             Fritz Lang, Thea von Harbou   \n",
       "390                   Buster Keaton       Jean C. Havez, Joseph A. Mitchell   \n",
       "401            Sergei M. Eisenstein                        Nina Agadzhanova   \n",
       "415                 Charles Chaplin                         Charles Chaplin   \n",
       "417              Erich von Stroheim         June Mathis, Erich von Stroheim   \n",
       "485                     F.W. Murnau           Gerhart Hauptmann, Hans Kyser   \n",
       "506                      Fritz Lang        Thea von Harbou, Thea von Harbou   \n",
       "558   Clyde Bruckman, Buster Keaton           Buster Keaton, Clyde Bruckman   \n",
       "580                      Abel Gance                              Abel Gance   \n",
       "600                     F.W. Murnau           Carl Mayer, Hermann Sudermann   \n",
       "624  Edward Sedgwick, Buster Keaton              Clyde Bruckman, Lew Lipton   \n",
       "628                 Charles Chaplin                         Charles Chaplin   \n",
       "650             Josef von Sternberg            Lajos Biró, John F. Goodrich   \n",
       "663             Carl Theodor Dreyer     Joseph Delteil, Carl Theodor Dreyer   \n",
       "693                 Victor Sjöström     Frances Marion, Dorothy Scarborough   \n",
       "841                 Lewis Milestone  Erich Maria Remarque, Maxwell Anderson   \n",
       "\n",
       "                     production_company  \\\n",
       "165                    Decla-Bioscop AG   \n",
       "251         Charles Chaplin Productions   \n",
       "252            Svensk Filmindustri (SF)   \n",
       "334                   Hal Roach Studios   \n",
       "372                Universum Film (UFA)   \n",
       "380                    Decla-Bioscop AG   \n",
       "390           Buster Keaton Productions   \n",
       "401                             Goskino   \n",
       "415         Charles Chaplin Productions   \n",
       "417  Metro-Goldwyn Pictures Corporation   \n",
       "485                Universum Film (UFA)   \n",
       "506                Universum Film (UFA)   \n",
       "558           Buster Keaton Productions   \n",
       "580                         Ciné France   \n",
       "600                Fox Film Corporation   \n",
       "624           Metro-Goldwyn-Mayer (MGM)   \n",
       "628         Charles Chaplin Productions   \n",
       "650                  Paramount Pictures   \n",
       "663          Société générale des films   \n",
       "693           Metro-Goldwyn-Mayer (MGM)   \n",
       "841                  Universal Pictures   \n",
       "\n",
       "                                                Actors  Rating   votes  \\\n",
       "165  Werner Krauss, Conrad Veidt, Friedrich Feher, ...     8.1   55601   \n",
       "251  Carl Miller, Edna Purviance, Jackie Coogan, Ch...     8.3  109038   \n",
       "252  Victor Sjöström, Hilda Borgström, Tore Svennbe...     8.1   10054   \n",
       "334  Harold Lloyd, Mildred Davis, Bill Strother, No...     8.1   17795   \n",
       "372  Emil Jannings, Maly Delschaft, Max Hiller, Emi...     8.1   12157   \n",
       "380  Gertrud Arnold, Margarete Schön, Hanna Ralph, ...     8.1    5082   \n",
       "390  Buster Keaton, Kathryn McGuire, Joe Keaton, Er...     8.2   39634   \n",
       "401  Aleksandr Antonov, Vladimir Barskiy, Grigoriy ...     8.0   51775   \n",
       "415  Charles Chaplin, Mack Swain, Tom Murray, Henry...     8.2   97480   \n",
       "417  Zasu Pitts, Gibson Gowland, Jean Hersholt, Dal...     8.1    8898   \n",
       "485  Gösta Ekman, Emil Jannings, Camilla Horn, Frid...     8.1   13588   \n",
       "506  Alfred Abel, Gustav Fröhlich, Rudolf Klein-Rog...     8.3  156076   \n",
       "558  Marion Mack, Glen Cavender, Jim Farley, Freder...     8.1   78769   \n",
       "580  Albert Dieudonné, Vladimir Roudenko, Edmond Va...     8.1    6864   \n",
       "600  George O'Brien, Janet Gaynor, Margaret Livings...     8.1   46069   \n",
       "624  Buster Keaton, Marceline Day, Harold Goodwin, ...     8.1   10101   \n",
       "628  Al Ernest Garcia, Merna Kennedy, Harry Crocker...     8.1   27414   \n",
       "650  Emil Jannings, Evelyn Brent, William Powell, J...     8.0    3282   \n",
       "663  Maria Falconetti, Eugene Silvain, André Berley...     8.1   45823   \n",
       "693  Lillian Gish, Lars Hanson, Montagu Love, Dorot...     8.0    5980   \n",
       "841  Louis Wolheim, Lew Ayres, John Wray, Arnold Lu...     8.0   56356   \n",
       "\n",
       "           budget Worldwide_gross_income  Reviews from users  \\\n",
       "165       $ 18000                 $ 8811               237.0   \n",
       "251      $ 250000                $ 26916               173.0   \n",
       "252           NaN                    NaN                68.0   \n",
       "334      $ 121000                    NaN                91.0   \n",
       "372           NaN                    NaN                61.0   \n",
       "380           NaN                    NaN                29.0   \n",
       "390           NaN                    NaN               321.0   \n",
       "401           NaN                $ 61389               210.0   \n",
       "415      $ 923000                $ 26916               190.0   \n",
       "417      $ 546883                    NaN                88.0   \n",
       "485           NaN                    NaN                65.0   \n",
       "506   DEM 6000000              $ 1349711               495.0   \n",
       "558      $ 750000                    NaN               288.0   \n",
       "580  FRF 20000000                $ 39448                66.0   \n",
       "600      $ 200000               $ 121107               250.0   \n",
       "624           NaN              $ 1737460                61.0   \n",
       "628      $ 900000                $ 26916               327.0   \n",
       "650           NaN                    NaN                40.0   \n",
       "663           NaN                $ 21877               195.0   \n",
       "693           NaN                    NaN                49.0   \n",
       "841     $ 1200000                    NaN               240.0   \n",
       "\n",
       "     Reviews from critics  \n",
       "165                 160.0  \n",
       "251                 105.0  \n",
       "252                  82.0  \n",
       "334                  93.0  \n",
       "372                  82.0  \n",
       "380                  51.0  \n",
       "390                  71.0  \n",
       "401                  85.0  \n",
       "415                 125.0  \n",
       "417                  50.0  \n",
       "485                  54.0  \n",
       "506                 208.0  \n",
       "558                 117.0  \n",
       "580                  44.0  \n",
       "600                 186.0  \n",
       "624                  49.0  \n",
       "628                  65.0  \n",
       "650                  43.0  \n",
       "663                 137.0  \n",
       "693                  31.0  \n",
       "841                 102.0  "
      ]
     },
     "execution_count": 43,
     "metadata": {},
     "output_type": "execute_result"
    }
   ],
   "source": [
    "df[(df['Rating']>7.9)]"
   ]
  },
  {
   "cell_type": "code",
   "execution_count": 44,
   "metadata": {},
   "outputs": [],
   "source": [
    "dfz=df[(df['Rating']>7.9)]"
   ]
  },
  {
   "cell_type": "code",
   "execution_count": 45,
   "metadata": {},
   "outputs": [],
   "source": [
    "dfy=dfz.groupby('production_company',as_index=False).count().sort_values('Year',ascending=False)"
   ]
  },
  {
   "cell_type": "code",
   "execution_count": 87,
   "metadata": {},
   "outputs": [
    {
     "data": {
      "application/vnd.plotly.v1+json": {
       "config": {
        "plotlyServerURL": "https://plot.ly"
       },
       "data": [
        {
         "alignmentgroup": "True",
         "bingroup": "x",
         "histfunc": "sum",
         "hovertemplate": "production_company=%{x}<br>sum of Movie_Name=%{y}<extra></extra>",
         "legendgroup": "",
         "marker": {
          "color": "#636efa",
          "pattern": {
           "shape": ""
          }
         },
         "name": "",
         "offsetgroup": "",
         "orientation": "v",
         "showlegend": false,
         "type": "histogram",
         "x": [
          "Charles Chaplin Productions",
          "Universum Film (UFA)",
          "Buster Keaton Productions",
          "Decla-Bioscop AG",
          "Metro-Goldwyn-Mayer (MGM)",
          "Ciné France",
          "Fox Film Corporation",
          "Goskino",
          "Hal Roach Studios",
          "Metro-Goldwyn Pictures Corporation",
          "Paramount Pictures",
          "Société générale des films",
          "Svensk Filmindustri (SF)",
          "Universal Pictures"
         ],
         "xaxis": "x",
         "y": [
          3,
          3,
          2,
          2,
          2,
          1,
          1,
          1,
          1,
          1,
          1,
          1,
          1,
          1
         ],
         "yaxis": "y"
        }
       ],
       "layout": {
        "barmode": "relative",
        "legend": {
         "tracegroupgap": 0
        },
        "margin": {
         "t": 60
        },
        "template": {
         "data": {
          "bar": [
           {
            "error_x": {
             "color": "#f2f5fa"
            },
            "error_y": {
             "color": "#f2f5fa"
            },
            "marker": {
             "line": {
              "color": "rgb(17,17,17)",
              "width": 0.5
             },
             "pattern": {
              "fillmode": "overlay",
              "size": 10,
              "solidity": 0.2
             }
            },
            "type": "bar"
           }
          ],
          "barpolar": [
           {
            "marker": {
             "line": {
              "color": "rgb(17,17,17)",
              "width": 0.5
             },
             "pattern": {
              "fillmode": "overlay",
              "size": 10,
              "solidity": 0.2
             }
            },
            "type": "barpolar"
           }
          ],
          "carpet": [
           {
            "aaxis": {
             "endlinecolor": "#A2B1C6",
             "gridcolor": "#506784",
             "linecolor": "#506784",
             "minorgridcolor": "#506784",
             "startlinecolor": "#A2B1C6"
            },
            "baxis": {
             "endlinecolor": "#A2B1C6",
             "gridcolor": "#506784",
             "linecolor": "#506784",
             "minorgridcolor": "#506784",
             "startlinecolor": "#A2B1C6"
            },
            "type": "carpet"
           }
          ],
          "choropleth": [
           {
            "colorbar": {
             "outlinewidth": 0,
             "ticks": ""
            },
            "type": "choropleth"
           }
          ],
          "contour": [
           {
            "colorbar": {
             "outlinewidth": 0,
             "ticks": ""
            },
            "colorscale": [
             [
              0,
              "#0d0887"
             ],
             [
              0.1111111111111111,
              "#46039f"
             ],
             [
              0.2222222222222222,
              "#7201a8"
             ],
             [
              0.3333333333333333,
              "#9c179e"
             ],
             [
              0.4444444444444444,
              "#bd3786"
             ],
             [
              0.5555555555555556,
              "#d8576b"
             ],
             [
              0.6666666666666666,
              "#ed7953"
             ],
             [
              0.7777777777777778,
              "#fb9f3a"
             ],
             [
              0.8888888888888888,
              "#fdca26"
             ],
             [
              1,
              "#f0f921"
             ]
            ],
            "type": "contour"
           }
          ],
          "contourcarpet": [
           {
            "colorbar": {
             "outlinewidth": 0,
             "ticks": ""
            },
            "type": "contourcarpet"
           }
          ],
          "heatmap": [
           {
            "colorbar": {
             "outlinewidth": 0,
             "ticks": ""
            },
            "colorscale": [
             [
              0,
              "#0d0887"
             ],
             [
              0.1111111111111111,
              "#46039f"
             ],
             [
              0.2222222222222222,
              "#7201a8"
             ],
             [
              0.3333333333333333,
              "#9c179e"
             ],
             [
              0.4444444444444444,
              "#bd3786"
             ],
             [
              0.5555555555555556,
              "#d8576b"
             ],
             [
              0.6666666666666666,
              "#ed7953"
             ],
             [
              0.7777777777777778,
              "#fb9f3a"
             ],
             [
              0.8888888888888888,
              "#fdca26"
             ],
             [
              1,
              "#f0f921"
             ]
            ],
            "type": "heatmap"
           }
          ],
          "heatmapgl": [
           {
            "colorbar": {
             "outlinewidth": 0,
             "ticks": ""
            },
            "colorscale": [
             [
              0,
              "#0d0887"
             ],
             [
              0.1111111111111111,
              "#46039f"
             ],
             [
              0.2222222222222222,
              "#7201a8"
             ],
             [
              0.3333333333333333,
              "#9c179e"
             ],
             [
              0.4444444444444444,
              "#bd3786"
             ],
             [
              0.5555555555555556,
              "#d8576b"
             ],
             [
              0.6666666666666666,
              "#ed7953"
             ],
             [
              0.7777777777777778,
              "#fb9f3a"
             ],
             [
              0.8888888888888888,
              "#fdca26"
             ],
             [
              1,
              "#f0f921"
             ]
            ],
            "type": "heatmapgl"
           }
          ],
          "histogram": [
           {
            "marker": {
             "pattern": {
              "fillmode": "overlay",
              "size": 10,
              "solidity": 0.2
             }
            },
            "type": "histogram"
           }
          ],
          "histogram2d": [
           {
            "colorbar": {
             "outlinewidth": 0,
             "ticks": ""
            },
            "colorscale": [
             [
              0,
              "#0d0887"
             ],
             [
              0.1111111111111111,
              "#46039f"
             ],
             [
              0.2222222222222222,
              "#7201a8"
             ],
             [
              0.3333333333333333,
              "#9c179e"
             ],
             [
              0.4444444444444444,
              "#bd3786"
             ],
             [
              0.5555555555555556,
              "#d8576b"
             ],
             [
              0.6666666666666666,
              "#ed7953"
             ],
             [
              0.7777777777777778,
              "#fb9f3a"
             ],
             [
              0.8888888888888888,
              "#fdca26"
             ],
             [
              1,
              "#f0f921"
             ]
            ],
            "type": "histogram2d"
           }
          ],
          "histogram2dcontour": [
           {
            "colorbar": {
             "outlinewidth": 0,
             "ticks": ""
            },
            "colorscale": [
             [
              0,
              "#0d0887"
             ],
             [
              0.1111111111111111,
              "#46039f"
             ],
             [
              0.2222222222222222,
              "#7201a8"
             ],
             [
              0.3333333333333333,
              "#9c179e"
             ],
             [
              0.4444444444444444,
              "#bd3786"
             ],
             [
              0.5555555555555556,
              "#d8576b"
             ],
             [
              0.6666666666666666,
              "#ed7953"
             ],
             [
              0.7777777777777778,
              "#fb9f3a"
             ],
             [
              0.8888888888888888,
              "#fdca26"
             ],
             [
              1,
              "#f0f921"
             ]
            ],
            "type": "histogram2dcontour"
           }
          ],
          "mesh3d": [
           {
            "colorbar": {
             "outlinewidth": 0,
             "ticks": ""
            },
            "type": "mesh3d"
           }
          ],
          "parcoords": [
           {
            "line": {
             "colorbar": {
              "outlinewidth": 0,
              "ticks": ""
             }
            },
            "type": "parcoords"
           }
          ],
          "pie": [
           {
            "automargin": true,
            "type": "pie"
           }
          ],
          "scatter": [
           {
            "marker": {
             "line": {
              "color": "#283442"
             }
            },
            "type": "scatter"
           }
          ],
          "scatter3d": [
           {
            "line": {
             "colorbar": {
              "outlinewidth": 0,
              "ticks": ""
             }
            },
            "marker": {
             "colorbar": {
              "outlinewidth": 0,
              "ticks": ""
             }
            },
            "type": "scatter3d"
           }
          ],
          "scattercarpet": [
           {
            "marker": {
             "colorbar": {
              "outlinewidth": 0,
              "ticks": ""
             }
            },
            "type": "scattercarpet"
           }
          ],
          "scattergeo": [
           {
            "marker": {
             "colorbar": {
              "outlinewidth": 0,
              "ticks": ""
             }
            },
            "type": "scattergeo"
           }
          ],
          "scattergl": [
           {
            "marker": {
             "line": {
              "color": "#283442"
             }
            },
            "type": "scattergl"
           }
          ],
          "scattermapbox": [
           {
            "marker": {
             "colorbar": {
              "outlinewidth": 0,
              "ticks": ""
             }
            },
            "type": "scattermapbox"
           }
          ],
          "scatterpolar": [
           {
            "marker": {
             "colorbar": {
              "outlinewidth": 0,
              "ticks": ""
             }
            },
            "type": "scatterpolar"
           }
          ],
          "scatterpolargl": [
           {
            "marker": {
             "colorbar": {
              "outlinewidth": 0,
              "ticks": ""
             }
            },
            "type": "scatterpolargl"
           }
          ],
          "scatterternary": [
           {
            "marker": {
             "colorbar": {
              "outlinewidth": 0,
              "ticks": ""
             }
            },
            "type": "scatterternary"
           }
          ],
          "surface": [
           {
            "colorbar": {
             "outlinewidth": 0,
             "ticks": ""
            },
            "colorscale": [
             [
              0,
              "#0d0887"
             ],
             [
              0.1111111111111111,
              "#46039f"
             ],
             [
              0.2222222222222222,
              "#7201a8"
             ],
             [
              0.3333333333333333,
              "#9c179e"
             ],
             [
              0.4444444444444444,
              "#bd3786"
             ],
             [
              0.5555555555555556,
              "#d8576b"
             ],
             [
              0.6666666666666666,
              "#ed7953"
             ],
             [
              0.7777777777777778,
              "#fb9f3a"
             ],
             [
              0.8888888888888888,
              "#fdca26"
             ],
             [
              1,
              "#f0f921"
             ]
            ],
            "type": "surface"
           }
          ],
          "table": [
           {
            "cells": {
             "fill": {
              "color": "#506784"
             },
             "line": {
              "color": "rgb(17,17,17)"
             }
            },
            "header": {
             "fill": {
              "color": "#2a3f5f"
             },
             "line": {
              "color": "rgb(17,17,17)"
             }
            },
            "type": "table"
           }
          ]
         },
         "layout": {
          "annotationdefaults": {
           "arrowcolor": "#f2f5fa",
           "arrowhead": 0,
           "arrowwidth": 1
          },
          "autotypenumbers": "strict",
          "coloraxis": {
           "colorbar": {
            "outlinewidth": 0,
            "ticks": ""
           }
          },
          "colorscale": {
           "diverging": [
            [
             0,
             "#8e0152"
            ],
            [
             0.1,
             "#c51b7d"
            ],
            [
             0.2,
             "#de77ae"
            ],
            [
             0.3,
             "#f1b6da"
            ],
            [
             0.4,
             "#fde0ef"
            ],
            [
             0.5,
             "#f7f7f7"
            ],
            [
             0.6,
             "#e6f5d0"
            ],
            [
             0.7,
             "#b8e186"
            ],
            [
             0.8,
             "#7fbc41"
            ],
            [
             0.9,
             "#4d9221"
            ],
            [
             1,
             "#276419"
            ]
           ],
           "sequential": [
            [
             0,
             "#0d0887"
            ],
            [
             0.1111111111111111,
             "#46039f"
            ],
            [
             0.2222222222222222,
             "#7201a8"
            ],
            [
             0.3333333333333333,
             "#9c179e"
            ],
            [
             0.4444444444444444,
             "#bd3786"
            ],
            [
             0.5555555555555556,
             "#d8576b"
            ],
            [
             0.6666666666666666,
             "#ed7953"
            ],
            [
             0.7777777777777778,
             "#fb9f3a"
            ],
            [
             0.8888888888888888,
             "#fdca26"
            ],
            [
             1,
             "#f0f921"
            ]
           ],
           "sequentialminus": [
            [
             0,
             "#0d0887"
            ],
            [
             0.1111111111111111,
             "#46039f"
            ],
            [
             0.2222222222222222,
             "#7201a8"
            ],
            [
             0.3333333333333333,
             "#9c179e"
            ],
            [
             0.4444444444444444,
             "#bd3786"
            ],
            [
             0.5555555555555556,
             "#d8576b"
            ],
            [
             0.6666666666666666,
             "#ed7953"
            ],
            [
             0.7777777777777778,
             "#fb9f3a"
            ],
            [
             0.8888888888888888,
             "#fdca26"
            ],
            [
             1,
             "#f0f921"
            ]
           ]
          },
          "colorway": [
           "#636efa",
           "#EF553B",
           "#00cc96",
           "#ab63fa",
           "#FFA15A",
           "#19d3f3",
           "#FF6692",
           "#B6E880",
           "#FF97FF",
           "#FECB52"
          ],
          "font": {
           "color": "#f2f5fa"
          },
          "geo": {
           "bgcolor": "rgb(17,17,17)",
           "lakecolor": "rgb(17,17,17)",
           "landcolor": "rgb(17,17,17)",
           "showlakes": true,
           "showland": true,
           "subunitcolor": "#506784"
          },
          "hoverlabel": {
           "align": "left"
          },
          "hovermode": "closest",
          "mapbox": {
           "style": "dark"
          },
          "paper_bgcolor": "rgb(17,17,17)",
          "plot_bgcolor": "rgb(17,17,17)",
          "polar": {
           "angularaxis": {
            "gridcolor": "#506784",
            "linecolor": "#506784",
            "ticks": ""
           },
           "bgcolor": "rgb(17,17,17)",
           "radialaxis": {
            "gridcolor": "#506784",
            "linecolor": "#506784",
            "ticks": ""
           }
          },
          "scene": {
           "xaxis": {
            "backgroundcolor": "rgb(17,17,17)",
            "gridcolor": "#506784",
            "gridwidth": 2,
            "linecolor": "#506784",
            "showbackground": true,
            "ticks": "",
            "zerolinecolor": "#C8D4E3"
           },
           "yaxis": {
            "backgroundcolor": "rgb(17,17,17)",
            "gridcolor": "#506784",
            "gridwidth": 2,
            "linecolor": "#506784",
            "showbackground": true,
            "ticks": "",
            "zerolinecolor": "#C8D4E3"
           },
           "zaxis": {
            "backgroundcolor": "rgb(17,17,17)",
            "gridcolor": "#506784",
            "gridwidth": 2,
            "linecolor": "#506784",
            "showbackground": true,
            "ticks": "",
            "zerolinecolor": "#C8D4E3"
           }
          },
          "shapedefaults": {
           "line": {
            "color": "#f2f5fa"
           }
          },
          "sliderdefaults": {
           "bgcolor": "#C8D4E3",
           "bordercolor": "rgb(17,17,17)",
           "borderwidth": 1,
           "tickwidth": 0
          },
          "ternary": {
           "aaxis": {
            "gridcolor": "#506784",
            "linecolor": "#506784",
            "ticks": ""
           },
           "baxis": {
            "gridcolor": "#506784",
            "linecolor": "#506784",
            "ticks": ""
           },
           "bgcolor": "rgb(17,17,17)",
           "caxis": {
            "gridcolor": "#506784",
            "linecolor": "#506784",
            "ticks": ""
           }
          },
          "title": {
           "x": 0.05
          },
          "updatemenudefaults": {
           "bgcolor": "#506784",
           "borderwidth": 0
          },
          "xaxis": {
           "automargin": true,
           "gridcolor": "#283442",
           "linecolor": "#506784",
           "ticks": "",
           "title": {
            "standoff": 15
           },
           "zerolinecolor": "#283442",
           "zerolinewidth": 2
          },
          "yaxis": {
           "automargin": true,
           "gridcolor": "#283442",
           "linecolor": "#506784",
           "ticks": "",
           "title": {
            "standoff": 15
           },
           "zerolinecolor": "#283442",
           "zerolinewidth": 2
          }
         }
        },
        "xaxis": {
         "anchor": "y",
         "domain": [
          0,
          1
         ],
         "title": {
          "text": "production_company"
         }
        },
        "yaxis": {
         "anchor": "x",
         "domain": [
          0,
          1
         ],
         "title": {
          "text": "sum of Movie_Name"
         }
        }
       }
      }
     },
     "metadata": {},
     "output_type": "display_data"
    }
   ],
   "source": [
    "px.histogram( data_frame = dfy, x = 'production_company', y='Movie_Name' , template='plotly_dark')"
   ]
  },
  {
   "cell_type": "code",
   "execution_count": 47,
   "metadata": {},
   "outputs": [],
   "source": [
    "dfb=df.sort_values('Rating', ascending=False)"
   ]
  },
  {
   "cell_type": "code",
   "execution_count": 48,
   "metadata": {},
   "outputs": [
    {
     "data": {
      "application/vnd.plotly.v1+json": {
       "config": {
        "plotlyServerURL": "https://plot.ly"
       },
       "data": [
        {
         "hovertemplate": "variable=Reviews from users<br>Movie_Name=%{x}<br>value=%{y}<extra></extra>",
         "legendgroup": "Reviews from users",
         "line": {
          "color": "#636efa",
          "dash": "solid"
         },
         "marker": {
          "symbol": "circle"
         },
         "mode": "lines",
         "name": "Reviews from users",
         "orientation": "v",
         "showlegend": true,
         "type": "scatter",
         "x": [
          "The Kid",
          "Metropolis",
          "Sherlock Jr.",
          "The Gold Rush",
          "Faust: Eine deutsche Volkssage",
          "Sunrise: A Song of Two Humans",
          "Napoléon vu par Abel Gance",
          "Safety Last!",
          "Greed",
          "Die Nibelungen: Siegfried",
          "La passion de Jeanne d'Arc",
          "Das Cabinet des Dr. Caligari",
          "The General",
          "Der letzte Mann",
          "The Circus",
          "The Cameraman",
          "Körkarlen",
          "Bronenosets Potemkin",
          "The Last Command",
          "The Wind",
          "All Quiet on the Western Front",
          "Seven Chances",
          "Tagebuch einer Verlorenen",
          "Die Nibelungen: Kriemhilds Rache",
          "Die Büchse der Pandora",
          "Nosferatu, eine Symphonie des Grauens",
          "Steamboat Bill, Jr.",
          "The Big Parade",
          "The Unknown",
          "Lonesome",
          "Intolerance: Love's Struggle Throughout the Ages",
          "City Girl",
          "He Who Gets Slapped",
          "Lucky Star",
          "Le roman de Renard",
          "Die Abenteuer des Prinzen Achmed",
          "Our Hospitality",
          "Visages d'enfants",
          "Po zakonu",
          "Der müde Tod",
          "The Man Who Laughs",
          "Der blaue Engel",
          "The Navigator",
          "The Scarlet Letter",
          "Girl Shy",
          "J'accuse",
          "Speedy",
          "The Thief of Bagdad",
          "Laugh, Clown, Laugh",
          "Spione",
          "Flesh and the Devil",
          "The Phantom of the Opera",
          "A Cottage on Dartmoor",
          "L'argent",
          "Show People",
          "Stachka",
          "The Student Prince in Old Heidelberg",
          "Underworld",
          "The Kid Brother",
          "7th Heaven",
          "The Wedding March",
          "Animal Crackers",
          "The Patsy",
          "La roue",
          "Coeur fidèle",
          "For Heaven's Sake",
          "Oktyabr",
          "Beggars of Life",
          "Almost Human",
          "L'enfant de Paris",
          "Wings",
          "Mat",
          "The Freshman",
          "3 Bad Men",
          "The Docks of New York",
          "Terje Vigen",
          "Why Worry?",
          "Way Down East",
          "Asphalt",
          "Varieté",
          "Menschen am Sonntag",
          "Die Puppe",
          "My Best Girl",
          "Street Angel",
          "Tretya meshchanskaya",
          "Le sang d'un poète",
          "Judex",
          "Orphans of the Storm",
          "Schaste",
          "Kurutta ippêji",
          "The Pilgrim",
          "Hell's Angels",
          "Frau im Mond",
          "Staroye i novoye",
          "Broken Blossoms or The Yellow Man and the Girl",
          "Berg-Ejvind och hans hustru",
          "Die Liebe der Jeanne Ney",
          "Arsenal",
          "Sparrows",
          "Shoulder Arms"
         ],
         "xaxis": "x",
         "y": [
          173,
          495,
          321,
          190,
          65,
          250,
          66,
          91,
          88,
          29,
          195,
          237,
          288,
          61,
          327,
          61,
          68,
          210,
          40,
          49,
          240,
          55,
          50,
          20,
          90,
          419,
          79,
          56,
          109,
          18,
          111,
          36,
          48,
          19,
          10,
          47,
          54,
          15,
          10,
          34,
          66,
          104,
          55,
          29,
          63,
          15,
          33,
          59,
          47,
          28,
          39,
          152,
          19,
          10,
          37,
          39,
          28,
          31,
          30,
          32,
          17,
          99,
          22,
          19,
          6,
          17,
          50,
          24,
          null,
          7,
          95,
          13,
          36,
          18,
          34,
          12,
          26,
          51,
          18,
          13,
          19,
          12,
          22,
          29,
          9,
          34,
          11,
          40,
          5,
          30,
          26,
          65,
          35,
          5,
          89,
          12,
          10,
          15,
          33,
          38
         ],
         "yaxis": "y"
        },
        {
         "hovertemplate": "variable=Reviews from critics<br>Movie_Name=%{x}<br>value=%{y}<extra></extra>",
         "legendgroup": "Reviews from critics",
         "line": {
          "color": "#EF553B",
          "dash": "solid"
         },
         "marker": {
          "symbol": "circle"
         },
         "mode": "lines",
         "name": "Reviews from critics",
         "orientation": "v",
         "showlegend": true,
         "type": "scatter",
         "x": [
          "The Kid",
          "Metropolis",
          "Sherlock Jr.",
          "The Gold Rush",
          "Faust: Eine deutsche Volkssage",
          "Sunrise: A Song of Two Humans",
          "Napoléon vu par Abel Gance",
          "Safety Last!",
          "Greed",
          "Die Nibelungen: Siegfried",
          "La passion de Jeanne d'Arc",
          "Das Cabinet des Dr. Caligari",
          "The General",
          "Der letzte Mann",
          "The Circus",
          "The Cameraman",
          "Körkarlen",
          "Bronenosets Potemkin",
          "The Last Command",
          "The Wind",
          "All Quiet on the Western Front",
          "Seven Chances",
          "Tagebuch einer Verlorenen",
          "Die Nibelungen: Kriemhilds Rache",
          "Die Büchse der Pandora",
          "Nosferatu, eine Symphonie des Grauens",
          "Steamboat Bill, Jr.",
          "The Big Parade",
          "The Unknown",
          "Lonesome",
          "Intolerance: Love's Struggle Throughout the Ages",
          "City Girl",
          "He Who Gets Slapped",
          "Lucky Star",
          "Le roman de Renard",
          "Die Abenteuer des Prinzen Achmed",
          "Our Hospitality",
          "Visages d'enfants",
          "Po zakonu",
          "Der müde Tod",
          "The Man Who Laughs",
          "Der blaue Engel",
          "The Navigator",
          "The Scarlet Letter",
          "Girl Shy",
          "J'accuse",
          "Speedy",
          "The Thief of Bagdad",
          "Laugh, Clown, Laugh",
          "Spione",
          "Flesh and the Devil",
          "The Phantom of the Opera",
          "A Cottage on Dartmoor",
          "L'argent",
          "Show People",
          "Stachka",
          "The Student Prince in Old Heidelberg",
          "Underworld",
          "The Kid Brother",
          "7th Heaven",
          "The Wedding March",
          "Animal Crackers",
          "The Patsy",
          "La roue",
          "Coeur fidèle",
          "For Heaven's Sake",
          "Oktyabr",
          "Beggars of Life",
          "Almost Human",
          "L'enfant de Paris",
          "Wings",
          "Mat",
          "The Freshman",
          "3 Bad Men",
          "The Docks of New York",
          "Terje Vigen",
          "Why Worry?",
          "Way Down East",
          "Asphalt",
          "Varieté",
          "Menschen am Sonntag",
          "Die Puppe",
          "My Best Girl",
          "Street Angel",
          "Tretya meshchanskaya",
          "Le sang d'un poète",
          "Judex",
          "Orphans of the Storm",
          "Schaste",
          "Kurutta ippêji",
          "The Pilgrim",
          "Hell's Angels",
          "Frau im Mond",
          "Staroye i novoye",
          "Broken Blossoms or The Yellow Man and the Girl",
          "Berg-Ejvind och hans hustru",
          "Die Liebe der Jeanne Ney",
          "Arsenal",
          "Sparrows",
          "Shoulder Arms"
         ],
         "xaxis": "x",
         "y": [
          105,
          208,
          71,
          125,
          54,
          186,
          44,
          93,
          50,
          51,
          137,
          160,
          117,
          82,
          65,
          49,
          82,
          85,
          43,
          31,
          102,
          53,
          41,
          42,
          85,
          202,
          69,
          54,
          53,
          36,
          77,
          31,
          22,
          14,
          7,
          47,
          47,
          11,
          15,
          43,
          40,
          101,
          39,
          13,
          13,
          25,
          36,
          65,
          12,
          46,
          28,
          99,
          16,
          17,
          15,
          33,
          11,
          50,
          25,
          34,
          21,
          49,
          10,
          30,
          17,
          12,
          23,
          17,
          null,
          4,
          92,
          13,
          39,
          22,
          51,
          9,
          12,
          30,
          18,
          19,
          46,
          21,
          12,
          23,
          9,
          47,
          15,
          24,
          11,
          27,
          15,
          41,
          35,
          18,
          78,
          17,
          11,
          21,
          24,
          21
         ],
         "yaxis": "y"
        }
       ],
       "layout": {
        "legend": {
         "title": {
          "text": "variable"
         },
         "tracegroupgap": 0
        },
        "margin": {
         "t": 60
        },
        "template": {
         "data": {
          "bar": [
           {
            "error_x": {
             "color": "#f2f5fa"
            },
            "error_y": {
             "color": "#f2f5fa"
            },
            "marker": {
             "line": {
              "color": "rgb(17,17,17)",
              "width": 0.5
             },
             "pattern": {
              "fillmode": "overlay",
              "size": 10,
              "solidity": 0.2
             }
            },
            "type": "bar"
           }
          ],
          "barpolar": [
           {
            "marker": {
             "line": {
              "color": "rgb(17,17,17)",
              "width": 0.5
             },
             "pattern": {
              "fillmode": "overlay",
              "size": 10,
              "solidity": 0.2
             }
            },
            "type": "barpolar"
           }
          ],
          "carpet": [
           {
            "aaxis": {
             "endlinecolor": "#A2B1C6",
             "gridcolor": "#506784",
             "linecolor": "#506784",
             "minorgridcolor": "#506784",
             "startlinecolor": "#A2B1C6"
            },
            "baxis": {
             "endlinecolor": "#A2B1C6",
             "gridcolor": "#506784",
             "linecolor": "#506784",
             "minorgridcolor": "#506784",
             "startlinecolor": "#A2B1C6"
            },
            "type": "carpet"
           }
          ],
          "choropleth": [
           {
            "colorbar": {
             "outlinewidth": 0,
             "ticks": ""
            },
            "type": "choropleth"
           }
          ],
          "contour": [
           {
            "colorbar": {
             "outlinewidth": 0,
             "ticks": ""
            },
            "colorscale": [
             [
              0,
              "#0d0887"
             ],
             [
              0.1111111111111111,
              "#46039f"
             ],
             [
              0.2222222222222222,
              "#7201a8"
             ],
             [
              0.3333333333333333,
              "#9c179e"
             ],
             [
              0.4444444444444444,
              "#bd3786"
             ],
             [
              0.5555555555555556,
              "#d8576b"
             ],
             [
              0.6666666666666666,
              "#ed7953"
             ],
             [
              0.7777777777777778,
              "#fb9f3a"
             ],
             [
              0.8888888888888888,
              "#fdca26"
             ],
             [
              1,
              "#f0f921"
             ]
            ],
            "type": "contour"
           }
          ],
          "contourcarpet": [
           {
            "colorbar": {
             "outlinewidth": 0,
             "ticks": ""
            },
            "type": "contourcarpet"
           }
          ],
          "heatmap": [
           {
            "colorbar": {
             "outlinewidth": 0,
             "ticks": ""
            },
            "colorscale": [
             [
              0,
              "#0d0887"
             ],
             [
              0.1111111111111111,
              "#46039f"
             ],
             [
              0.2222222222222222,
              "#7201a8"
             ],
             [
              0.3333333333333333,
              "#9c179e"
             ],
             [
              0.4444444444444444,
              "#bd3786"
             ],
             [
              0.5555555555555556,
              "#d8576b"
             ],
             [
              0.6666666666666666,
              "#ed7953"
             ],
             [
              0.7777777777777778,
              "#fb9f3a"
             ],
             [
              0.8888888888888888,
              "#fdca26"
             ],
             [
              1,
              "#f0f921"
             ]
            ],
            "type": "heatmap"
           }
          ],
          "heatmapgl": [
           {
            "colorbar": {
             "outlinewidth": 0,
             "ticks": ""
            },
            "colorscale": [
             [
              0,
              "#0d0887"
             ],
             [
              0.1111111111111111,
              "#46039f"
             ],
             [
              0.2222222222222222,
              "#7201a8"
             ],
             [
              0.3333333333333333,
              "#9c179e"
             ],
             [
              0.4444444444444444,
              "#bd3786"
             ],
             [
              0.5555555555555556,
              "#d8576b"
             ],
             [
              0.6666666666666666,
              "#ed7953"
             ],
             [
              0.7777777777777778,
              "#fb9f3a"
             ],
             [
              0.8888888888888888,
              "#fdca26"
             ],
             [
              1,
              "#f0f921"
             ]
            ],
            "type": "heatmapgl"
           }
          ],
          "histogram": [
           {
            "marker": {
             "pattern": {
              "fillmode": "overlay",
              "size": 10,
              "solidity": 0.2
             }
            },
            "type": "histogram"
           }
          ],
          "histogram2d": [
           {
            "colorbar": {
             "outlinewidth": 0,
             "ticks": ""
            },
            "colorscale": [
             [
              0,
              "#0d0887"
             ],
             [
              0.1111111111111111,
              "#46039f"
             ],
             [
              0.2222222222222222,
              "#7201a8"
             ],
             [
              0.3333333333333333,
              "#9c179e"
             ],
             [
              0.4444444444444444,
              "#bd3786"
             ],
             [
              0.5555555555555556,
              "#d8576b"
             ],
             [
              0.6666666666666666,
              "#ed7953"
             ],
             [
              0.7777777777777778,
              "#fb9f3a"
             ],
             [
              0.8888888888888888,
              "#fdca26"
             ],
             [
              1,
              "#f0f921"
             ]
            ],
            "type": "histogram2d"
           }
          ],
          "histogram2dcontour": [
           {
            "colorbar": {
             "outlinewidth": 0,
             "ticks": ""
            },
            "colorscale": [
             [
              0,
              "#0d0887"
             ],
             [
              0.1111111111111111,
              "#46039f"
             ],
             [
              0.2222222222222222,
              "#7201a8"
             ],
             [
              0.3333333333333333,
              "#9c179e"
             ],
             [
              0.4444444444444444,
              "#bd3786"
             ],
             [
              0.5555555555555556,
              "#d8576b"
             ],
             [
              0.6666666666666666,
              "#ed7953"
             ],
             [
              0.7777777777777778,
              "#fb9f3a"
             ],
             [
              0.8888888888888888,
              "#fdca26"
             ],
             [
              1,
              "#f0f921"
             ]
            ],
            "type": "histogram2dcontour"
           }
          ],
          "mesh3d": [
           {
            "colorbar": {
             "outlinewidth": 0,
             "ticks": ""
            },
            "type": "mesh3d"
           }
          ],
          "parcoords": [
           {
            "line": {
             "colorbar": {
              "outlinewidth": 0,
              "ticks": ""
             }
            },
            "type": "parcoords"
           }
          ],
          "pie": [
           {
            "automargin": true,
            "type": "pie"
           }
          ],
          "scatter": [
           {
            "marker": {
             "line": {
              "color": "#283442"
             }
            },
            "type": "scatter"
           }
          ],
          "scatter3d": [
           {
            "line": {
             "colorbar": {
              "outlinewidth": 0,
              "ticks": ""
             }
            },
            "marker": {
             "colorbar": {
              "outlinewidth": 0,
              "ticks": ""
             }
            },
            "type": "scatter3d"
           }
          ],
          "scattercarpet": [
           {
            "marker": {
             "colorbar": {
              "outlinewidth": 0,
              "ticks": ""
             }
            },
            "type": "scattercarpet"
           }
          ],
          "scattergeo": [
           {
            "marker": {
             "colorbar": {
              "outlinewidth": 0,
              "ticks": ""
             }
            },
            "type": "scattergeo"
           }
          ],
          "scattergl": [
           {
            "marker": {
             "line": {
              "color": "#283442"
             }
            },
            "type": "scattergl"
           }
          ],
          "scattermapbox": [
           {
            "marker": {
             "colorbar": {
              "outlinewidth": 0,
              "ticks": ""
             }
            },
            "type": "scattermapbox"
           }
          ],
          "scatterpolar": [
           {
            "marker": {
             "colorbar": {
              "outlinewidth": 0,
              "ticks": ""
             }
            },
            "type": "scatterpolar"
           }
          ],
          "scatterpolargl": [
           {
            "marker": {
             "colorbar": {
              "outlinewidth": 0,
              "ticks": ""
             }
            },
            "type": "scatterpolargl"
           }
          ],
          "scatterternary": [
           {
            "marker": {
             "colorbar": {
              "outlinewidth": 0,
              "ticks": ""
             }
            },
            "type": "scatterternary"
           }
          ],
          "surface": [
           {
            "colorbar": {
             "outlinewidth": 0,
             "ticks": ""
            },
            "colorscale": [
             [
              0,
              "#0d0887"
             ],
             [
              0.1111111111111111,
              "#46039f"
             ],
             [
              0.2222222222222222,
              "#7201a8"
             ],
             [
              0.3333333333333333,
              "#9c179e"
             ],
             [
              0.4444444444444444,
              "#bd3786"
             ],
             [
              0.5555555555555556,
              "#d8576b"
             ],
             [
              0.6666666666666666,
              "#ed7953"
             ],
             [
              0.7777777777777778,
              "#fb9f3a"
             ],
             [
              0.8888888888888888,
              "#fdca26"
             ],
             [
              1,
              "#f0f921"
             ]
            ],
            "type": "surface"
           }
          ],
          "table": [
           {
            "cells": {
             "fill": {
              "color": "#506784"
             },
             "line": {
              "color": "rgb(17,17,17)"
             }
            },
            "header": {
             "fill": {
              "color": "#2a3f5f"
             },
             "line": {
              "color": "rgb(17,17,17)"
             }
            },
            "type": "table"
           }
          ]
         },
         "layout": {
          "annotationdefaults": {
           "arrowcolor": "#f2f5fa",
           "arrowhead": 0,
           "arrowwidth": 1
          },
          "autotypenumbers": "strict",
          "coloraxis": {
           "colorbar": {
            "outlinewidth": 0,
            "ticks": ""
           }
          },
          "colorscale": {
           "diverging": [
            [
             0,
             "#8e0152"
            ],
            [
             0.1,
             "#c51b7d"
            ],
            [
             0.2,
             "#de77ae"
            ],
            [
             0.3,
             "#f1b6da"
            ],
            [
             0.4,
             "#fde0ef"
            ],
            [
             0.5,
             "#f7f7f7"
            ],
            [
             0.6,
             "#e6f5d0"
            ],
            [
             0.7,
             "#b8e186"
            ],
            [
             0.8,
             "#7fbc41"
            ],
            [
             0.9,
             "#4d9221"
            ],
            [
             1,
             "#276419"
            ]
           ],
           "sequential": [
            [
             0,
             "#0d0887"
            ],
            [
             0.1111111111111111,
             "#46039f"
            ],
            [
             0.2222222222222222,
             "#7201a8"
            ],
            [
             0.3333333333333333,
             "#9c179e"
            ],
            [
             0.4444444444444444,
             "#bd3786"
            ],
            [
             0.5555555555555556,
             "#d8576b"
            ],
            [
             0.6666666666666666,
             "#ed7953"
            ],
            [
             0.7777777777777778,
             "#fb9f3a"
            ],
            [
             0.8888888888888888,
             "#fdca26"
            ],
            [
             1,
             "#f0f921"
            ]
           ],
           "sequentialminus": [
            [
             0,
             "#0d0887"
            ],
            [
             0.1111111111111111,
             "#46039f"
            ],
            [
             0.2222222222222222,
             "#7201a8"
            ],
            [
             0.3333333333333333,
             "#9c179e"
            ],
            [
             0.4444444444444444,
             "#bd3786"
            ],
            [
             0.5555555555555556,
             "#d8576b"
            ],
            [
             0.6666666666666666,
             "#ed7953"
            ],
            [
             0.7777777777777778,
             "#fb9f3a"
            ],
            [
             0.8888888888888888,
             "#fdca26"
            ],
            [
             1,
             "#f0f921"
            ]
           ]
          },
          "colorway": [
           "#636efa",
           "#EF553B",
           "#00cc96",
           "#ab63fa",
           "#FFA15A",
           "#19d3f3",
           "#FF6692",
           "#B6E880",
           "#FF97FF",
           "#FECB52"
          ],
          "font": {
           "color": "#f2f5fa"
          },
          "geo": {
           "bgcolor": "rgb(17,17,17)",
           "lakecolor": "rgb(17,17,17)",
           "landcolor": "rgb(17,17,17)",
           "showlakes": true,
           "showland": true,
           "subunitcolor": "#506784"
          },
          "hoverlabel": {
           "align": "left"
          },
          "hovermode": "closest",
          "mapbox": {
           "style": "dark"
          },
          "paper_bgcolor": "rgb(17,17,17)",
          "plot_bgcolor": "rgb(17,17,17)",
          "polar": {
           "angularaxis": {
            "gridcolor": "#506784",
            "linecolor": "#506784",
            "ticks": ""
           },
           "bgcolor": "rgb(17,17,17)",
           "radialaxis": {
            "gridcolor": "#506784",
            "linecolor": "#506784",
            "ticks": ""
           }
          },
          "scene": {
           "xaxis": {
            "backgroundcolor": "rgb(17,17,17)",
            "gridcolor": "#506784",
            "gridwidth": 2,
            "linecolor": "#506784",
            "showbackground": true,
            "ticks": "",
            "zerolinecolor": "#C8D4E3"
           },
           "yaxis": {
            "backgroundcolor": "rgb(17,17,17)",
            "gridcolor": "#506784",
            "gridwidth": 2,
            "linecolor": "#506784",
            "showbackground": true,
            "ticks": "",
            "zerolinecolor": "#C8D4E3"
           },
           "zaxis": {
            "backgroundcolor": "rgb(17,17,17)",
            "gridcolor": "#506784",
            "gridwidth": 2,
            "linecolor": "#506784",
            "showbackground": true,
            "ticks": "",
            "zerolinecolor": "#C8D4E3"
           }
          },
          "shapedefaults": {
           "line": {
            "color": "#f2f5fa"
           }
          },
          "sliderdefaults": {
           "bgcolor": "#C8D4E3",
           "bordercolor": "rgb(17,17,17)",
           "borderwidth": 1,
           "tickwidth": 0
          },
          "ternary": {
           "aaxis": {
            "gridcolor": "#506784",
            "linecolor": "#506784",
            "ticks": ""
           },
           "baxis": {
            "gridcolor": "#506784",
            "linecolor": "#506784",
            "ticks": ""
           },
           "bgcolor": "rgb(17,17,17)",
           "caxis": {
            "gridcolor": "#506784",
            "linecolor": "#506784",
            "ticks": ""
           }
          },
          "title": {
           "x": 0.05
          },
          "updatemenudefaults": {
           "bgcolor": "#506784",
           "borderwidth": 0
          },
          "xaxis": {
           "automargin": true,
           "gridcolor": "#283442",
           "linecolor": "#506784",
           "ticks": "",
           "title": {
            "standoff": 15
           },
           "zerolinecolor": "#283442",
           "zerolinewidth": 2
          },
          "yaxis": {
           "automargin": true,
           "gridcolor": "#283442",
           "linecolor": "#506784",
           "ticks": "",
           "title": {
            "standoff": 15
           },
           "zerolinecolor": "#283442",
           "zerolinewidth": 2
          }
         }
        },
        "xaxis": {
         "anchor": "y",
         "domain": [
          0,
          1
         ],
         "title": {
          "text": "Movie_Name"
         }
        },
        "yaxis": {
         "anchor": "x",
         "domain": [
          0,
          1
         ],
         "title": {
          "text": "value"
         }
        }
       }
      }
     },
     "metadata": {},
     "output_type": "display_data"
    }
   ],
   "source": [
    "fig=px.line(dfb.head(100), x='Movie_Name' , y=['Reviews from users', 'Reviews from critics'], template='plotly_dark')\n",
    "fig.show()"
   ]
  },
  {
   "cell_type": "code",
   "execution_count": 49,
   "metadata": {},
   "outputs": [],
   "source": [
    "dfv=dfz.groupby('Director',as_index=False).count().sort_values('Year',ascending=False)"
   ]
  },
  {
   "cell_type": "code",
   "execution_count": 50,
   "metadata": {},
   "outputs": [
    {
     "data": {
      "application/vnd.plotly.v1+json": {
       "config": {
        "plotlyServerURL": "https://plot.ly"
       },
       "data": [
        {
         "alignmentgroup": "True",
         "bingroup": "x",
         "histfunc": "sum",
         "hovertemplate": "Director=%{x}<br>sum of Movie_Name=%{y}<extra></extra>",
         "legendgroup": "",
         "marker": {
          "color": "#636efa",
          "pattern": {
           "shape": ""
          }
         },
         "name": "",
         "offsetgroup": "",
         "orientation": "v",
         "showlegend": false,
         "type": "histogram",
         "x": [
          "Charles Chaplin",
          "F.W. Murnau",
          "Fritz Lang",
          "Victor Sjöström",
          "Abel Gance",
          "Buster Keaton",
          "Carl Theodor Dreyer",
          "Clyde Bruckman, Buster Keaton",
          "Edward Sedgwick, Buster Keaton",
          "Erich von Stroheim",
          "Fred C. Newmeyer, Sam Taylor",
          "Josef von Sternberg",
          "Lewis Milestone",
          "Robert Wiene",
          "Sergei M. Eisenstein"
         ],
         "xaxis": "x",
         "y": [
          3,
          3,
          2,
          2,
          1,
          1,
          1,
          1,
          1,
          1,
          1,
          1,
          1,
          1,
          1
         ],
         "yaxis": "y"
        }
       ],
       "layout": {
        "barmode": "relative",
        "legend": {
         "tracegroupgap": 0
        },
        "margin": {
         "t": 60
        },
        "template": {
         "data": {
          "bar": [
           {
            "error_x": {
             "color": "#f2f5fa"
            },
            "error_y": {
             "color": "#f2f5fa"
            },
            "marker": {
             "line": {
              "color": "rgb(17,17,17)",
              "width": 0.5
             },
             "pattern": {
              "fillmode": "overlay",
              "size": 10,
              "solidity": 0.2
             }
            },
            "type": "bar"
           }
          ],
          "barpolar": [
           {
            "marker": {
             "line": {
              "color": "rgb(17,17,17)",
              "width": 0.5
             },
             "pattern": {
              "fillmode": "overlay",
              "size": 10,
              "solidity": 0.2
             }
            },
            "type": "barpolar"
           }
          ],
          "carpet": [
           {
            "aaxis": {
             "endlinecolor": "#A2B1C6",
             "gridcolor": "#506784",
             "linecolor": "#506784",
             "minorgridcolor": "#506784",
             "startlinecolor": "#A2B1C6"
            },
            "baxis": {
             "endlinecolor": "#A2B1C6",
             "gridcolor": "#506784",
             "linecolor": "#506784",
             "minorgridcolor": "#506784",
             "startlinecolor": "#A2B1C6"
            },
            "type": "carpet"
           }
          ],
          "choropleth": [
           {
            "colorbar": {
             "outlinewidth": 0,
             "ticks": ""
            },
            "type": "choropleth"
           }
          ],
          "contour": [
           {
            "colorbar": {
             "outlinewidth": 0,
             "ticks": ""
            },
            "colorscale": [
             [
              0,
              "#0d0887"
             ],
             [
              0.1111111111111111,
              "#46039f"
             ],
             [
              0.2222222222222222,
              "#7201a8"
             ],
             [
              0.3333333333333333,
              "#9c179e"
             ],
             [
              0.4444444444444444,
              "#bd3786"
             ],
             [
              0.5555555555555556,
              "#d8576b"
             ],
             [
              0.6666666666666666,
              "#ed7953"
             ],
             [
              0.7777777777777778,
              "#fb9f3a"
             ],
             [
              0.8888888888888888,
              "#fdca26"
             ],
             [
              1,
              "#f0f921"
             ]
            ],
            "type": "contour"
           }
          ],
          "contourcarpet": [
           {
            "colorbar": {
             "outlinewidth": 0,
             "ticks": ""
            },
            "type": "contourcarpet"
           }
          ],
          "heatmap": [
           {
            "colorbar": {
             "outlinewidth": 0,
             "ticks": ""
            },
            "colorscale": [
             [
              0,
              "#0d0887"
             ],
             [
              0.1111111111111111,
              "#46039f"
             ],
             [
              0.2222222222222222,
              "#7201a8"
             ],
             [
              0.3333333333333333,
              "#9c179e"
             ],
             [
              0.4444444444444444,
              "#bd3786"
             ],
             [
              0.5555555555555556,
              "#d8576b"
             ],
             [
              0.6666666666666666,
              "#ed7953"
             ],
             [
              0.7777777777777778,
              "#fb9f3a"
             ],
             [
              0.8888888888888888,
              "#fdca26"
             ],
             [
              1,
              "#f0f921"
             ]
            ],
            "type": "heatmap"
           }
          ],
          "heatmapgl": [
           {
            "colorbar": {
             "outlinewidth": 0,
             "ticks": ""
            },
            "colorscale": [
             [
              0,
              "#0d0887"
             ],
             [
              0.1111111111111111,
              "#46039f"
             ],
             [
              0.2222222222222222,
              "#7201a8"
             ],
             [
              0.3333333333333333,
              "#9c179e"
             ],
             [
              0.4444444444444444,
              "#bd3786"
             ],
             [
              0.5555555555555556,
              "#d8576b"
             ],
             [
              0.6666666666666666,
              "#ed7953"
             ],
             [
              0.7777777777777778,
              "#fb9f3a"
             ],
             [
              0.8888888888888888,
              "#fdca26"
             ],
             [
              1,
              "#f0f921"
             ]
            ],
            "type": "heatmapgl"
           }
          ],
          "histogram": [
           {
            "marker": {
             "pattern": {
              "fillmode": "overlay",
              "size": 10,
              "solidity": 0.2
             }
            },
            "type": "histogram"
           }
          ],
          "histogram2d": [
           {
            "colorbar": {
             "outlinewidth": 0,
             "ticks": ""
            },
            "colorscale": [
             [
              0,
              "#0d0887"
             ],
             [
              0.1111111111111111,
              "#46039f"
             ],
             [
              0.2222222222222222,
              "#7201a8"
             ],
             [
              0.3333333333333333,
              "#9c179e"
             ],
             [
              0.4444444444444444,
              "#bd3786"
             ],
             [
              0.5555555555555556,
              "#d8576b"
             ],
             [
              0.6666666666666666,
              "#ed7953"
             ],
             [
              0.7777777777777778,
              "#fb9f3a"
             ],
             [
              0.8888888888888888,
              "#fdca26"
             ],
             [
              1,
              "#f0f921"
             ]
            ],
            "type": "histogram2d"
           }
          ],
          "histogram2dcontour": [
           {
            "colorbar": {
             "outlinewidth": 0,
             "ticks": ""
            },
            "colorscale": [
             [
              0,
              "#0d0887"
             ],
             [
              0.1111111111111111,
              "#46039f"
             ],
             [
              0.2222222222222222,
              "#7201a8"
             ],
             [
              0.3333333333333333,
              "#9c179e"
             ],
             [
              0.4444444444444444,
              "#bd3786"
             ],
             [
              0.5555555555555556,
              "#d8576b"
             ],
             [
              0.6666666666666666,
              "#ed7953"
             ],
             [
              0.7777777777777778,
              "#fb9f3a"
             ],
             [
              0.8888888888888888,
              "#fdca26"
             ],
             [
              1,
              "#f0f921"
             ]
            ],
            "type": "histogram2dcontour"
           }
          ],
          "mesh3d": [
           {
            "colorbar": {
             "outlinewidth": 0,
             "ticks": ""
            },
            "type": "mesh3d"
           }
          ],
          "parcoords": [
           {
            "line": {
             "colorbar": {
              "outlinewidth": 0,
              "ticks": ""
             }
            },
            "type": "parcoords"
           }
          ],
          "pie": [
           {
            "automargin": true,
            "type": "pie"
           }
          ],
          "scatter": [
           {
            "marker": {
             "line": {
              "color": "#283442"
             }
            },
            "type": "scatter"
           }
          ],
          "scatter3d": [
           {
            "line": {
             "colorbar": {
              "outlinewidth": 0,
              "ticks": ""
             }
            },
            "marker": {
             "colorbar": {
              "outlinewidth": 0,
              "ticks": ""
             }
            },
            "type": "scatter3d"
           }
          ],
          "scattercarpet": [
           {
            "marker": {
             "colorbar": {
              "outlinewidth": 0,
              "ticks": ""
             }
            },
            "type": "scattercarpet"
           }
          ],
          "scattergeo": [
           {
            "marker": {
             "colorbar": {
              "outlinewidth": 0,
              "ticks": ""
             }
            },
            "type": "scattergeo"
           }
          ],
          "scattergl": [
           {
            "marker": {
             "line": {
              "color": "#283442"
             }
            },
            "type": "scattergl"
           }
          ],
          "scattermapbox": [
           {
            "marker": {
             "colorbar": {
              "outlinewidth": 0,
              "ticks": ""
             }
            },
            "type": "scattermapbox"
           }
          ],
          "scatterpolar": [
           {
            "marker": {
             "colorbar": {
              "outlinewidth": 0,
              "ticks": ""
             }
            },
            "type": "scatterpolar"
           }
          ],
          "scatterpolargl": [
           {
            "marker": {
             "colorbar": {
              "outlinewidth": 0,
              "ticks": ""
             }
            },
            "type": "scatterpolargl"
           }
          ],
          "scatterternary": [
           {
            "marker": {
             "colorbar": {
              "outlinewidth": 0,
              "ticks": ""
             }
            },
            "type": "scatterternary"
           }
          ],
          "surface": [
           {
            "colorbar": {
             "outlinewidth": 0,
             "ticks": ""
            },
            "colorscale": [
             [
              0,
              "#0d0887"
             ],
             [
              0.1111111111111111,
              "#46039f"
             ],
             [
              0.2222222222222222,
              "#7201a8"
             ],
             [
              0.3333333333333333,
              "#9c179e"
             ],
             [
              0.4444444444444444,
              "#bd3786"
             ],
             [
              0.5555555555555556,
              "#d8576b"
             ],
             [
              0.6666666666666666,
              "#ed7953"
             ],
             [
              0.7777777777777778,
              "#fb9f3a"
             ],
             [
              0.8888888888888888,
              "#fdca26"
             ],
             [
              1,
              "#f0f921"
             ]
            ],
            "type": "surface"
           }
          ],
          "table": [
           {
            "cells": {
             "fill": {
              "color": "#506784"
             },
             "line": {
              "color": "rgb(17,17,17)"
             }
            },
            "header": {
             "fill": {
              "color": "#2a3f5f"
             },
             "line": {
              "color": "rgb(17,17,17)"
             }
            },
            "type": "table"
           }
          ]
         },
         "layout": {
          "annotationdefaults": {
           "arrowcolor": "#f2f5fa",
           "arrowhead": 0,
           "arrowwidth": 1
          },
          "autotypenumbers": "strict",
          "coloraxis": {
           "colorbar": {
            "outlinewidth": 0,
            "ticks": ""
           }
          },
          "colorscale": {
           "diverging": [
            [
             0,
             "#8e0152"
            ],
            [
             0.1,
             "#c51b7d"
            ],
            [
             0.2,
             "#de77ae"
            ],
            [
             0.3,
             "#f1b6da"
            ],
            [
             0.4,
             "#fde0ef"
            ],
            [
             0.5,
             "#f7f7f7"
            ],
            [
             0.6,
             "#e6f5d0"
            ],
            [
             0.7,
             "#b8e186"
            ],
            [
             0.8,
             "#7fbc41"
            ],
            [
             0.9,
             "#4d9221"
            ],
            [
             1,
             "#276419"
            ]
           ],
           "sequential": [
            [
             0,
             "#0d0887"
            ],
            [
             0.1111111111111111,
             "#46039f"
            ],
            [
             0.2222222222222222,
             "#7201a8"
            ],
            [
             0.3333333333333333,
             "#9c179e"
            ],
            [
             0.4444444444444444,
             "#bd3786"
            ],
            [
             0.5555555555555556,
             "#d8576b"
            ],
            [
             0.6666666666666666,
             "#ed7953"
            ],
            [
             0.7777777777777778,
             "#fb9f3a"
            ],
            [
             0.8888888888888888,
             "#fdca26"
            ],
            [
             1,
             "#f0f921"
            ]
           ],
           "sequentialminus": [
            [
             0,
             "#0d0887"
            ],
            [
             0.1111111111111111,
             "#46039f"
            ],
            [
             0.2222222222222222,
             "#7201a8"
            ],
            [
             0.3333333333333333,
             "#9c179e"
            ],
            [
             0.4444444444444444,
             "#bd3786"
            ],
            [
             0.5555555555555556,
             "#d8576b"
            ],
            [
             0.6666666666666666,
             "#ed7953"
            ],
            [
             0.7777777777777778,
             "#fb9f3a"
            ],
            [
             0.8888888888888888,
             "#fdca26"
            ],
            [
             1,
             "#f0f921"
            ]
           ]
          },
          "colorway": [
           "#636efa",
           "#EF553B",
           "#00cc96",
           "#ab63fa",
           "#FFA15A",
           "#19d3f3",
           "#FF6692",
           "#B6E880",
           "#FF97FF",
           "#FECB52"
          ],
          "font": {
           "color": "#f2f5fa"
          },
          "geo": {
           "bgcolor": "rgb(17,17,17)",
           "lakecolor": "rgb(17,17,17)",
           "landcolor": "rgb(17,17,17)",
           "showlakes": true,
           "showland": true,
           "subunitcolor": "#506784"
          },
          "hoverlabel": {
           "align": "left"
          },
          "hovermode": "closest",
          "mapbox": {
           "style": "dark"
          },
          "paper_bgcolor": "rgb(17,17,17)",
          "plot_bgcolor": "rgb(17,17,17)",
          "polar": {
           "angularaxis": {
            "gridcolor": "#506784",
            "linecolor": "#506784",
            "ticks": ""
           },
           "bgcolor": "rgb(17,17,17)",
           "radialaxis": {
            "gridcolor": "#506784",
            "linecolor": "#506784",
            "ticks": ""
           }
          },
          "scene": {
           "xaxis": {
            "backgroundcolor": "rgb(17,17,17)",
            "gridcolor": "#506784",
            "gridwidth": 2,
            "linecolor": "#506784",
            "showbackground": true,
            "ticks": "",
            "zerolinecolor": "#C8D4E3"
           },
           "yaxis": {
            "backgroundcolor": "rgb(17,17,17)",
            "gridcolor": "#506784",
            "gridwidth": 2,
            "linecolor": "#506784",
            "showbackground": true,
            "ticks": "",
            "zerolinecolor": "#C8D4E3"
           },
           "zaxis": {
            "backgroundcolor": "rgb(17,17,17)",
            "gridcolor": "#506784",
            "gridwidth": 2,
            "linecolor": "#506784",
            "showbackground": true,
            "ticks": "",
            "zerolinecolor": "#C8D4E3"
           }
          },
          "shapedefaults": {
           "line": {
            "color": "#f2f5fa"
           }
          },
          "sliderdefaults": {
           "bgcolor": "#C8D4E3",
           "bordercolor": "rgb(17,17,17)",
           "borderwidth": 1,
           "tickwidth": 0
          },
          "ternary": {
           "aaxis": {
            "gridcolor": "#506784",
            "linecolor": "#506784",
            "ticks": ""
           },
           "baxis": {
            "gridcolor": "#506784",
            "linecolor": "#506784",
            "ticks": ""
           },
           "bgcolor": "rgb(17,17,17)",
           "caxis": {
            "gridcolor": "#506784",
            "linecolor": "#506784",
            "ticks": ""
           }
          },
          "title": {
           "x": 0.05
          },
          "updatemenudefaults": {
           "bgcolor": "#506784",
           "borderwidth": 0
          },
          "xaxis": {
           "automargin": true,
           "gridcolor": "#283442",
           "linecolor": "#506784",
           "ticks": "",
           "title": {
            "standoff": 15
           },
           "zerolinecolor": "#283442",
           "zerolinewidth": 2
          },
          "yaxis": {
           "automargin": true,
           "gridcolor": "#283442",
           "linecolor": "#506784",
           "ticks": "",
           "title": {
            "standoff": 15
           },
           "zerolinecolor": "#283442",
           "zerolinewidth": 2
          }
         }
        },
        "xaxis": {
         "anchor": "y",
         "domain": [
          0,
          1
         ],
         "title": {
          "text": "Director"
         }
        },
        "yaxis": {
         "anchor": "x",
         "domain": [
          0,
          1
         ],
         "title": {
          "text": "sum of Movie_Name"
         }
        }
       }
      }
     },
     "metadata": {},
     "output_type": "display_data"
    }
   ],
   "source": [
    "px.histogram( data_frame = dfv, x = 'Director', y='Movie_Name' , template='plotly_dark')"
   ]
  },
  {
   "cell_type": "code",
   "execution_count": 51,
   "metadata": {},
   "outputs": [],
   "source": [
    "dfx=df[(df['Rating']>7.9)]"
   ]
  },
  {
   "cell_type": "code",
   "execution_count": 52,
   "metadata": {},
   "outputs": [
    {
     "data": {
      "application/vnd.plotly.v1+json": {
       "config": {
        "plotlyServerURL": "https://plot.ly"
       },
       "data": [
        {
         "hovertemplate": "<b>%{hovertext}</b><br><br>Genre=Fantasy, Horror, Mystery<br>Language=%{x}<br>Country=%{y}<br>Year=%{z}<br>votes=%{marker.size}<extra></extra>",
         "hovertext": [
          "Das Cabinet des Dr. Caligari"
         ],
         "legendgroup": "Fantasy, Horror, Mystery",
         "marker": {
          "color": "#636efa",
          "size": [
           55601
          ],
          "sizemode": "area",
          "sizeref": 390.19,
          "symbol": "circle"
         },
         "mode": "markers",
         "name": "Fantasy, Horror, Mystery",
         "scene": "scene",
         "showlegend": true,
         "type": "scatter3d",
         "x": [
          "German"
         ],
         "y": [
          "Germany"
         ],
         "z": [
          1920
         ]
        },
        {
         "hovertemplate": "<b>%{hovertext}</b><br><br>Genre=Comedy, Drama, Family<br>Language=%{x}<br>Country=%{y}<br>Year=%{z}<br>votes=%{marker.size}<extra></extra>",
         "hovertext": [
          "The Kid",
          "The Cameraman"
         ],
         "legendgroup": "Comedy, Drama, Family",
         "marker": {
          "color": "#EF553B",
          "size": [
           109038,
           10101
          ],
          "sizemode": "area",
          "sizeref": 390.19,
          "symbol": "circle"
         },
         "mode": "markers",
         "name": "Comedy, Drama, Family",
         "scene": "scene",
         "showlegend": true,
         "type": "scatter3d",
         "x": [
          "English, None",
          "English"
         ],
         "y": [
          "USA",
          "USA"
         ],
         "z": [
          1921,
          1928
         ]
        },
        {
         "hovertemplate": "<b>%{hovertext}</b><br><br>Genre=Drama, Fantasy, Horror<br>Language=%{x}<br>Country=%{y}<br>Year=%{z}<br>votes=%{marker.size}<extra></extra>",
         "hovertext": [
          "Körkarlen",
          "Faust: Eine deutsche Volkssage"
         ],
         "legendgroup": "Drama, Fantasy, Horror",
         "marker": {
          "color": "#00cc96",
          "size": [
           10054,
           13588
          ],
          "sizemode": "area",
          "sizeref": 390.19,
          "symbol": "circle"
         },
         "mode": "markers",
         "name": "Drama, Fantasy, Horror",
         "scene": "scene",
         "showlegend": true,
         "type": "scatter3d",
         "x": [
          "Swedish",
          "German"
         ],
         "y": [
          "Sweden",
          "Germany"
         ],
         "z": [
          1921,
          1926
         ]
        },
        {
         "hovertemplate": "<b>%{hovertext}</b><br><br>Genre=Action, Comedy, Thriller<br>Language=%{x}<br>Country=%{y}<br>Year=%{z}<br>votes=%{marker.size}<extra></extra>",
         "hovertext": [
          "Safety Last!"
         ],
         "legendgroup": "Action, Comedy, Thriller",
         "marker": {
          "color": "#ab63fa",
          "size": [
           17795
          ],
          "sizemode": "area",
          "sizeref": 390.19,
          "symbol": "circle"
         },
         "mode": "markers",
         "name": "Action, Comedy, Thriller",
         "scene": "scene",
         "showlegend": true,
         "type": "scatter3d",
         "x": [
          "English"
         ],
         "y": [
          "USA"
         ],
         "z": [
          1923
         ]
        },
        {
         "hovertemplate": "<b>%{hovertext}</b><br><br>Genre=Drama<br>Language=%{x}<br>Country=%{y}<br>Year=%{z}<br>votes=%{marker.size}<extra></extra>",
         "hovertext": [
          "Der letzte Mann"
         ],
         "legendgroup": "Drama",
         "marker": {
          "color": "#FFA15A",
          "size": [
           12157
          ],
          "sizemode": "area",
          "sizeref": 390.19,
          "symbol": "circle"
         },
         "mode": "markers",
         "name": "Drama",
         "scene": "scene",
         "showlegend": true,
         "type": "scatter3d",
         "x": [
          null
         ],
         "y": [
          "Germany"
         ],
         "z": [
          1924
         ]
        },
        {
         "hovertemplate": "<b>%{hovertext}</b><br><br>Genre=Adventure, Drama, Fantasy<br>Language=%{x}<br>Country=%{y}<br>Year=%{z}<br>votes=%{marker.size}<extra></extra>",
         "hovertext": [
          "Die Nibelungen: Siegfried"
         ],
         "legendgroup": "Adventure, Drama, Fantasy",
         "marker": {
          "color": "#19d3f3",
          "size": [
           5082
          ],
          "sizemode": "area",
          "sizeref": 390.19,
          "symbol": "circle"
         },
         "mode": "markers",
         "name": "Adventure, Drama, Fantasy",
         "scene": "scene",
         "showlegend": true,
         "type": "scatter3d",
         "x": [
          "German"
         ],
         "y": [
          "Germany"
         ],
         "z": [
          1924
         ]
        },
        {
         "hovertemplate": "<b>%{hovertext}</b><br><br>Genre=Action, Comedy, Romance<br>Language=%{x}<br>Country=%{y}<br>Year=%{z}<br>votes=%{marker.size}<extra></extra>",
         "hovertext": [
          "Sherlock Jr."
         ],
         "legendgroup": "Action, Comedy, Romance",
         "marker": {
          "color": "#FF6692",
          "size": [
           39634
          ],
          "sizemode": "area",
          "sizeref": 390.19,
          "symbol": "circle"
         },
         "mode": "markers",
         "name": "Action, Comedy, Romance",
         "scene": "scene",
         "showlegend": true,
         "type": "scatter3d",
         "x": [
          "English"
         ],
         "y": [
          "USA"
         ],
         "z": [
          1924
         ]
        },
        {
         "hovertemplate": "<b>%{hovertext}</b><br><br>Genre=Drama, History, Thriller<br>Language=%{x}<br>Country=%{y}<br>Year=%{z}<br>votes=%{marker.size}<extra></extra>",
         "hovertext": [
          "Bronenosets Potemkin"
         ],
         "legendgroup": "Drama, History, Thriller",
         "marker": {
          "color": "#B6E880",
          "size": [
           51775
          ],
          "sizemode": "area",
          "sizeref": 390.19,
          "symbol": "circle"
         },
         "mode": "markers",
         "name": "Drama, History, Thriller",
         "scene": "scene",
         "showlegend": true,
         "type": "scatter3d",
         "x": [
          "Russian"
         ],
         "y": [
          "Soviet Union"
         ],
         "z": [
          1925
         ]
        },
        {
         "hovertemplate": "<b>%{hovertext}</b><br><br>Genre=Adventure, Comedy, Drama<br>Language=%{x}<br>Country=%{y}<br>Year=%{z}<br>votes=%{marker.size}<extra></extra>",
         "hovertext": [
          "The Gold Rush"
         ],
         "legendgroup": "Adventure, Comedy, Drama",
         "marker": {
          "color": "#FF97FF",
          "size": [
           97480
          ],
          "sizemode": "area",
          "sizeref": 390.19,
          "symbol": "circle"
         },
         "mode": "markers",
         "name": "Adventure, Comedy, Drama",
         "scene": "scene",
         "showlegend": true,
         "type": "scatter3d",
         "x": [
          "English, None"
         ],
         "y": [
          "USA"
         ],
         "z": [
          1925
         ]
        },
        {
         "hovertemplate": "<b>%{hovertext}</b><br><br>Genre=Drama, Thriller, Western<br>Language=%{x}<br>Country=%{y}<br>Year=%{z}<br>votes=%{marker.size}<extra></extra>",
         "hovertext": [
          "Greed"
         ],
         "legendgroup": "Drama, Thriller, Western",
         "marker": {
          "color": "#FECB52",
          "size": [
           8898
          ],
          "sizemode": "area",
          "sizeref": 390.19,
          "symbol": "circle"
         },
         "mode": "markers",
         "name": "Drama, Thriller, Western",
         "scene": "scene",
         "showlegend": true,
         "type": "scatter3d",
         "x": [
          "English"
         ],
         "y": [
          "USA"
         ],
         "z": [
          1924
         ]
        },
        {
         "hovertemplate": "<b>%{hovertext}</b><br><br>Genre=Drama, Sci-Fi<br>Language=%{x}<br>Country=%{y}<br>Year=%{z}<br>votes=%{marker.size}<extra></extra>",
         "hovertext": [
          "Metropolis"
         ],
         "legendgroup": "Drama, Sci-Fi",
         "marker": {
          "color": "#636efa",
          "size": [
           156076
          ],
          "sizemode": "area",
          "sizeref": 390.19,
          "symbol": "circle"
         },
         "mode": "markers",
         "name": "Drama, Sci-Fi",
         "scene": "scene",
         "showlegend": true,
         "type": "scatter3d",
         "x": [
          "German"
         ],
         "y": [
          "Germany"
         ],
         "z": [
          1927
         ]
        },
        {
         "hovertemplate": "<b>%{hovertext}</b><br><br>Genre=Action, Adventure, Comedy<br>Language=%{x}<br>Country=%{y}<br>Year=%{z}<br>votes=%{marker.size}<extra></extra>",
         "hovertext": [
          "The General"
         ],
         "legendgroup": "Action, Adventure, Comedy",
         "marker": {
          "color": "#EF553B",
          "size": [
           78769
          ],
          "sizemode": "area",
          "sizeref": 390.19,
          "symbol": "circle"
         },
         "mode": "markers",
         "name": "Action, Adventure, Comedy",
         "scene": "scene",
         "showlegend": true,
         "type": "scatter3d",
         "x": [
          "English"
         ],
         "y": [
          "USA"
         ],
         "z": [
          1926
         ]
        },
        {
         "hovertemplate": "<b>%{hovertext}</b><br><br>Genre=Biography, Drama, History<br>Language=%{x}<br>Country=%{y}<br>Year=%{z}<br>votes=%{marker.size}<extra></extra>",
         "hovertext": [
          "Napoléon vu par Abel Gance",
          "La passion de Jeanne d'Arc"
         ],
         "legendgroup": "Biography, Drama, History",
         "marker": {
          "color": "#00cc96",
          "size": [
           6864,
           45823
          ],
          "sizemode": "area",
          "sizeref": 390.19,
          "symbol": "circle"
         },
         "mode": "markers",
         "name": "Biography, Drama, History",
         "scene": "scene",
         "showlegend": true,
         "type": "scatter3d",
         "x": [
          null,
          "French"
         ],
         "y": [
          "France",
          "France"
         ],
         "z": [
          1927,
          1928
         ]
        },
        {
         "hovertemplate": "<b>%{hovertext}</b><br><br>Genre=Drama, Romance<br>Language=%{x}<br>Country=%{y}<br>Year=%{z}<br>votes=%{marker.size}<extra></extra>",
         "hovertext": [
          "Sunrise: A Song of Two Humans"
         ],
         "legendgroup": "Drama, Romance",
         "marker": {
          "color": "#ab63fa",
          "size": [
           46069
          ],
          "sizemode": "area",
          "sizeref": 390.19,
          "symbol": "circle"
         },
         "mode": "markers",
         "name": "Drama, Romance",
         "scene": "scene",
         "showlegend": true,
         "type": "scatter3d",
         "x": [
          "English"
         ],
         "y": [
          "USA"
         ],
         "z": [
          1927
         ]
        },
        {
         "hovertemplate": "<b>%{hovertext}</b><br><br>Genre=Comedy, Romance<br>Language=%{x}<br>Country=%{y}<br>Year=%{z}<br>votes=%{marker.size}<extra></extra>",
         "hovertext": [
          "The Circus"
         ],
         "legendgroup": "Comedy, Romance",
         "marker": {
          "color": "#FFA15A",
          "size": [
           27414
          ],
          "sizemode": "area",
          "sizeref": 390.19,
          "symbol": "circle"
         },
         "mode": "markers",
         "name": "Comedy, Romance",
         "scene": "scene",
         "showlegend": true,
         "type": "scatter3d",
         "x": [
          "English"
         ],
         "y": [
          "USA"
         ],
         "z": [
          1928
         ]
        },
        {
         "hovertemplate": "<b>%{hovertext}</b><br><br>Genre=Drama, History, Romance<br>Language=%{x}<br>Country=%{y}<br>Year=%{z}<br>votes=%{marker.size}<extra></extra>",
         "hovertext": [
          "The Last Command"
         ],
         "legendgroup": "Drama, History, Romance",
         "marker": {
          "color": "#19d3f3",
          "size": [
           3282
          ],
          "sizemode": "area",
          "sizeref": 390.19,
          "symbol": "circle"
         },
         "mode": "markers",
         "name": "Drama, History, Romance",
         "scene": "scene",
         "showlegend": true,
         "type": "scatter3d",
         "x": [
          "English"
         ],
         "y": [
          "USA"
         ],
         "z": [
          1928
         ]
        },
        {
         "hovertemplate": "<b>%{hovertext}</b><br><br>Genre=Drama, Romance, Thriller<br>Language=%{x}<br>Country=%{y}<br>Year=%{z}<br>votes=%{marker.size}<extra></extra>",
         "hovertext": [
          "The Wind"
         ],
         "legendgroup": "Drama, Romance, Thriller",
         "marker": {
          "color": "#FF6692",
          "size": [
           5980
          ],
          "sizemode": "area",
          "sizeref": 390.19,
          "symbol": "circle"
         },
         "mode": "markers",
         "name": "Drama, Romance, Thriller",
         "scene": "scene",
         "showlegend": true,
         "type": "scatter3d",
         "x": [
          "English"
         ],
         "y": [
          "USA"
         ],
         "z": [
          1928
         ]
        },
        {
         "hovertemplate": "<b>%{hovertext}</b><br><br>Genre=Drama, War<br>Language=%{x}<br>Country=%{y}<br>Year=%{z}<br>votes=%{marker.size}<extra></extra>",
         "hovertext": [
          "All Quiet on the Western Front"
         ],
         "legendgroup": "Drama, War",
         "marker": {
          "color": "#B6E880",
          "size": [
           56356
          ],
          "sizemode": "area",
          "sizeref": 390.19,
          "symbol": "circle"
         },
         "mode": "markers",
         "name": "Drama, War",
         "scene": "scene",
         "showlegend": true,
         "type": "scatter3d",
         "x": [
          "English, French, German, Latin"
         ],
         "y": [
          "USA"
         ],
         "z": [
          1930
         ]
        }
       ],
       "layout": {
        "legend": {
         "itemsizing": "constant",
         "title": {
          "text": "Genre"
         },
         "tracegroupgap": 0
        },
        "margin": {
         "t": 60
        },
        "scene": {
         "domain": {
          "x": [
           0,
           1
          ],
          "y": [
           0,
           1
          ]
         },
         "xaxis": {
          "title": {
           "text": "Language"
          }
         },
         "yaxis": {
          "title": {
           "text": "Country"
          }
         },
         "zaxis": {
          "title": {
           "text": "Year"
          }
         }
        },
        "template": {
         "data": {
          "bar": [
           {
            "error_x": {
             "color": "#f2f5fa"
            },
            "error_y": {
             "color": "#f2f5fa"
            },
            "marker": {
             "line": {
              "color": "rgb(17,17,17)",
              "width": 0.5
             },
             "pattern": {
              "fillmode": "overlay",
              "size": 10,
              "solidity": 0.2
             }
            },
            "type": "bar"
           }
          ],
          "barpolar": [
           {
            "marker": {
             "line": {
              "color": "rgb(17,17,17)",
              "width": 0.5
             },
             "pattern": {
              "fillmode": "overlay",
              "size": 10,
              "solidity": 0.2
             }
            },
            "type": "barpolar"
           }
          ],
          "carpet": [
           {
            "aaxis": {
             "endlinecolor": "#A2B1C6",
             "gridcolor": "#506784",
             "linecolor": "#506784",
             "minorgridcolor": "#506784",
             "startlinecolor": "#A2B1C6"
            },
            "baxis": {
             "endlinecolor": "#A2B1C6",
             "gridcolor": "#506784",
             "linecolor": "#506784",
             "minorgridcolor": "#506784",
             "startlinecolor": "#A2B1C6"
            },
            "type": "carpet"
           }
          ],
          "choropleth": [
           {
            "colorbar": {
             "outlinewidth": 0,
             "ticks": ""
            },
            "type": "choropleth"
           }
          ],
          "contour": [
           {
            "colorbar": {
             "outlinewidth": 0,
             "ticks": ""
            },
            "colorscale": [
             [
              0,
              "#0d0887"
             ],
             [
              0.1111111111111111,
              "#46039f"
             ],
             [
              0.2222222222222222,
              "#7201a8"
             ],
             [
              0.3333333333333333,
              "#9c179e"
             ],
             [
              0.4444444444444444,
              "#bd3786"
             ],
             [
              0.5555555555555556,
              "#d8576b"
             ],
             [
              0.6666666666666666,
              "#ed7953"
             ],
             [
              0.7777777777777778,
              "#fb9f3a"
             ],
             [
              0.8888888888888888,
              "#fdca26"
             ],
             [
              1,
              "#f0f921"
             ]
            ],
            "type": "contour"
           }
          ],
          "contourcarpet": [
           {
            "colorbar": {
             "outlinewidth": 0,
             "ticks": ""
            },
            "type": "contourcarpet"
           }
          ],
          "heatmap": [
           {
            "colorbar": {
             "outlinewidth": 0,
             "ticks": ""
            },
            "colorscale": [
             [
              0,
              "#0d0887"
             ],
             [
              0.1111111111111111,
              "#46039f"
             ],
             [
              0.2222222222222222,
              "#7201a8"
             ],
             [
              0.3333333333333333,
              "#9c179e"
             ],
             [
              0.4444444444444444,
              "#bd3786"
             ],
             [
              0.5555555555555556,
              "#d8576b"
             ],
             [
              0.6666666666666666,
              "#ed7953"
             ],
             [
              0.7777777777777778,
              "#fb9f3a"
             ],
             [
              0.8888888888888888,
              "#fdca26"
             ],
             [
              1,
              "#f0f921"
             ]
            ],
            "type": "heatmap"
           }
          ],
          "heatmapgl": [
           {
            "colorbar": {
             "outlinewidth": 0,
             "ticks": ""
            },
            "colorscale": [
             [
              0,
              "#0d0887"
             ],
             [
              0.1111111111111111,
              "#46039f"
             ],
             [
              0.2222222222222222,
              "#7201a8"
             ],
             [
              0.3333333333333333,
              "#9c179e"
             ],
             [
              0.4444444444444444,
              "#bd3786"
             ],
             [
              0.5555555555555556,
              "#d8576b"
             ],
             [
              0.6666666666666666,
              "#ed7953"
             ],
             [
              0.7777777777777778,
              "#fb9f3a"
             ],
             [
              0.8888888888888888,
              "#fdca26"
             ],
             [
              1,
              "#f0f921"
             ]
            ],
            "type": "heatmapgl"
           }
          ],
          "histogram": [
           {
            "marker": {
             "pattern": {
              "fillmode": "overlay",
              "size": 10,
              "solidity": 0.2
             }
            },
            "type": "histogram"
           }
          ],
          "histogram2d": [
           {
            "colorbar": {
             "outlinewidth": 0,
             "ticks": ""
            },
            "colorscale": [
             [
              0,
              "#0d0887"
             ],
             [
              0.1111111111111111,
              "#46039f"
             ],
             [
              0.2222222222222222,
              "#7201a8"
             ],
             [
              0.3333333333333333,
              "#9c179e"
             ],
             [
              0.4444444444444444,
              "#bd3786"
             ],
             [
              0.5555555555555556,
              "#d8576b"
             ],
             [
              0.6666666666666666,
              "#ed7953"
             ],
             [
              0.7777777777777778,
              "#fb9f3a"
             ],
             [
              0.8888888888888888,
              "#fdca26"
             ],
             [
              1,
              "#f0f921"
             ]
            ],
            "type": "histogram2d"
           }
          ],
          "histogram2dcontour": [
           {
            "colorbar": {
             "outlinewidth": 0,
             "ticks": ""
            },
            "colorscale": [
             [
              0,
              "#0d0887"
             ],
             [
              0.1111111111111111,
              "#46039f"
             ],
             [
              0.2222222222222222,
              "#7201a8"
             ],
             [
              0.3333333333333333,
              "#9c179e"
             ],
             [
              0.4444444444444444,
              "#bd3786"
             ],
             [
              0.5555555555555556,
              "#d8576b"
             ],
             [
              0.6666666666666666,
              "#ed7953"
             ],
             [
              0.7777777777777778,
              "#fb9f3a"
             ],
             [
              0.8888888888888888,
              "#fdca26"
             ],
             [
              1,
              "#f0f921"
             ]
            ],
            "type": "histogram2dcontour"
           }
          ],
          "mesh3d": [
           {
            "colorbar": {
             "outlinewidth": 0,
             "ticks": ""
            },
            "type": "mesh3d"
           }
          ],
          "parcoords": [
           {
            "line": {
             "colorbar": {
              "outlinewidth": 0,
              "ticks": ""
             }
            },
            "type": "parcoords"
           }
          ],
          "pie": [
           {
            "automargin": true,
            "type": "pie"
           }
          ],
          "scatter": [
           {
            "marker": {
             "line": {
              "color": "#283442"
             }
            },
            "type": "scatter"
           }
          ],
          "scatter3d": [
           {
            "line": {
             "colorbar": {
              "outlinewidth": 0,
              "ticks": ""
             }
            },
            "marker": {
             "colorbar": {
              "outlinewidth": 0,
              "ticks": ""
             }
            },
            "type": "scatter3d"
           }
          ],
          "scattercarpet": [
           {
            "marker": {
             "colorbar": {
              "outlinewidth": 0,
              "ticks": ""
             }
            },
            "type": "scattercarpet"
           }
          ],
          "scattergeo": [
           {
            "marker": {
             "colorbar": {
              "outlinewidth": 0,
              "ticks": ""
             }
            },
            "type": "scattergeo"
           }
          ],
          "scattergl": [
           {
            "marker": {
             "line": {
              "color": "#283442"
             }
            },
            "type": "scattergl"
           }
          ],
          "scattermapbox": [
           {
            "marker": {
             "colorbar": {
              "outlinewidth": 0,
              "ticks": ""
             }
            },
            "type": "scattermapbox"
           }
          ],
          "scatterpolar": [
           {
            "marker": {
             "colorbar": {
              "outlinewidth": 0,
              "ticks": ""
             }
            },
            "type": "scatterpolar"
           }
          ],
          "scatterpolargl": [
           {
            "marker": {
             "colorbar": {
              "outlinewidth": 0,
              "ticks": ""
             }
            },
            "type": "scatterpolargl"
           }
          ],
          "scatterternary": [
           {
            "marker": {
             "colorbar": {
              "outlinewidth": 0,
              "ticks": ""
             }
            },
            "type": "scatterternary"
           }
          ],
          "surface": [
           {
            "colorbar": {
             "outlinewidth": 0,
             "ticks": ""
            },
            "colorscale": [
             [
              0,
              "#0d0887"
             ],
             [
              0.1111111111111111,
              "#46039f"
             ],
             [
              0.2222222222222222,
              "#7201a8"
             ],
             [
              0.3333333333333333,
              "#9c179e"
             ],
             [
              0.4444444444444444,
              "#bd3786"
             ],
             [
              0.5555555555555556,
              "#d8576b"
             ],
             [
              0.6666666666666666,
              "#ed7953"
             ],
             [
              0.7777777777777778,
              "#fb9f3a"
             ],
             [
              0.8888888888888888,
              "#fdca26"
             ],
             [
              1,
              "#f0f921"
             ]
            ],
            "type": "surface"
           }
          ],
          "table": [
           {
            "cells": {
             "fill": {
              "color": "#506784"
             },
             "line": {
              "color": "rgb(17,17,17)"
             }
            },
            "header": {
             "fill": {
              "color": "#2a3f5f"
             },
             "line": {
              "color": "rgb(17,17,17)"
             }
            },
            "type": "table"
           }
          ]
         },
         "layout": {
          "annotationdefaults": {
           "arrowcolor": "#f2f5fa",
           "arrowhead": 0,
           "arrowwidth": 1
          },
          "autotypenumbers": "strict",
          "coloraxis": {
           "colorbar": {
            "outlinewidth": 0,
            "ticks": ""
           }
          },
          "colorscale": {
           "diverging": [
            [
             0,
             "#8e0152"
            ],
            [
             0.1,
             "#c51b7d"
            ],
            [
             0.2,
             "#de77ae"
            ],
            [
             0.3,
             "#f1b6da"
            ],
            [
             0.4,
             "#fde0ef"
            ],
            [
             0.5,
             "#f7f7f7"
            ],
            [
             0.6,
             "#e6f5d0"
            ],
            [
             0.7,
             "#b8e186"
            ],
            [
             0.8,
             "#7fbc41"
            ],
            [
             0.9,
             "#4d9221"
            ],
            [
             1,
             "#276419"
            ]
           ],
           "sequential": [
            [
             0,
             "#0d0887"
            ],
            [
             0.1111111111111111,
             "#46039f"
            ],
            [
             0.2222222222222222,
             "#7201a8"
            ],
            [
             0.3333333333333333,
             "#9c179e"
            ],
            [
             0.4444444444444444,
             "#bd3786"
            ],
            [
             0.5555555555555556,
             "#d8576b"
            ],
            [
             0.6666666666666666,
             "#ed7953"
            ],
            [
             0.7777777777777778,
             "#fb9f3a"
            ],
            [
             0.8888888888888888,
             "#fdca26"
            ],
            [
             1,
             "#f0f921"
            ]
           ],
           "sequentialminus": [
            [
             0,
             "#0d0887"
            ],
            [
             0.1111111111111111,
             "#46039f"
            ],
            [
             0.2222222222222222,
             "#7201a8"
            ],
            [
             0.3333333333333333,
             "#9c179e"
            ],
            [
             0.4444444444444444,
             "#bd3786"
            ],
            [
             0.5555555555555556,
             "#d8576b"
            ],
            [
             0.6666666666666666,
             "#ed7953"
            ],
            [
             0.7777777777777778,
             "#fb9f3a"
            ],
            [
             0.8888888888888888,
             "#fdca26"
            ],
            [
             1,
             "#f0f921"
            ]
           ]
          },
          "colorway": [
           "#636efa",
           "#EF553B",
           "#00cc96",
           "#ab63fa",
           "#FFA15A",
           "#19d3f3",
           "#FF6692",
           "#B6E880",
           "#FF97FF",
           "#FECB52"
          ],
          "font": {
           "color": "#f2f5fa"
          },
          "geo": {
           "bgcolor": "rgb(17,17,17)",
           "lakecolor": "rgb(17,17,17)",
           "landcolor": "rgb(17,17,17)",
           "showlakes": true,
           "showland": true,
           "subunitcolor": "#506784"
          },
          "hoverlabel": {
           "align": "left"
          },
          "hovermode": "closest",
          "mapbox": {
           "style": "dark"
          },
          "paper_bgcolor": "rgb(17,17,17)",
          "plot_bgcolor": "rgb(17,17,17)",
          "polar": {
           "angularaxis": {
            "gridcolor": "#506784",
            "linecolor": "#506784",
            "ticks": ""
           },
           "bgcolor": "rgb(17,17,17)",
           "radialaxis": {
            "gridcolor": "#506784",
            "linecolor": "#506784",
            "ticks": ""
           }
          },
          "scene": {
           "xaxis": {
            "backgroundcolor": "rgb(17,17,17)",
            "gridcolor": "#506784",
            "gridwidth": 2,
            "linecolor": "#506784",
            "showbackground": true,
            "ticks": "",
            "zerolinecolor": "#C8D4E3"
           },
           "yaxis": {
            "backgroundcolor": "rgb(17,17,17)",
            "gridcolor": "#506784",
            "gridwidth": 2,
            "linecolor": "#506784",
            "showbackground": true,
            "ticks": "",
            "zerolinecolor": "#C8D4E3"
           },
           "zaxis": {
            "backgroundcolor": "rgb(17,17,17)",
            "gridcolor": "#506784",
            "gridwidth": 2,
            "linecolor": "#506784",
            "showbackground": true,
            "ticks": "",
            "zerolinecolor": "#C8D4E3"
           }
          },
          "shapedefaults": {
           "line": {
            "color": "#f2f5fa"
           }
          },
          "sliderdefaults": {
           "bgcolor": "#C8D4E3",
           "bordercolor": "rgb(17,17,17)",
           "borderwidth": 1,
           "tickwidth": 0
          },
          "ternary": {
           "aaxis": {
            "gridcolor": "#506784",
            "linecolor": "#506784",
            "ticks": ""
           },
           "baxis": {
            "gridcolor": "#506784",
            "linecolor": "#506784",
            "ticks": ""
           },
           "bgcolor": "rgb(17,17,17)",
           "caxis": {
            "gridcolor": "#506784",
            "linecolor": "#506784",
            "ticks": ""
           }
          },
          "title": {
           "x": 0.05
          },
          "updatemenudefaults": {
           "bgcolor": "#506784",
           "borderwidth": 0
          },
          "xaxis": {
           "automargin": true,
           "gridcolor": "#283442",
           "linecolor": "#506784",
           "ticks": "",
           "title": {
            "standoff": 15
           },
           "zerolinecolor": "#283442",
           "zerolinewidth": 2
          },
          "yaxis": {
           "automargin": true,
           "gridcolor": "#283442",
           "linecolor": "#506784",
           "ticks": "",
           "title": {
            "standoff": 15
           },
           "zerolinecolor": "#283442",
           "zerolinewidth": 2
          }
         }
        }
       }
      }
     },
     "metadata": {},
     "output_type": "display_data"
    }
   ],
   "source": [
    "px.scatter_3d( data_frame = dfx, x = 'Language', y='Country', z= 'Year',color = 'Genre' ,hover_name='Movie_Name', template='plotly_dark', size='votes')"
   ]
  },
  {
   "cell_type": "code",
   "execution_count": 53,
   "metadata": {},
   "outputs": [],
   "source": [
    "df2=df.sort_values('budget', ascending=False)"
   ]
  },
  {
   "cell_type": "code",
   "execution_count": 54,
   "metadata": {},
   "outputs": [
    {
     "data": {
      "application/vnd.plotly.v1+json": {
       "config": {
        "plotlyServerURL": "https://plot.ly"
       },
       "data": [
        {
         "hovertemplate": "Year=1917<br>Movie_Name=%{x}<br>budget=%{y}<extra></extra>",
         "legendgroup": "1917",
         "marker": {
          "color": "#636efa",
          "symbol": "circle"
         },
         "mode": "markers",
         "name": "1917",
         "orientation": "v",
         "showlegend": true,
         "type": "scatter",
         "x": [
          "Terje Vigen",
          "Cleopatra"
         ],
         "xaxis": "x",
         "y": [
          "SEK 60000",
          "$ 500000"
         ],
         "yaxis": "y"
        },
        {
         "hovertemplate": "Year=1919<br>Movie_Name=%{x}<br>budget=%{y}<extra></extra>",
         "legendgroup": "1919",
         "marker": {
          "color": "#EF553B",
          "symbol": "circle"
         },
         "mode": "markers",
         "name": "1919",
         "orientation": "v",
         "showlegend": true,
         "type": "scatter",
         "x": [
          "Sången om den eldröda blomman",
          "Broken Blossoms or The Yellow Man and the Girl",
          "Back to God's Country",
          "Blind Husbands"
         ],
         "xaxis": "x",
         "y": [
          "SEK 180000",
          "$ 88000",
          "$ 67000",
          "$ 42000"
         ],
         "yaxis": "y"
        },
        {
         "hovertemplate": "Year=1918<br>Movie_Name=%{x}<br>budget=%{y}<extra></extra>",
         "legendgroup": "1918",
         "marker": {
          "color": "#00cc96",
          "symbol": "circle"
         },
         "mode": "markers",
         "name": "1918",
         "orientation": "v",
         "showlegend": true,
         "type": "scatter",
         "x": [
          "Berg-Ejvind och hans hustru",
          "The Whispering Chorus",
          "Old Wives for New"
         ],
         "xaxis": "x",
         "y": [
          "SEK 100000",
          "$ 72500",
          "$ 66241"
         ],
         "yaxis": "y"
        },
        {
         "hovertemplate": "Year=1912<br>Movie_Name=%{x}<br>budget=%{y}<extra></extra>",
         "legendgroup": "1912",
         "marker": {
          "color": "#ab63fa",
          "symbol": "circle"
         },
         "mode": "markers",
         "name": "1912",
         "orientation": "v",
         "showlegend": true,
         "type": "scatter",
         "x": [
          "Independenta Romaniei",
          "Cleopatra"
         ],
         "xaxis": "x",
         "y": [
          "ROL 400000",
          "$ 45000"
         ],
         "yaxis": "y"
        },
        {
         "hovertemplate": "Year=1921<br>Movie_Name=%{x}<br>budget=%{y}<extra></extra>",
         "legendgroup": "1921",
         "marker": {
          "color": "#FFA15A",
          "symbol": "circle"
         },
         "mode": "markers",
         "name": "1921",
         "orientation": "v",
         "showlegend": true,
         "type": "scatter",
         "x": [
          "Markens grøde",
          "Eldorado",
          "L'Atlantide",
          "The Four Horsemen of the Apocalypse"
         ],
         "xaxis": "x",
         "y": [
          "NOK 250000",
          "FRF 248000",
          "FRF 1800000",
          "$ 800000"
         ],
         "yaxis": "y"
        },
        {
         "hovertemplate": "Year=1913<br>Movie_Name=%{x}<br>budget=%{y}<extra></extra>",
         "legendgroup": "1913",
         "marker": {
          "color": "#19d3f3",
          "symbol": "circle"
         },
         "mode": "markers",
         "name": "1913",
         "orientation": "v",
         "showlegend": true,
         "type": "scatter",
         "x": [
          "Quo Vadis?",
          "Traffic in Souls"
         ],
         "xaxis": "x",
         "y": [
          "ITL 45000",
          "$ 5700"
         ],
         "yaxis": "y"
        },
        {
         "hovertemplate": "Year=1929<br>Movie_Name=%{x}<br>budget=%{y}<extra></extra>",
         "legendgroup": "1929",
         "marker": {
          "color": "#FF6692",
          "symbol": "circle"
         },
         "mode": "markers",
         "name": "1929",
         "orientation": "v",
         "showlegend": true,
         "type": "scatter",
         "x": [
          "Atlantic",
          "Welcome Danger",
          "Show of Shows",
          "The Trespasser",
          "The Love Parade",
          "Sally",
          "Condemned!",
          "Bulldog Drummond",
          "Taming of the Shrew",
          "The Cocoanuts",
          "The Shakedown",
          "On with the Show!",
          "Coquette",
          "Devil-May-Care",
          "Redskin",
          "The Virginian",
          "The Black Watch",
          "The Flying Fleet",
          "The Broadway Melody"
         ],
         "xaxis": "x",
         "y": [
          "GBP 2000",
          "$ 979828",
          "$ 850000",
          "$ 725000",
          "$ 650000",
          "$ 647000",
          "$ 600000",
          "$ 550000",
          "$ 504000",
          "$ 500000",
          "$ 50000",
          "$ 493000",
          "$ 489106",
          "$ 487000",
          "$ 472000",
          "$ 425000",
          "$ 400000",
          "$ 385000",
          "$ 379000"
         ],
         "yaxis": "y"
        },
        {
         "hovertemplate": "Year=1927<br>Movie_Name=%{x}<br>budget=%{y}<extra></extra>",
         "legendgroup": "1927",
         "marker": {
          "color": "#B6E880",
          "symbol": "circle"
         },
         "mode": "markers",
         "name": "1927",
         "orientation": "v",
         "showlegend": true,
         "type": "scatter",
         "x": [
          "The Lodger: A Story of the London Fog",
          "Napoléon vu par Abel Gance",
          "Metropolis",
          "Annie Laurie",
          "Winners of the Wilderness",
          "Mother Machree",
          "The Red Mill",
          "Love",
          "My Best Girl",
          "The Jazz Singer"
         ],
         "xaxis": "x",
         "y": [
          "GBP 12000",
          "FRF 20000000",
          "DEM 6000000",
          "$ 916000",
          "$ 80000",
          "$ 750000",
          "$ 539000",
          "$ 488000",
          "$ 483103",
          "$ 422000"
         ],
         "yaxis": "y"
        },
        {
         "hovertemplate": "Year=1924<br>Movie_Name=%{x}<br>budget=%{y}<extra></extra>",
         "legendgroup": "1924",
         "marker": {
          "color": "#FF97FF",
          "symbol": "circle"
         },
         "mode": "markers",
         "name": "1924",
         "orientation": "v",
         "showlegend": true,
         "type": "scatter",
         "x": [
          "L'inhumaine",
          "Dorothy Vernon of Haddon Hall",
          "Greed",
          "Girl Shy"
         ],
         "xaxis": "x",
         "y": [
          "FRF 260000",
          "$ 750000",
          "$ 546883",
          "$ 400000"
         ],
         "yaxis": "y"
        },
        {
         "hovertemplate": "Year=1930<br>Movie_Name=%{x}<br>budget=%{y}<extra></extra>",
         "legendgroup": "1930",
         "marker": {
          "color": "#FECB52",
          "symbol": "circle"
         },
         "mode": "markers",
         "name": "1930",
         "orientation": "v",
         "showlegend": true,
         "type": "scatter",
         "x": [
          "Madam Satan",
          "Puttin' on the Ritz",
          "Monte Carlo",
          "Feet First",
          "The Dawn Patrol",
          "Half Shot at Sunrise",
          "Romance",
          "Call of the Flesh",
          "Sin Takes a Holiday",
          "The Silver Horde",
          "The Big House",
          "The Cuckoos",
          "Hell's Angels",
          "Anna Christie"
         ],
         "xaxis": "x",
         "y": [
          "$ 980000",
          "$ 800000",
          "$ 726465",
          "$ 647000",
          "$ 611722",
          "$ 529000",
          "$ 496000",
          "$ 464000",
          "$ 450000",
          "$ 423000",
          "$ 414000",
          "$ 407000",
          "$ 3950000",
          "$ 376000"
         ],
         "yaxis": "y"
        },
        {
         "hovertemplate": "Year=1926<br>Movie_Name=%{x}<br>budget=%{y}<extra></extra>",
         "legendgroup": "1926",
         "marker": {
          "color": "#636efa",
          "symbol": "circle"
         },
         "mode": "markers",
         "name": "1926",
         "orientation": "v",
         "showlegend": true,
         "type": "scatter",
         "x": [
          "The Sorrows of Satan",
          "The General",
          "La Bohème",
          "The Temptress",
          "Don Juan",
          "The Sea Beast",
          "The Volga Boatman",
          "Sparrows",
          "The Better 'Ole",
          "Tell It to the Marines",
          "The Scarlet Letter",
          "Flesh and the Devil"
         ],
         "xaxis": "x",
         "y": [
          "$ 971260",
          "$ 750000",
          "$ 693000",
          "$ 669000",
          "$ 546000",
          "$ 503000",
          "$ 497356",
          "$ 463455",
          "$ 449000",
          "$ 433000",
          "$ 430290",
          "$ 373000"
         ],
         "yaxis": "y"
        },
        {
         "hovertemplate": "Year=1922<br>Movie_Name=%{x}<br>budget=%{y}<extra></extra>",
         "legendgroup": "1922",
         "marker": {
          "color": "#EF553B",
          "symbol": "circle"
         },
         "mode": "markers",
         "name": "1922",
         "orientation": "v",
         "showlegend": true,
         "type": "scatter",
         "x": [
          "Grandma's Boy",
          "Tess of the Storm Country",
          "Manslaughter"
         ],
         "xaxis": "x",
         "y": [
          "$ 94412",
          "$ 400000",
          "$ 385000"
         ],
         "yaxis": "y"
        },
        {
         "hovertemplate": "Year=1925<br>Movie_Name=%{x}<br>budget=%{y}<extra></extra>",
         "legendgroup": "1925",
         "marker": {
          "color": "#00cc96",
          "symbol": "circle"
         },
         "mode": "markers",
         "name": "1925",
         "orientation": "v",
         "showlegend": true,
         "type": "scatter",
         "x": [
          "The Gold Rush",
          "Stella Dallas",
          "The Merry Widow",
          "The Road to Yesterday"
         ],
         "xaxis": "x",
         "y": [
          "$ 923000",
          "$ 700000",
          "$ 608016",
          "$ 477480"
         ],
         "yaxis": "y"
        },
        {
         "hovertemplate": "Year=1923<br>Movie_Name=%{x}<br>budget=%{y}<extra></extra>",
         "legendgroup": "1923",
         "marker": {
          "color": "#ab63fa",
          "symbol": "circle"
         },
         "mode": "markers",
         "name": "1923",
         "orientation": "v",
         "showlegend": true,
         "type": "scatter",
         "x": [
          "The Shock",
          "Scaramouche",
          "The Covered Wagon",
          "The White Rose"
         ],
         "xaxis": "x",
         "y": [
          "$ 90220",
          "$ 858723",
          "$ 782000",
          "$ 650000"
         ],
         "yaxis": "y"
        },
        {
         "hovertemplate": "Year=1928<br>Movie_Name=%{x}<br>budget=%{y}<extra></extra>",
         "legendgroup": "1928",
         "marker": {
          "color": "#FFA15A",
          "symbol": "circle"
         },
         "mode": "markers",
         "name": "1928",
         "orientation": "v",
         "showlegend": true,
         "type": "scatter",
         "x": [
          "The Circus",
          "The Godless Girl",
          "Lights of New York",
          "Sadie Thompson",
          "The Mating Call",
          "A Woman of Affairs"
         ],
         "xaxis": "x",
         "y": [
          "$ 900000",
          "$ 750000",
          "$ 75000",
          "$ 650000",
          "$ 400000",
          "$ 383000"
         ],
         "yaxis": "y"
        },
        {
         "hovertemplate": "Year=1932<br>Movie_Name=%{x}<br>budget=%{y}<extra></extra>",
         "legendgroup": "1932",
         "marker": {
          "color": "#19d3f3",
          "symbol": "circle"
         },
         "mode": "markers",
         "name": "1932",
         "orientation": "v",
         "showlegend": true,
         "type": "scatter",
         "x": [
          "Queen Kelly"
         ],
         "xaxis": "x",
         "y": [
          "$ 800000"
         ],
         "yaxis": "y"
        },
        {
         "hovertemplate": "Year=1920<br>Movie_Name=%{x}<br>budget=%{y}<extra></extra>",
         "legendgroup": "1920",
         "marker": {
          "color": "#FF6692",
          "symbol": "circle"
         },
         "mode": "markers",
         "name": "1920",
         "orientation": "v",
         "showlegend": true,
         "type": "scatter",
         "x": [
          "Way Down East"
         ],
         "xaxis": "x",
         "y": [
          "$ 700000"
         ],
         "yaxis": "y"
        },
        {
         "hovertemplate": "Year=1915<br>Movie_Name=%{x}<br>budget=%{y}<extra></extra>",
         "legendgroup": "1915",
         "marker": {
          "color": "#B6E880",
          "symbol": "circle"
         },
         "mode": "markers",
         "name": "1915",
         "orientation": "v",
         "showlegend": true,
         "type": "scatter",
         "x": [
          "Alice in Wonderland"
         ],
         "xaxis": "x",
         "y": [
          "$ 50000"
         ],
         "yaxis": "y"
        },
        {
         "hovertemplate": "Year=1914<br>Movie_Name=%{x}<br>budget=%{y}<extra></extra>",
         "legendgroup": "1914",
         "marker": {
          "color": "#FF97FF",
          "symbol": "circle"
         },
         "mode": "markers",
         "name": "1914",
         "orientation": "v",
         "showlegend": true,
         "type": "scatter",
         "x": [
          "Tillie's Punctured Romance",
          "Judith of Bethulia"
         ],
         "xaxis": "x",
         "y": [
          "$ 50000",
          "$ 40000"
         ],
         "yaxis": "y"
        },
        {
         "hovertemplate": "Year=1916<br>Movie_Name=%{x}<br>budget=%{y}<extra></extra>",
         "legendgroup": "1916",
         "marker": {
          "color": "#FECB52",
          "symbol": "circle"
         },
         "mode": "markers",
         "name": "1916",
         "orientation": "v",
         "showlegend": true,
         "type": "scatter",
         "x": [
          "His Picture in the Papers",
          "Intolerance: Love's Struggle Throughout the Ages"
         ],
         "xaxis": "x",
         "y": [
          "$ 42600",
          "$ 385907"
         ],
         "yaxis": "y"
        }
       ],
       "layout": {
        "legend": {
         "title": {
          "text": "Year"
         },
         "tracegroupgap": 0
        },
        "margin": {
         "t": 60
        },
        "template": {
         "data": {
          "bar": [
           {
            "error_x": {
             "color": "#f2f5fa"
            },
            "error_y": {
             "color": "#f2f5fa"
            },
            "marker": {
             "line": {
              "color": "rgb(17,17,17)",
              "width": 0.5
             },
             "pattern": {
              "fillmode": "overlay",
              "size": 10,
              "solidity": 0.2
             }
            },
            "type": "bar"
           }
          ],
          "barpolar": [
           {
            "marker": {
             "line": {
              "color": "rgb(17,17,17)",
              "width": 0.5
             },
             "pattern": {
              "fillmode": "overlay",
              "size": 10,
              "solidity": 0.2
             }
            },
            "type": "barpolar"
           }
          ],
          "carpet": [
           {
            "aaxis": {
             "endlinecolor": "#A2B1C6",
             "gridcolor": "#506784",
             "linecolor": "#506784",
             "minorgridcolor": "#506784",
             "startlinecolor": "#A2B1C6"
            },
            "baxis": {
             "endlinecolor": "#A2B1C6",
             "gridcolor": "#506784",
             "linecolor": "#506784",
             "minorgridcolor": "#506784",
             "startlinecolor": "#A2B1C6"
            },
            "type": "carpet"
           }
          ],
          "choropleth": [
           {
            "colorbar": {
             "outlinewidth": 0,
             "ticks": ""
            },
            "type": "choropleth"
           }
          ],
          "contour": [
           {
            "colorbar": {
             "outlinewidth": 0,
             "ticks": ""
            },
            "colorscale": [
             [
              0,
              "#0d0887"
             ],
             [
              0.1111111111111111,
              "#46039f"
             ],
             [
              0.2222222222222222,
              "#7201a8"
             ],
             [
              0.3333333333333333,
              "#9c179e"
             ],
             [
              0.4444444444444444,
              "#bd3786"
             ],
             [
              0.5555555555555556,
              "#d8576b"
             ],
             [
              0.6666666666666666,
              "#ed7953"
             ],
             [
              0.7777777777777778,
              "#fb9f3a"
             ],
             [
              0.8888888888888888,
              "#fdca26"
             ],
             [
              1,
              "#f0f921"
             ]
            ],
            "type": "contour"
           }
          ],
          "contourcarpet": [
           {
            "colorbar": {
             "outlinewidth": 0,
             "ticks": ""
            },
            "type": "contourcarpet"
           }
          ],
          "heatmap": [
           {
            "colorbar": {
             "outlinewidth": 0,
             "ticks": ""
            },
            "colorscale": [
             [
              0,
              "#0d0887"
             ],
             [
              0.1111111111111111,
              "#46039f"
             ],
             [
              0.2222222222222222,
              "#7201a8"
             ],
             [
              0.3333333333333333,
              "#9c179e"
             ],
             [
              0.4444444444444444,
              "#bd3786"
             ],
             [
              0.5555555555555556,
              "#d8576b"
             ],
             [
              0.6666666666666666,
              "#ed7953"
             ],
             [
              0.7777777777777778,
              "#fb9f3a"
             ],
             [
              0.8888888888888888,
              "#fdca26"
             ],
             [
              1,
              "#f0f921"
             ]
            ],
            "type": "heatmap"
           }
          ],
          "heatmapgl": [
           {
            "colorbar": {
             "outlinewidth": 0,
             "ticks": ""
            },
            "colorscale": [
             [
              0,
              "#0d0887"
             ],
             [
              0.1111111111111111,
              "#46039f"
             ],
             [
              0.2222222222222222,
              "#7201a8"
             ],
             [
              0.3333333333333333,
              "#9c179e"
             ],
             [
              0.4444444444444444,
              "#bd3786"
             ],
             [
              0.5555555555555556,
              "#d8576b"
             ],
             [
              0.6666666666666666,
              "#ed7953"
             ],
             [
              0.7777777777777778,
              "#fb9f3a"
             ],
             [
              0.8888888888888888,
              "#fdca26"
             ],
             [
              1,
              "#f0f921"
             ]
            ],
            "type": "heatmapgl"
           }
          ],
          "histogram": [
           {
            "marker": {
             "pattern": {
              "fillmode": "overlay",
              "size": 10,
              "solidity": 0.2
             }
            },
            "type": "histogram"
           }
          ],
          "histogram2d": [
           {
            "colorbar": {
             "outlinewidth": 0,
             "ticks": ""
            },
            "colorscale": [
             [
              0,
              "#0d0887"
             ],
             [
              0.1111111111111111,
              "#46039f"
             ],
             [
              0.2222222222222222,
              "#7201a8"
             ],
             [
              0.3333333333333333,
              "#9c179e"
             ],
             [
              0.4444444444444444,
              "#bd3786"
             ],
             [
              0.5555555555555556,
              "#d8576b"
             ],
             [
              0.6666666666666666,
              "#ed7953"
             ],
             [
              0.7777777777777778,
              "#fb9f3a"
             ],
             [
              0.8888888888888888,
              "#fdca26"
             ],
             [
              1,
              "#f0f921"
             ]
            ],
            "type": "histogram2d"
           }
          ],
          "histogram2dcontour": [
           {
            "colorbar": {
             "outlinewidth": 0,
             "ticks": ""
            },
            "colorscale": [
             [
              0,
              "#0d0887"
             ],
             [
              0.1111111111111111,
              "#46039f"
             ],
             [
              0.2222222222222222,
              "#7201a8"
             ],
             [
              0.3333333333333333,
              "#9c179e"
             ],
             [
              0.4444444444444444,
              "#bd3786"
             ],
             [
              0.5555555555555556,
              "#d8576b"
             ],
             [
              0.6666666666666666,
              "#ed7953"
             ],
             [
              0.7777777777777778,
              "#fb9f3a"
             ],
             [
              0.8888888888888888,
              "#fdca26"
             ],
             [
              1,
              "#f0f921"
             ]
            ],
            "type": "histogram2dcontour"
           }
          ],
          "mesh3d": [
           {
            "colorbar": {
             "outlinewidth": 0,
             "ticks": ""
            },
            "type": "mesh3d"
           }
          ],
          "parcoords": [
           {
            "line": {
             "colorbar": {
              "outlinewidth": 0,
              "ticks": ""
             }
            },
            "type": "parcoords"
           }
          ],
          "pie": [
           {
            "automargin": true,
            "type": "pie"
           }
          ],
          "scatter": [
           {
            "marker": {
             "line": {
              "color": "#283442"
             }
            },
            "type": "scatter"
           }
          ],
          "scatter3d": [
           {
            "line": {
             "colorbar": {
              "outlinewidth": 0,
              "ticks": ""
             }
            },
            "marker": {
             "colorbar": {
              "outlinewidth": 0,
              "ticks": ""
             }
            },
            "type": "scatter3d"
           }
          ],
          "scattercarpet": [
           {
            "marker": {
             "colorbar": {
              "outlinewidth": 0,
              "ticks": ""
             }
            },
            "type": "scattercarpet"
           }
          ],
          "scattergeo": [
           {
            "marker": {
             "colorbar": {
              "outlinewidth": 0,
              "ticks": ""
             }
            },
            "type": "scattergeo"
           }
          ],
          "scattergl": [
           {
            "marker": {
             "line": {
              "color": "#283442"
             }
            },
            "type": "scattergl"
           }
          ],
          "scattermapbox": [
           {
            "marker": {
             "colorbar": {
              "outlinewidth": 0,
              "ticks": ""
             }
            },
            "type": "scattermapbox"
           }
          ],
          "scatterpolar": [
           {
            "marker": {
             "colorbar": {
              "outlinewidth": 0,
              "ticks": ""
             }
            },
            "type": "scatterpolar"
           }
          ],
          "scatterpolargl": [
           {
            "marker": {
             "colorbar": {
              "outlinewidth": 0,
              "ticks": ""
             }
            },
            "type": "scatterpolargl"
           }
          ],
          "scatterternary": [
           {
            "marker": {
             "colorbar": {
              "outlinewidth": 0,
              "ticks": ""
             }
            },
            "type": "scatterternary"
           }
          ],
          "surface": [
           {
            "colorbar": {
             "outlinewidth": 0,
             "ticks": ""
            },
            "colorscale": [
             [
              0,
              "#0d0887"
             ],
             [
              0.1111111111111111,
              "#46039f"
             ],
             [
              0.2222222222222222,
              "#7201a8"
             ],
             [
              0.3333333333333333,
              "#9c179e"
             ],
             [
              0.4444444444444444,
              "#bd3786"
             ],
             [
              0.5555555555555556,
              "#d8576b"
             ],
             [
              0.6666666666666666,
              "#ed7953"
             ],
             [
              0.7777777777777778,
              "#fb9f3a"
             ],
             [
              0.8888888888888888,
              "#fdca26"
             ],
             [
              1,
              "#f0f921"
             ]
            ],
            "type": "surface"
           }
          ],
          "table": [
           {
            "cells": {
             "fill": {
              "color": "#506784"
             },
             "line": {
              "color": "rgb(17,17,17)"
             }
            },
            "header": {
             "fill": {
              "color": "#2a3f5f"
             },
             "line": {
              "color": "rgb(17,17,17)"
             }
            },
            "type": "table"
           }
          ]
         },
         "layout": {
          "annotationdefaults": {
           "arrowcolor": "#f2f5fa",
           "arrowhead": 0,
           "arrowwidth": 1
          },
          "autotypenumbers": "strict",
          "coloraxis": {
           "colorbar": {
            "outlinewidth": 0,
            "ticks": ""
           }
          },
          "colorscale": {
           "diverging": [
            [
             0,
             "#8e0152"
            ],
            [
             0.1,
             "#c51b7d"
            ],
            [
             0.2,
             "#de77ae"
            ],
            [
             0.3,
             "#f1b6da"
            ],
            [
             0.4,
             "#fde0ef"
            ],
            [
             0.5,
             "#f7f7f7"
            ],
            [
             0.6,
             "#e6f5d0"
            ],
            [
             0.7,
             "#b8e186"
            ],
            [
             0.8,
             "#7fbc41"
            ],
            [
             0.9,
             "#4d9221"
            ],
            [
             1,
             "#276419"
            ]
           ],
           "sequential": [
            [
             0,
             "#0d0887"
            ],
            [
             0.1111111111111111,
             "#46039f"
            ],
            [
             0.2222222222222222,
             "#7201a8"
            ],
            [
             0.3333333333333333,
             "#9c179e"
            ],
            [
             0.4444444444444444,
             "#bd3786"
            ],
            [
             0.5555555555555556,
             "#d8576b"
            ],
            [
             0.6666666666666666,
             "#ed7953"
            ],
            [
             0.7777777777777778,
             "#fb9f3a"
            ],
            [
             0.8888888888888888,
             "#fdca26"
            ],
            [
             1,
             "#f0f921"
            ]
           ],
           "sequentialminus": [
            [
             0,
             "#0d0887"
            ],
            [
             0.1111111111111111,
             "#46039f"
            ],
            [
             0.2222222222222222,
             "#7201a8"
            ],
            [
             0.3333333333333333,
             "#9c179e"
            ],
            [
             0.4444444444444444,
             "#bd3786"
            ],
            [
             0.5555555555555556,
             "#d8576b"
            ],
            [
             0.6666666666666666,
             "#ed7953"
            ],
            [
             0.7777777777777778,
             "#fb9f3a"
            ],
            [
             0.8888888888888888,
             "#fdca26"
            ],
            [
             1,
             "#f0f921"
            ]
           ]
          },
          "colorway": [
           "#636efa",
           "#EF553B",
           "#00cc96",
           "#ab63fa",
           "#FFA15A",
           "#19d3f3",
           "#FF6692",
           "#B6E880",
           "#FF97FF",
           "#FECB52"
          ],
          "font": {
           "color": "#f2f5fa"
          },
          "geo": {
           "bgcolor": "rgb(17,17,17)",
           "lakecolor": "rgb(17,17,17)",
           "landcolor": "rgb(17,17,17)",
           "showlakes": true,
           "showland": true,
           "subunitcolor": "#506784"
          },
          "hoverlabel": {
           "align": "left"
          },
          "hovermode": "closest",
          "mapbox": {
           "style": "dark"
          },
          "paper_bgcolor": "rgb(17,17,17)",
          "plot_bgcolor": "rgb(17,17,17)",
          "polar": {
           "angularaxis": {
            "gridcolor": "#506784",
            "linecolor": "#506784",
            "ticks": ""
           },
           "bgcolor": "rgb(17,17,17)",
           "radialaxis": {
            "gridcolor": "#506784",
            "linecolor": "#506784",
            "ticks": ""
           }
          },
          "scene": {
           "xaxis": {
            "backgroundcolor": "rgb(17,17,17)",
            "gridcolor": "#506784",
            "gridwidth": 2,
            "linecolor": "#506784",
            "showbackground": true,
            "ticks": "",
            "zerolinecolor": "#C8D4E3"
           },
           "yaxis": {
            "backgroundcolor": "rgb(17,17,17)",
            "gridcolor": "#506784",
            "gridwidth": 2,
            "linecolor": "#506784",
            "showbackground": true,
            "ticks": "",
            "zerolinecolor": "#C8D4E3"
           },
           "zaxis": {
            "backgroundcolor": "rgb(17,17,17)",
            "gridcolor": "#506784",
            "gridwidth": 2,
            "linecolor": "#506784",
            "showbackground": true,
            "ticks": "",
            "zerolinecolor": "#C8D4E3"
           }
          },
          "shapedefaults": {
           "line": {
            "color": "#f2f5fa"
           }
          },
          "sliderdefaults": {
           "bgcolor": "#C8D4E3",
           "bordercolor": "rgb(17,17,17)",
           "borderwidth": 1,
           "tickwidth": 0
          },
          "ternary": {
           "aaxis": {
            "gridcolor": "#506784",
            "linecolor": "#506784",
            "ticks": ""
           },
           "baxis": {
            "gridcolor": "#506784",
            "linecolor": "#506784",
            "ticks": ""
           },
           "bgcolor": "rgb(17,17,17)",
           "caxis": {
            "gridcolor": "#506784",
            "linecolor": "#506784",
            "ticks": ""
           }
          },
          "title": {
           "x": 0.05
          },
          "updatemenudefaults": {
           "bgcolor": "#506784",
           "borderwidth": 0
          },
          "xaxis": {
           "automargin": true,
           "gridcolor": "#283442",
           "linecolor": "#506784",
           "ticks": "",
           "title": {
            "standoff": 15
           },
           "zerolinecolor": "#283442",
           "zerolinewidth": 2
          },
          "yaxis": {
           "automargin": true,
           "gridcolor": "#283442",
           "linecolor": "#506784",
           "ticks": "",
           "title": {
            "standoff": 15
           },
           "zerolinecolor": "#283442",
           "zerolinewidth": 2
          }
         }
        },
        "xaxis": {
         "anchor": "y",
         "domain": [
          0,
          1
         ],
         "title": {
          "text": "Movie_Name"
         }
        },
        "yaxis": {
         "anchor": "x",
         "domain": [
          0,
          1
         ],
         "title": {
          "text": "budget"
         }
        }
       }
      }
     },
     "metadata": {},
     "output_type": "display_data"
    }
   ],
   "source": [
    "px.scatter(df2.head(100), x='Movie_Name' , y='budget', color= 'Year',template='plotly_dark')"
   ]
  },
  {
   "cell_type": "code",
   "execution_count": 57,
   "metadata": {},
   "outputs": [],
   "source": [
    "df3=df.sort_values('Worldwide_gross_income', ascending=False)"
   ]
  },
  {
   "cell_type": "code",
   "execution_count": 60,
   "metadata": {},
   "outputs": [
    {
     "data": {
      "application/vnd.plotly.v1+json": {
       "config": {
        "plotlyServerURL": "https://plot.ly"
       },
       "data": [
        {
         "hovertemplate": "Year=1921<br>Movie_Name=%{x}<br>Worldwide_gross_income=%{y}<extra></extra>",
         "legendgroup": "1921",
         "line": {
          "color": "#636efa"
         },
         "marker": {
          "symbol": "circle"
         },
         "mode": "lines",
         "name": "1921",
         "orientation": "v",
         "showlegend": true,
         "stackgroup": "1",
         "type": "scatter",
         "x": [
          "The Four Horsemen of the Apocalypse",
          "Markens grøde",
          "The Kid",
          "Der müde Tod",
          "Little Lord Fauntleroy"
         ],
         "xaxis": "x",
         "y": [
          "$ 9183673",
          "$ 4272",
          "$ 26916",
          "$ 12156",
          "$ 1108882"
         ],
         "yaxis": "y"
        },
        {
         "hovertemplate": "Year=1920<br>Movie_Name=%{x}<br>Worldwide_gross_income=%{y}<extra></extra>",
         "legendgroup": "1920",
         "line": {
          "color": "#EF553B"
         },
         "marker": {
          "symbol": "circle"
         },
         "mode": "lines",
         "name": "1920",
         "orientation": "v",
         "showlegend": true,
         "stackgroup": "1",
         "type": "scatter",
         "x": [
          "Das Cabinet des Dr. Caligari",
          "Suds"
         ],
         "xaxis": "x",
         "y": [
          "$ 8811",
          "$ 772155"
         ],
         "yaxis": "y"
        },
        {
         "hovertemplate": "Year=1929<br>Movie_Name=%{x}<br>Worldwide_gross_income=%{y}<extra></extra>",
         "legendgroup": "1929",
         "line": {
          "color": "#00cc96"
         },
         "marker": {
          "symbol": "circle"
         },
         "mode": "lines",
         "name": "1929",
         "orientation": "v",
         "showlegend": true,
         "stackgroup": "1",
         "type": "scatter",
         "x": [
          "Gold Diggers of Broadway",
          "Die Büchse der Pandora",
          "The Hollywood Revue of 1929",
          "Prapancha Pash"
         ],
         "xaxis": "x",
         "y": [
          "$ 8648060",
          "$ 62686",
          "$ 5277780",
          "$ 2306"
         ],
         "yaxis": "y"
        },
        {
         "hovertemplate": "Year=1927<br>Movie_Name=%{x}<br>Worldwide_gross_income=%{y}<extra></extra>",
         "legendgroup": "1927",
         "line": {
          "color": "#ab63fa"
         },
         "marker": {
          "symbol": "circle"
         },
         "mode": "lines",
         "name": "1927",
         "orientation": "v",
         "showlegend": true,
         "stackgroup": "1",
         "type": "scatter",
         "x": [
          "The Lodger: A Story of the London Fog",
          "Wings",
          "The Unknown",
          "Napoléon vu par Abel Gance",
          "Metropolis",
          "Sunrise: A Song of Two Humans"
         ],
         "xaxis": "x",
         "y": [
          "$ 83260",
          "$ 746",
          "$ 4841",
          "$ 39448",
          "$ 1349711",
          "$ 121107"
         ],
         "yaxis": "y"
        },
        {
         "hovertemplate": "Year=1925<br>Movie_Name=%{x}<br>Worldwide_gross_income=%{y}<extra></extra>",
         "legendgroup": "1925",
         "line": {
          "color": "#FFA15A"
         },
         "marker": {
          "symbol": "circle"
         },
         "mode": "lines",
         "name": "1925",
         "orientation": "v",
         "showlegend": true,
         "stackgroup": "1",
         "type": "scatter",
         "x": [
          "Bronenosets Potemkin",
          "The Phantom of the Opera",
          "The Lost World",
          "The Gold Rush"
         ],
         "xaxis": "x",
         "y": [
          "$ 61389",
          "$ 4360000",
          "$ 2834000",
          "$ 26916"
         ],
         "yaxis": "y"
        },
        {
         "hovertemplate": "Year=1930<br>Movie_Name=%{x}<br>Worldwide_gross_income=%{y}<extra></extra>",
         "legendgroup": "1930",
         "line": {
          "color": "#19d3f3"
         },
         "marker": {
          "symbol": "circle"
         },
         "mode": "lines",
         "name": "1930",
         "orientation": "v",
         "showlegend": true,
         "stackgroup": "1",
         "type": "scatter",
         "x": [
          "Der blaue Engel",
          "Madam Satan"
         ],
         "xaxis": "x",
         "y": [
          "$ 4410",
          "$ 1005"
         ],
         "yaxis": "y"
        },
        {
         "hovertemplate": "Year=1928<br>Movie_Name=%{x}<br>Worldwide_gross_income=%{y}<extra></extra>",
         "legendgroup": "1928",
         "line": {
          "color": "#FF6692"
         },
         "marker": {
          "symbol": "circle"
         },
         "mode": "lines",
         "name": "1928",
         "orientation": "v",
         "showlegend": true,
         "stackgroup": "1",
         "type": "scatter",
         "x": [
          "The Man Who Laughs",
          "The Circus",
          "La passion de Jeanne d'Arc",
          "The Cameraman",
          "Shiraz",
          "The Singing Fool"
         ],
         "xaxis": "x",
         "y": [
          "$ 4347",
          "$ 26916",
          "$ 21877",
          "$ 1737460",
          "$ 16467",
          "$ 12862000"
         ],
         "yaxis": "y"
        },
        {
         "hovertemplate": "Year=1937<br>Movie_Name=%{x}<br>Worldwide_gross_income=%{y}<extra></extra>",
         "legendgroup": "1937",
         "line": {
          "color": "#B6E880"
         },
         "marker": {
          "symbol": "circle"
         },
         "mode": "lines",
         "name": "1937",
         "orientation": "v",
         "showlegend": true,
         "stackgroup": "1",
         "type": "scatter",
         "x": [
          "Le roman de Renard"
         ],
         "xaxis": "x",
         "y": [
          "$ 2094"
         ],
         "yaxis": "y"
        },
        {
         "hovertemplate": "Year=1922<br>Movie_Name=%{x}<br>Worldwide_gross_income=%{y}<extra></extra>",
         "legendgroup": "1922",
         "line": {
          "color": "#FF97FF"
         },
         "marker": {
          "symbol": "circle"
         },
         "mode": "lines",
         "name": "1922",
         "orientation": "v",
         "showlegend": true,
         "stackgroup": "1",
         "type": "scatter",
         "x": [
          "Nosferatu, eine Symphonie des Grauens"
         ],
         "xaxis": "x",
         "y": [
          "$ 19054"
         ],
         "yaxis": "y"
        },
        {
         "hovertemplate": "Year=1916<br>Movie_Name=%{x}<br>Worldwide_gross_income=%{y}<extra></extra>",
         "legendgroup": "1916",
         "line": {
          "color": "#FECB52"
         },
         "marker": {
          "symbol": "circle"
         },
         "mode": "lines",
         "name": "1916",
         "orientation": "v",
         "showlegend": true,
         "stackgroup": "1",
         "type": "scatter",
         "x": [
          "Pikovaya dama",
          "Hævnens Nat",
          "20,000 Leagues Under the Sea",
          "The Children in the House"
         ],
         "xaxis": "x",
         "y": [
          "$ 144968",
          null,
          null,
          null
         ],
         "yaxis": "y"
        },
        {
         "hovertemplate": "Year=1923<br>Movie_Name=%{x}<br>Worldwide_gross_income=%{y}<extra></extra>",
         "legendgroup": "1923",
         "line": {
          "color": "#636efa"
         },
         "marker": {
          "symbol": "circle"
         },
         "mode": "lines",
         "name": "1923",
         "orientation": "v",
         "showlegend": true,
         "stackgroup": "1",
         "type": "scatter",
         "x": [
          "A Woman of Paris: A Drama of Fate"
         ],
         "xaxis": "x",
         "y": [
          "$ 11233"
         ],
         "yaxis": "y"
        },
        {
         "hovertemplate": "Year=1926<br>Movie_Name=%{x}<br>Worldwide_gross_income=%{y}<extra></extra>",
         "legendgroup": "1926",
         "line": {
          "color": "#EF553B"
         },
         "marker": {
          "symbol": "circle"
         },
         "mode": "lines",
         "name": "1926",
         "orientation": "v",
         "showlegend": true,
         "stackgroup": "1",
         "type": "scatter",
         "x": [
          "Die Abenteuer des Prinzen Achmed"
         ],
         "xaxis": "x",
         "y": [
          "$ 100156"
         ],
         "yaxis": "y"
        },
        {
         "hovertemplate": "Year=1894<br>Movie_Name=%{x}<br>Worldwide_gross_income=%{y}<extra></extra>",
         "legendgroup": "1894",
         "line": {
          "color": "#00cc96"
         },
         "marker": {
          "symbol": "circle"
         },
         "mode": "lines",
         "name": "1894",
         "orientation": "v",
         "showlegend": true,
         "stackgroup": "1",
         "type": "scatter",
         "x": [
          "Miss Jerry"
         ],
         "xaxis": "x",
         "y": [
          null
         ],
         "yaxis": "y"
        },
        {
         "hovertemplate": "Year=1906<br>Movie_Name=%{x}<br>Worldwide_gross_income=%{y}<extra></extra>",
         "legendgroup": "1906",
         "line": {
          "color": "#ab63fa"
         },
         "marker": {
          "symbol": "circle"
         },
         "mode": "lines",
         "name": "1906",
         "orientation": "v",
         "showlegend": true,
         "stackgroup": "1",
         "type": "scatter",
         "x": [
          "The Story of the Kelly Gang"
         ],
         "xaxis": "x",
         "y": [
          null
         ],
         "yaxis": "y"
        },
        {
         "hovertemplate": "Year=1911<br>Movie_Name=%{x}<br>Worldwide_gross_income=%{y}<extra></extra>",
         "legendgroup": "1911",
         "line": {
          "color": "#FFA15A"
         },
         "marker": {
          "symbol": "circle"
         },
         "mode": "lines",
         "name": "1911",
         "orientation": "v",
         "showlegend": true,
         "stackgroup": "1",
         "type": "scatter",
         "x": [
          "Den sorte drøm",
          "L'Inferno"
         ],
         "xaxis": "x",
         "y": [
          null,
          null
         ],
         "yaxis": "y"
        },
        {
         "hovertemplate": "Year=1912<br>Movie_Name=%{x}<br>Worldwide_gross_income=%{y}<extra></extra>",
         "legendgroup": "1912",
         "line": {
          "color": "#19d3f3"
         },
         "marker": {
          "symbol": "circle"
         },
         "mode": "lines",
         "name": "1912",
         "orientation": "v",
         "showlegend": true,
         "stackgroup": "1",
         "type": "scatter",
         "x": [
          "Cleopatra",
          "From the Manger to the Cross; or, Jesus of Nazareth",
          "Independenta Romaniei",
          "Richard III"
         ],
         "xaxis": "x",
         "y": [
          null,
          null,
          null,
          null
         ],
         "yaxis": "y"
        },
        {
         "hovertemplate": "Year=1919<br>Movie_Name=%{x}<br>Worldwide_gross_income=%{y}<extra></extra>",
         "legendgroup": "1919",
         "line": {
          "color": "#FF6692"
         },
         "marker": {
          "symbol": "circle"
         },
         "mode": "lines",
         "name": "1919",
         "orientation": "v",
         "showlegend": true,
         "stackgroup": "1",
         "type": "scatter",
         "x": [
          "Madame DuBarry"
         ],
         "xaxis": "x",
         "y": [
          null
         ],
         "yaxis": "y"
        },
        {
         "hovertemplate": "Year=1913<br>Movie_Name=%{x}<br>Worldwide_gross_income=%{y}<extra></extra>",
         "legendgroup": "1913",
         "line": {
          "color": "#B6E880"
         },
         "marker": {
          "symbol": "circle"
         },
         "mode": "lines",
         "name": "1913",
         "orientation": "v",
         "showlegend": true,
         "stackgroup": "1",
         "type": "scatter",
         "x": [
          "Quo Vadis?",
          "Atlantis",
          "Fantômas - À l'ombre de la guillotine",
          "Ingeborg Holm",
          "Juve contre Fantômas",
          "Le mort qui tue",
          "Der Student von Prag",
          "Traffic in Souls",
          "Gli ultimi giorni di Pompei",
          "L'enfant de Paris"
         ],
         "xaxis": "x",
         "y": [
          null,
          null,
          null,
          null,
          null,
          null,
          null,
          null,
          null,
          null
         ],
         "yaxis": "y"
        },
        {
         "hovertemplate": "Year=1914<br>Movie_Name=%{x}<br>Worldwide_gross_income=%{y}<extra></extra>",
         "legendgroup": "1914",
         "line": {
          "color": "#FF97FF"
         },
         "marker": {
          "symbol": "circle"
         },
         "mode": "lines",
         "name": "1914",
         "orientation": "v",
         "showlegend": true,
         "stackgroup": "1",
         "type": "scatter",
         "x": [
          "Ma l'amor mio non muore...",
          "Maudite soit la guerre",
          "Home, Sweet Home",
          "The Avenging Conscience: or 'Thou Shalt Not Kill'",
          "The Bargain",
          "Cabiria",
          "Cinderella",
          "Fantômas contre Fantômas",
          "A Florida Enchantment",
          "Det hemmelighedsfulde X",
          "His Majesty, the Scarecrow of Oz",
          "In the Land of the Head Hunters",
          "Judith of Bethulia",
          "The Patchwork Girl of Oz",
          "The Perils of Pauline",
          "The Squaw Man",
          "Tess of the Storm Country",
          "Tillie's Punctured Romance",
          "Uncle Tom's Cabin",
          "The Virginian",
          "The Wishing Ring: An Idyll of Old England",
          "The Wrath of the Gods"
         ],
         "xaxis": "x",
         "y": [
          null,
          null,
          null,
          null,
          null,
          null,
          null,
          null,
          null,
          null,
          null,
          null,
          null,
          null,
          null,
          null,
          null,
          null,
          null,
          null,
          null,
          null
         ],
         "yaxis": "y"
        },
        {
         "hovertemplate": "Year=1915<br>Movie_Name=%{x}<br>Worldwide_gross_income=%{y}<extra></extra>",
         "legendgroup": "1915",
         "line": {
          "color": "#FECB52"
         },
         "marker": {
          "symbol": "circle"
         },
         "mode": "lines",
         "name": "1915",
         "orientation": "v",
         "showlegend": true,
         "stackgroup": "1",
         "type": "scatter",
         "x": [
          "Assunta Spina",
          "Der Golem",
          "Hypocrites",
          "A tolonc",
          "Alias Jimmy Valentine",
          "Alice in Wonderland",
          "The Birth of a Nation",
          "Carmen",
          "The Cheat",
          "The Coward",
          "A Fool There Was",
          "The Golden Chance",
          "The Italian",
          "Maciste",
          "Martyrs of the Alamo",
          "The Nigger",
          "Posle smerti",
          "The Regeneration",
          "Les vampires",
          "Young Romance",
          "Civilization"
         ],
         "xaxis": "x",
         "y": [
          null,
          null,
          null,
          null,
          null,
          null,
          null,
          null,
          null,
          null,
          null,
          null,
          null,
          null,
          null,
          null,
          null,
          null,
          null,
          null,
          null
         ],
         "yaxis": "y"
        },
        {
         "hovertemplate": "Year=1917<br>Movie_Name=%{x}<br>Worldwide_gross_income=%{y}<extra></extra>",
         "legendgroup": "1917",
         "line": {
          "color": "#636efa"
         },
         "marker": {
          "symbol": "circle"
         },
         "mode": "lines",
         "name": "1917",
         "orientation": "v",
         "showlegend": true,
         "stackgroup": "1",
         "type": "scatter",
         "x": [
          "Rapsodia satanica"
         ],
         "xaxis": "x",
         "y": [
          null
         ],
         "yaxis": "y"
        }
       ],
       "layout": {
        "legend": {
         "title": {
          "text": "Year"
         },
         "tracegroupgap": 0
        },
        "margin": {
         "t": 60
        },
        "template": {
         "data": {
          "bar": [
           {
            "error_x": {
             "color": "#f2f5fa"
            },
            "error_y": {
             "color": "#f2f5fa"
            },
            "marker": {
             "line": {
              "color": "rgb(17,17,17)",
              "width": 0.5
             },
             "pattern": {
              "fillmode": "overlay",
              "size": 10,
              "solidity": 0.2
             }
            },
            "type": "bar"
           }
          ],
          "barpolar": [
           {
            "marker": {
             "line": {
              "color": "rgb(17,17,17)",
              "width": 0.5
             },
             "pattern": {
              "fillmode": "overlay",
              "size": 10,
              "solidity": 0.2
             }
            },
            "type": "barpolar"
           }
          ],
          "carpet": [
           {
            "aaxis": {
             "endlinecolor": "#A2B1C6",
             "gridcolor": "#506784",
             "linecolor": "#506784",
             "minorgridcolor": "#506784",
             "startlinecolor": "#A2B1C6"
            },
            "baxis": {
             "endlinecolor": "#A2B1C6",
             "gridcolor": "#506784",
             "linecolor": "#506784",
             "minorgridcolor": "#506784",
             "startlinecolor": "#A2B1C6"
            },
            "type": "carpet"
           }
          ],
          "choropleth": [
           {
            "colorbar": {
             "outlinewidth": 0,
             "ticks": ""
            },
            "type": "choropleth"
           }
          ],
          "contour": [
           {
            "colorbar": {
             "outlinewidth": 0,
             "ticks": ""
            },
            "colorscale": [
             [
              0,
              "#0d0887"
             ],
             [
              0.1111111111111111,
              "#46039f"
             ],
             [
              0.2222222222222222,
              "#7201a8"
             ],
             [
              0.3333333333333333,
              "#9c179e"
             ],
             [
              0.4444444444444444,
              "#bd3786"
             ],
             [
              0.5555555555555556,
              "#d8576b"
             ],
             [
              0.6666666666666666,
              "#ed7953"
             ],
             [
              0.7777777777777778,
              "#fb9f3a"
             ],
             [
              0.8888888888888888,
              "#fdca26"
             ],
             [
              1,
              "#f0f921"
             ]
            ],
            "type": "contour"
           }
          ],
          "contourcarpet": [
           {
            "colorbar": {
             "outlinewidth": 0,
             "ticks": ""
            },
            "type": "contourcarpet"
           }
          ],
          "heatmap": [
           {
            "colorbar": {
             "outlinewidth": 0,
             "ticks": ""
            },
            "colorscale": [
             [
              0,
              "#0d0887"
             ],
             [
              0.1111111111111111,
              "#46039f"
             ],
             [
              0.2222222222222222,
              "#7201a8"
             ],
             [
              0.3333333333333333,
              "#9c179e"
             ],
             [
              0.4444444444444444,
              "#bd3786"
             ],
             [
              0.5555555555555556,
              "#d8576b"
             ],
             [
              0.6666666666666666,
              "#ed7953"
             ],
             [
              0.7777777777777778,
              "#fb9f3a"
             ],
             [
              0.8888888888888888,
              "#fdca26"
             ],
             [
              1,
              "#f0f921"
             ]
            ],
            "type": "heatmap"
           }
          ],
          "heatmapgl": [
           {
            "colorbar": {
             "outlinewidth": 0,
             "ticks": ""
            },
            "colorscale": [
             [
              0,
              "#0d0887"
             ],
             [
              0.1111111111111111,
              "#46039f"
             ],
             [
              0.2222222222222222,
              "#7201a8"
             ],
             [
              0.3333333333333333,
              "#9c179e"
             ],
             [
              0.4444444444444444,
              "#bd3786"
             ],
             [
              0.5555555555555556,
              "#d8576b"
             ],
             [
              0.6666666666666666,
              "#ed7953"
             ],
             [
              0.7777777777777778,
              "#fb9f3a"
             ],
             [
              0.8888888888888888,
              "#fdca26"
             ],
             [
              1,
              "#f0f921"
             ]
            ],
            "type": "heatmapgl"
           }
          ],
          "histogram": [
           {
            "marker": {
             "pattern": {
              "fillmode": "overlay",
              "size": 10,
              "solidity": 0.2
             }
            },
            "type": "histogram"
           }
          ],
          "histogram2d": [
           {
            "colorbar": {
             "outlinewidth": 0,
             "ticks": ""
            },
            "colorscale": [
             [
              0,
              "#0d0887"
             ],
             [
              0.1111111111111111,
              "#46039f"
             ],
             [
              0.2222222222222222,
              "#7201a8"
             ],
             [
              0.3333333333333333,
              "#9c179e"
             ],
             [
              0.4444444444444444,
              "#bd3786"
             ],
             [
              0.5555555555555556,
              "#d8576b"
             ],
             [
              0.6666666666666666,
              "#ed7953"
             ],
             [
              0.7777777777777778,
              "#fb9f3a"
             ],
             [
              0.8888888888888888,
              "#fdca26"
             ],
             [
              1,
              "#f0f921"
             ]
            ],
            "type": "histogram2d"
           }
          ],
          "histogram2dcontour": [
           {
            "colorbar": {
             "outlinewidth": 0,
             "ticks": ""
            },
            "colorscale": [
             [
              0,
              "#0d0887"
             ],
             [
              0.1111111111111111,
              "#46039f"
             ],
             [
              0.2222222222222222,
              "#7201a8"
             ],
             [
              0.3333333333333333,
              "#9c179e"
             ],
             [
              0.4444444444444444,
              "#bd3786"
             ],
             [
              0.5555555555555556,
              "#d8576b"
             ],
             [
              0.6666666666666666,
              "#ed7953"
             ],
             [
              0.7777777777777778,
              "#fb9f3a"
             ],
             [
              0.8888888888888888,
              "#fdca26"
             ],
             [
              1,
              "#f0f921"
             ]
            ],
            "type": "histogram2dcontour"
           }
          ],
          "mesh3d": [
           {
            "colorbar": {
             "outlinewidth": 0,
             "ticks": ""
            },
            "type": "mesh3d"
           }
          ],
          "parcoords": [
           {
            "line": {
             "colorbar": {
              "outlinewidth": 0,
              "ticks": ""
             }
            },
            "type": "parcoords"
           }
          ],
          "pie": [
           {
            "automargin": true,
            "type": "pie"
           }
          ],
          "scatter": [
           {
            "marker": {
             "line": {
              "color": "#283442"
             }
            },
            "type": "scatter"
           }
          ],
          "scatter3d": [
           {
            "line": {
             "colorbar": {
              "outlinewidth": 0,
              "ticks": ""
             }
            },
            "marker": {
             "colorbar": {
              "outlinewidth": 0,
              "ticks": ""
             }
            },
            "type": "scatter3d"
           }
          ],
          "scattercarpet": [
           {
            "marker": {
             "colorbar": {
              "outlinewidth": 0,
              "ticks": ""
             }
            },
            "type": "scattercarpet"
           }
          ],
          "scattergeo": [
           {
            "marker": {
             "colorbar": {
              "outlinewidth": 0,
              "ticks": ""
             }
            },
            "type": "scattergeo"
           }
          ],
          "scattergl": [
           {
            "marker": {
             "line": {
              "color": "#283442"
             }
            },
            "type": "scattergl"
           }
          ],
          "scattermapbox": [
           {
            "marker": {
             "colorbar": {
              "outlinewidth": 0,
              "ticks": ""
             }
            },
            "type": "scattermapbox"
           }
          ],
          "scatterpolar": [
           {
            "marker": {
             "colorbar": {
              "outlinewidth": 0,
              "ticks": ""
             }
            },
            "type": "scatterpolar"
           }
          ],
          "scatterpolargl": [
           {
            "marker": {
             "colorbar": {
              "outlinewidth": 0,
              "ticks": ""
             }
            },
            "type": "scatterpolargl"
           }
          ],
          "scatterternary": [
           {
            "marker": {
             "colorbar": {
              "outlinewidth": 0,
              "ticks": ""
             }
            },
            "type": "scatterternary"
           }
          ],
          "surface": [
           {
            "colorbar": {
             "outlinewidth": 0,
             "ticks": ""
            },
            "colorscale": [
             [
              0,
              "#0d0887"
             ],
             [
              0.1111111111111111,
              "#46039f"
             ],
             [
              0.2222222222222222,
              "#7201a8"
             ],
             [
              0.3333333333333333,
              "#9c179e"
             ],
             [
              0.4444444444444444,
              "#bd3786"
             ],
             [
              0.5555555555555556,
              "#d8576b"
             ],
             [
              0.6666666666666666,
              "#ed7953"
             ],
             [
              0.7777777777777778,
              "#fb9f3a"
             ],
             [
              0.8888888888888888,
              "#fdca26"
             ],
             [
              1,
              "#f0f921"
             ]
            ],
            "type": "surface"
           }
          ],
          "table": [
           {
            "cells": {
             "fill": {
              "color": "#506784"
             },
             "line": {
              "color": "rgb(17,17,17)"
             }
            },
            "header": {
             "fill": {
              "color": "#2a3f5f"
             },
             "line": {
              "color": "rgb(17,17,17)"
             }
            },
            "type": "table"
           }
          ]
         },
         "layout": {
          "annotationdefaults": {
           "arrowcolor": "#f2f5fa",
           "arrowhead": 0,
           "arrowwidth": 1
          },
          "autotypenumbers": "strict",
          "coloraxis": {
           "colorbar": {
            "outlinewidth": 0,
            "ticks": ""
           }
          },
          "colorscale": {
           "diverging": [
            [
             0,
             "#8e0152"
            ],
            [
             0.1,
             "#c51b7d"
            ],
            [
             0.2,
             "#de77ae"
            ],
            [
             0.3,
             "#f1b6da"
            ],
            [
             0.4,
             "#fde0ef"
            ],
            [
             0.5,
             "#f7f7f7"
            ],
            [
             0.6,
             "#e6f5d0"
            ],
            [
             0.7,
             "#b8e186"
            ],
            [
             0.8,
             "#7fbc41"
            ],
            [
             0.9,
             "#4d9221"
            ],
            [
             1,
             "#276419"
            ]
           ],
           "sequential": [
            [
             0,
             "#0d0887"
            ],
            [
             0.1111111111111111,
             "#46039f"
            ],
            [
             0.2222222222222222,
             "#7201a8"
            ],
            [
             0.3333333333333333,
             "#9c179e"
            ],
            [
             0.4444444444444444,
             "#bd3786"
            ],
            [
             0.5555555555555556,
             "#d8576b"
            ],
            [
             0.6666666666666666,
             "#ed7953"
            ],
            [
             0.7777777777777778,
             "#fb9f3a"
            ],
            [
             0.8888888888888888,
             "#fdca26"
            ],
            [
             1,
             "#f0f921"
            ]
           ],
           "sequentialminus": [
            [
             0,
             "#0d0887"
            ],
            [
             0.1111111111111111,
             "#46039f"
            ],
            [
             0.2222222222222222,
             "#7201a8"
            ],
            [
             0.3333333333333333,
             "#9c179e"
            ],
            [
             0.4444444444444444,
             "#bd3786"
            ],
            [
             0.5555555555555556,
             "#d8576b"
            ],
            [
             0.6666666666666666,
             "#ed7953"
            ],
            [
             0.7777777777777778,
             "#fb9f3a"
            ],
            [
             0.8888888888888888,
             "#fdca26"
            ],
            [
             1,
             "#f0f921"
            ]
           ]
          },
          "colorway": [
           "#636efa",
           "#EF553B",
           "#00cc96",
           "#ab63fa",
           "#FFA15A",
           "#19d3f3",
           "#FF6692",
           "#B6E880",
           "#FF97FF",
           "#FECB52"
          ],
          "font": {
           "color": "#f2f5fa"
          },
          "geo": {
           "bgcolor": "rgb(17,17,17)",
           "lakecolor": "rgb(17,17,17)",
           "landcolor": "rgb(17,17,17)",
           "showlakes": true,
           "showland": true,
           "subunitcolor": "#506784"
          },
          "hoverlabel": {
           "align": "left"
          },
          "hovermode": "closest",
          "mapbox": {
           "style": "dark"
          },
          "paper_bgcolor": "rgb(17,17,17)",
          "plot_bgcolor": "rgb(17,17,17)",
          "polar": {
           "angularaxis": {
            "gridcolor": "#506784",
            "linecolor": "#506784",
            "ticks": ""
           },
           "bgcolor": "rgb(17,17,17)",
           "radialaxis": {
            "gridcolor": "#506784",
            "linecolor": "#506784",
            "ticks": ""
           }
          },
          "scene": {
           "xaxis": {
            "backgroundcolor": "rgb(17,17,17)",
            "gridcolor": "#506784",
            "gridwidth": 2,
            "linecolor": "#506784",
            "showbackground": true,
            "ticks": "",
            "zerolinecolor": "#C8D4E3"
           },
           "yaxis": {
            "backgroundcolor": "rgb(17,17,17)",
            "gridcolor": "#506784",
            "gridwidth": 2,
            "linecolor": "#506784",
            "showbackground": true,
            "ticks": "",
            "zerolinecolor": "#C8D4E3"
           },
           "zaxis": {
            "backgroundcolor": "rgb(17,17,17)",
            "gridcolor": "#506784",
            "gridwidth": 2,
            "linecolor": "#506784",
            "showbackground": true,
            "ticks": "",
            "zerolinecolor": "#C8D4E3"
           }
          },
          "shapedefaults": {
           "line": {
            "color": "#f2f5fa"
           }
          },
          "sliderdefaults": {
           "bgcolor": "#C8D4E3",
           "bordercolor": "rgb(17,17,17)",
           "borderwidth": 1,
           "tickwidth": 0
          },
          "ternary": {
           "aaxis": {
            "gridcolor": "#506784",
            "linecolor": "#506784",
            "ticks": ""
           },
           "baxis": {
            "gridcolor": "#506784",
            "linecolor": "#506784",
            "ticks": ""
           },
           "bgcolor": "rgb(17,17,17)",
           "caxis": {
            "gridcolor": "#506784",
            "linecolor": "#506784",
            "ticks": ""
           }
          },
          "title": {
           "x": 0.05
          },
          "updatemenudefaults": {
           "bgcolor": "#506784",
           "borderwidth": 0
          },
          "xaxis": {
           "automargin": true,
           "gridcolor": "#283442",
           "linecolor": "#506784",
           "ticks": "",
           "title": {
            "standoff": 15
           },
           "zerolinecolor": "#283442",
           "zerolinewidth": 2
          },
          "yaxis": {
           "automargin": true,
           "gridcolor": "#283442",
           "linecolor": "#506784",
           "ticks": "",
           "title": {
            "standoff": 15
           },
           "zerolinecolor": "#283442",
           "zerolinewidth": 2
          }
         }
        },
        "xaxis": {
         "anchor": "y",
         "domain": [
          0,
          1
         ],
         "title": {
          "text": "Movie_Name"
         }
        },
        "yaxis": {
         "anchor": "x",
         "domain": [
          0,
          1
         ],
         "title": {
          "text": "Worldwide_gross_income"
         }
        }
       }
      }
     },
     "metadata": {},
     "output_type": "display_data"
    }
   ],
   "source": [
    "px.area(df3.head(100), x='Movie_Name', y='Worldwide_gross_income' ,color= 'Year',template='plotly_dark')"
   ]
  },
  {
   "cell_type": "code",
   "execution_count": 66,
   "metadata": {},
   "outputs": [],
   "source": [
    "df5= df.groupby('Year', as_index=False).count().sort_values('Movie_Name',ascending=False)"
   ]
  },
  {
   "cell_type": "code",
   "execution_count": 71,
   "metadata": {},
   "outputs": [
    {
     "data": {
      "application/vnd.plotly.v1+json": {
       "config": {
        "plotlyServerURL": "https://plot.ly"
       },
       "data": [
        {
         "domain": {
          "x": [
           0,
           1
          ],
          "y": [
           0,
           1
          ]
         },
         "hovertemplate": "Year=%{label}<br>Movie_Name=%{value}<extra></extra>",
         "labels": [
          1930,
          1929,
          1928,
          1927,
          1926,
          1925,
          1924,
          1919,
          1921,
          1920,
          1922,
          1923,
          1916,
          1918,
          1917,
          1914,
          1915,
          1913,
          1931,
          1912
         ],
         "legendgroup": "",
         "name": "",
         "showlegend": true,
         "type": "pie",
         "values": [
          153,
          139,
          84,
          77,
          71,
          67,
          50,
          46,
          45,
          44,
          42,
          32,
          27,
          26,
          24,
          22,
          21,
          10,
          6,
          4
         ]
        }
       ],
       "layout": {
        "legend": {
         "tracegroupgap": 0
        },
        "margin": {
         "t": 60
        },
        "piecolorway": [
         "rgb(54, 14, 36)",
         "rgb(80, 20, 66)",
         "rgb(100, 31, 104)",
         "rgb(113, 50, 141)",
         "rgb(119, 74, 175)",
         "rgb(120, 100, 202)",
         "rgb(117, 127, 221)",
         "rgb(115, 154, 228)",
         "rgb(129, 180, 227)",
         "rgb(156, 201, 226)",
         "rgb(191, 221, 229)",
         "rgb(230, 240, 240)"
        ],
        "template": {
         "data": {
          "bar": [
           {
            "error_x": {
             "color": "#2a3f5f"
            },
            "error_y": {
             "color": "#2a3f5f"
            },
            "marker": {
             "line": {
              "color": "#E5ECF6",
              "width": 0.5
             },
             "pattern": {
              "fillmode": "overlay",
              "size": 10,
              "solidity": 0.2
             }
            },
            "type": "bar"
           }
          ],
          "barpolar": [
           {
            "marker": {
             "line": {
              "color": "#E5ECF6",
              "width": 0.5
             },
             "pattern": {
              "fillmode": "overlay",
              "size": 10,
              "solidity": 0.2
             }
            },
            "type": "barpolar"
           }
          ],
          "carpet": [
           {
            "aaxis": {
             "endlinecolor": "#2a3f5f",
             "gridcolor": "white",
             "linecolor": "white",
             "minorgridcolor": "white",
             "startlinecolor": "#2a3f5f"
            },
            "baxis": {
             "endlinecolor": "#2a3f5f",
             "gridcolor": "white",
             "linecolor": "white",
             "minorgridcolor": "white",
             "startlinecolor": "#2a3f5f"
            },
            "type": "carpet"
           }
          ],
          "choropleth": [
           {
            "colorbar": {
             "outlinewidth": 0,
             "ticks": ""
            },
            "type": "choropleth"
           }
          ],
          "contour": [
           {
            "colorbar": {
             "outlinewidth": 0,
             "ticks": ""
            },
            "colorscale": [
             [
              0,
              "#0d0887"
             ],
             [
              0.1111111111111111,
              "#46039f"
             ],
             [
              0.2222222222222222,
              "#7201a8"
             ],
             [
              0.3333333333333333,
              "#9c179e"
             ],
             [
              0.4444444444444444,
              "#bd3786"
             ],
             [
              0.5555555555555556,
              "#d8576b"
             ],
             [
              0.6666666666666666,
              "#ed7953"
             ],
             [
              0.7777777777777778,
              "#fb9f3a"
             ],
             [
              0.8888888888888888,
              "#fdca26"
             ],
             [
              1,
              "#f0f921"
             ]
            ],
            "type": "contour"
           }
          ],
          "contourcarpet": [
           {
            "colorbar": {
             "outlinewidth": 0,
             "ticks": ""
            },
            "type": "contourcarpet"
           }
          ],
          "heatmap": [
           {
            "colorbar": {
             "outlinewidth": 0,
             "ticks": ""
            },
            "colorscale": [
             [
              0,
              "#0d0887"
             ],
             [
              0.1111111111111111,
              "#46039f"
             ],
             [
              0.2222222222222222,
              "#7201a8"
             ],
             [
              0.3333333333333333,
              "#9c179e"
             ],
             [
              0.4444444444444444,
              "#bd3786"
             ],
             [
              0.5555555555555556,
              "#d8576b"
             ],
             [
              0.6666666666666666,
              "#ed7953"
             ],
             [
              0.7777777777777778,
              "#fb9f3a"
             ],
             [
              0.8888888888888888,
              "#fdca26"
             ],
             [
              1,
              "#f0f921"
             ]
            ],
            "type": "heatmap"
           }
          ],
          "heatmapgl": [
           {
            "colorbar": {
             "outlinewidth": 0,
             "ticks": ""
            },
            "colorscale": [
             [
              0,
              "#0d0887"
             ],
             [
              0.1111111111111111,
              "#46039f"
             ],
             [
              0.2222222222222222,
              "#7201a8"
             ],
             [
              0.3333333333333333,
              "#9c179e"
             ],
             [
              0.4444444444444444,
              "#bd3786"
             ],
             [
              0.5555555555555556,
              "#d8576b"
             ],
             [
              0.6666666666666666,
              "#ed7953"
             ],
             [
              0.7777777777777778,
              "#fb9f3a"
             ],
             [
              0.8888888888888888,
              "#fdca26"
             ],
             [
              1,
              "#f0f921"
             ]
            ],
            "type": "heatmapgl"
           }
          ],
          "histogram": [
           {
            "marker": {
             "pattern": {
              "fillmode": "overlay",
              "size": 10,
              "solidity": 0.2
             }
            },
            "type": "histogram"
           }
          ],
          "histogram2d": [
           {
            "colorbar": {
             "outlinewidth": 0,
             "ticks": ""
            },
            "colorscale": [
             [
              0,
              "#0d0887"
             ],
             [
              0.1111111111111111,
              "#46039f"
             ],
             [
              0.2222222222222222,
              "#7201a8"
             ],
             [
              0.3333333333333333,
              "#9c179e"
             ],
             [
              0.4444444444444444,
              "#bd3786"
             ],
             [
              0.5555555555555556,
              "#d8576b"
             ],
             [
              0.6666666666666666,
              "#ed7953"
             ],
             [
              0.7777777777777778,
              "#fb9f3a"
             ],
             [
              0.8888888888888888,
              "#fdca26"
             ],
             [
              1,
              "#f0f921"
             ]
            ],
            "type": "histogram2d"
           }
          ],
          "histogram2dcontour": [
           {
            "colorbar": {
             "outlinewidth": 0,
             "ticks": ""
            },
            "colorscale": [
             [
              0,
              "#0d0887"
             ],
             [
              0.1111111111111111,
              "#46039f"
             ],
             [
              0.2222222222222222,
              "#7201a8"
             ],
             [
              0.3333333333333333,
              "#9c179e"
             ],
             [
              0.4444444444444444,
              "#bd3786"
             ],
             [
              0.5555555555555556,
              "#d8576b"
             ],
             [
              0.6666666666666666,
              "#ed7953"
             ],
             [
              0.7777777777777778,
              "#fb9f3a"
             ],
             [
              0.8888888888888888,
              "#fdca26"
             ],
             [
              1,
              "#f0f921"
             ]
            ],
            "type": "histogram2dcontour"
           }
          ],
          "mesh3d": [
           {
            "colorbar": {
             "outlinewidth": 0,
             "ticks": ""
            },
            "type": "mesh3d"
           }
          ],
          "parcoords": [
           {
            "line": {
             "colorbar": {
              "outlinewidth": 0,
              "ticks": ""
             }
            },
            "type": "parcoords"
           }
          ],
          "pie": [
           {
            "automargin": true,
            "type": "pie"
           }
          ],
          "scatter": [
           {
            "marker": {
             "colorbar": {
              "outlinewidth": 0,
              "ticks": ""
             }
            },
            "type": "scatter"
           }
          ],
          "scatter3d": [
           {
            "line": {
             "colorbar": {
              "outlinewidth": 0,
              "ticks": ""
             }
            },
            "marker": {
             "colorbar": {
              "outlinewidth": 0,
              "ticks": ""
             }
            },
            "type": "scatter3d"
           }
          ],
          "scattercarpet": [
           {
            "marker": {
             "colorbar": {
              "outlinewidth": 0,
              "ticks": ""
             }
            },
            "type": "scattercarpet"
           }
          ],
          "scattergeo": [
           {
            "marker": {
             "colorbar": {
              "outlinewidth": 0,
              "ticks": ""
             }
            },
            "type": "scattergeo"
           }
          ],
          "scattergl": [
           {
            "marker": {
             "colorbar": {
              "outlinewidth": 0,
              "ticks": ""
             }
            },
            "type": "scattergl"
           }
          ],
          "scattermapbox": [
           {
            "marker": {
             "colorbar": {
              "outlinewidth": 0,
              "ticks": ""
             }
            },
            "type": "scattermapbox"
           }
          ],
          "scatterpolar": [
           {
            "marker": {
             "colorbar": {
              "outlinewidth": 0,
              "ticks": ""
             }
            },
            "type": "scatterpolar"
           }
          ],
          "scatterpolargl": [
           {
            "marker": {
             "colorbar": {
              "outlinewidth": 0,
              "ticks": ""
             }
            },
            "type": "scatterpolargl"
           }
          ],
          "scatterternary": [
           {
            "marker": {
             "colorbar": {
              "outlinewidth": 0,
              "ticks": ""
             }
            },
            "type": "scatterternary"
           }
          ],
          "surface": [
           {
            "colorbar": {
             "outlinewidth": 0,
             "ticks": ""
            },
            "colorscale": [
             [
              0,
              "#0d0887"
             ],
             [
              0.1111111111111111,
              "#46039f"
             ],
             [
              0.2222222222222222,
              "#7201a8"
             ],
             [
              0.3333333333333333,
              "#9c179e"
             ],
             [
              0.4444444444444444,
              "#bd3786"
             ],
             [
              0.5555555555555556,
              "#d8576b"
             ],
             [
              0.6666666666666666,
              "#ed7953"
             ],
             [
              0.7777777777777778,
              "#fb9f3a"
             ],
             [
              0.8888888888888888,
              "#fdca26"
             ],
             [
              1,
              "#f0f921"
             ]
            ],
            "type": "surface"
           }
          ],
          "table": [
           {
            "cells": {
             "fill": {
              "color": "#EBF0F8"
             },
             "line": {
              "color": "white"
             }
            },
            "header": {
             "fill": {
              "color": "#C8D4E3"
             },
             "line": {
              "color": "white"
             }
            },
            "type": "table"
           }
          ]
         },
         "layout": {
          "annotationdefaults": {
           "arrowcolor": "#2a3f5f",
           "arrowhead": 0,
           "arrowwidth": 1
          },
          "autotypenumbers": "strict",
          "coloraxis": {
           "colorbar": {
            "outlinewidth": 0,
            "ticks": ""
           }
          },
          "colorscale": {
           "diverging": [
            [
             0,
             "#8e0152"
            ],
            [
             0.1,
             "#c51b7d"
            ],
            [
             0.2,
             "#de77ae"
            ],
            [
             0.3,
             "#f1b6da"
            ],
            [
             0.4,
             "#fde0ef"
            ],
            [
             0.5,
             "#f7f7f7"
            ],
            [
             0.6,
             "#e6f5d0"
            ],
            [
             0.7,
             "#b8e186"
            ],
            [
             0.8,
             "#7fbc41"
            ],
            [
             0.9,
             "#4d9221"
            ],
            [
             1,
             "#276419"
            ]
           ],
           "sequential": [
            [
             0,
             "#0d0887"
            ],
            [
             0.1111111111111111,
             "#46039f"
            ],
            [
             0.2222222222222222,
             "#7201a8"
            ],
            [
             0.3333333333333333,
             "#9c179e"
            ],
            [
             0.4444444444444444,
             "#bd3786"
            ],
            [
             0.5555555555555556,
             "#d8576b"
            ],
            [
             0.6666666666666666,
             "#ed7953"
            ],
            [
             0.7777777777777778,
             "#fb9f3a"
            ],
            [
             0.8888888888888888,
             "#fdca26"
            ],
            [
             1,
             "#f0f921"
            ]
           ],
           "sequentialminus": [
            [
             0,
             "#0d0887"
            ],
            [
             0.1111111111111111,
             "#46039f"
            ],
            [
             0.2222222222222222,
             "#7201a8"
            ],
            [
             0.3333333333333333,
             "#9c179e"
            ],
            [
             0.4444444444444444,
             "#bd3786"
            ],
            [
             0.5555555555555556,
             "#d8576b"
            ],
            [
             0.6666666666666666,
             "#ed7953"
            ],
            [
             0.7777777777777778,
             "#fb9f3a"
            ],
            [
             0.8888888888888888,
             "#fdca26"
            ],
            [
             1,
             "#f0f921"
            ]
           ]
          },
          "colorway": [
           "#636efa",
           "#EF553B",
           "#00cc96",
           "#ab63fa",
           "#FFA15A",
           "#19d3f3",
           "#FF6692",
           "#B6E880",
           "#FF97FF",
           "#FECB52"
          ],
          "font": {
           "color": "#2a3f5f"
          },
          "geo": {
           "bgcolor": "white",
           "lakecolor": "white",
           "landcolor": "#E5ECF6",
           "showlakes": true,
           "showland": true,
           "subunitcolor": "white"
          },
          "hoverlabel": {
           "align": "left"
          },
          "hovermode": "closest",
          "mapbox": {
           "style": "light"
          },
          "paper_bgcolor": "white",
          "plot_bgcolor": "#E5ECF6",
          "polar": {
           "angularaxis": {
            "gridcolor": "white",
            "linecolor": "white",
            "ticks": ""
           },
           "bgcolor": "#E5ECF6",
           "radialaxis": {
            "gridcolor": "white",
            "linecolor": "white",
            "ticks": ""
           }
          },
          "scene": {
           "xaxis": {
            "backgroundcolor": "#E5ECF6",
            "gridcolor": "white",
            "gridwidth": 2,
            "linecolor": "white",
            "showbackground": true,
            "ticks": "",
            "zerolinecolor": "white"
           },
           "yaxis": {
            "backgroundcolor": "#E5ECF6",
            "gridcolor": "white",
            "gridwidth": 2,
            "linecolor": "white",
            "showbackground": true,
            "ticks": "",
            "zerolinecolor": "white"
           },
           "zaxis": {
            "backgroundcolor": "#E5ECF6",
            "gridcolor": "white",
            "gridwidth": 2,
            "linecolor": "white",
            "showbackground": true,
            "ticks": "",
            "zerolinecolor": "white"
           }
          },
          "shapedefaults": {
           "line": {
            "color": "#2a3f5f"
           }
          },
          "ternary": {
           "aaxis": {
            "gridcolor": "white",
            "linecolor": "white",
            "ticks": ""
           },
           "baxis": {
            "gridcolor": "white",
            "linecolor": "white",
            "ticks": ""
           },
           "bgcolor": "#E5ECF6",
           "caxis": {
            "gridcolor": "white",
            "linecolor": "white",
            "ticks": ""
           }
          },
          "title": {
           "x": 0.05
          },
          "xaxis": {
           "automargin": true,
           "gridcolor": "white",
           "linecolor": "white",
           "ticks": "",
           "title": {
            "standoff": 15
           },
           "zerolinecolor": "white",
           "zerolinewidth": 2
          },
          "yaxis": {
           "automargin": true,
           "gridcolor": "white",
           "linecolor": "white",
           "ticks": "",
           "title": {
            "standoff": 15
           },
           "zerolinecolor": "white",
           "zerolinewidth": 2
          }
         }
        }
       }
      }
     },
     "metadata": {},
     "output_type": "display_data"
    }
   ],
   "source": [
    "px.pie(data_frame= df5.head(20), names='Year', values='Movie_Name', color_discrete_sequence=px.colors.sequential.dense_r)"
   ]
  },
  {
   "cell_type": "code",
   "execution_count": 89,
   "metadata": {},
   "outputs": [
    {
     "data": {
      "text/html": [
       "<div>\n",
       "<style scoped>\n",
       "    .dataframe tbody tr th:only-of-type {\n",
       "        vertical-align: middle;\n",
       "    }\n",
       "\n",
       "    .dataframe tbody tr th {\n",
       "        vertical-align: top;\n",
       "    }\n",
       "\n",
       "    .dataframe thead th {\n",
       "        text-align: right;\n",
       "    }\n",
       "</style>\n",
       "<table border=\"1\" class=\"dataframe\">\n",
       "  <thead>\n",
       "    <tr style=\"text-align: right;\">\n",
       "      <th></th>\n",
       "      <th>Movie_Name</th>\n",
       "      <th>Year</th>\n",
       "      <th>Genre</th>\n",
       "      <th>duration</th>\n",
       "      <th>Country</th>\n",
       "      <th>Language</th>\n",
       "      <th>Director</th>\n",
       "      <th>Writer</th>\n",
       "      <th>production_company</th>\n",
       "      <th>Actors</th>\n",
       "      <th>Rating</th>\n",
       "      <th>votes</th>\n",
       "      <th>budget</th>\n",
       "      <th>Worldwide_gross_income</th>\n",
       "      <th>Reviews from users</th>\n",
       "      <th>Reviews from critics</th>\n",
       "    </tr>\n",
       "  </thead>\n",
       "  <tbody>\n",
       "    <tr>\n",
       "      <th>435</th>\n",
       "      <td>The Phantom of the Opera</td>\n",
       "      <td>1925</td>\n",
       "      <td>Horror</td>\n",
       "      <td>93</td>\n",
       "      <td>USA</td>\n",
       "      <td>NaN</td>\n",
       "      <td>Rupert Julian, Lon Chaney</td>\n",
       "      <td>Gaston Leroux</td>\n",
       "      <td>Universal Pictures</td>\n",
       "      <td>Lon Chaney, Mary Philbin, Norman Kerry, Arthur...</td>\n",
       "      <td>7.6</td>\n",
       "      <td>16255</td>\n",
       "      <td>NaN</td>\n",
       "      <td>$ 4360000</td>\n",
       "      <td>152.0</td>\n",
       "      <td>99.0</td>\n",
       "    </tr>\n",
       "    <tr>\n",
       "      <th>627</th>\n",
       "      <td>La chute de la maison Usher</td>\n",
       "      <td>1928</td>\n",
       "      <td>Horror</td>\n",
       "      <td>63</td>\n",
       "      <td>France</td>\n",
       "      <td>None</td>\n",
       "      <td>Jean Epstein</td>\n",
       "      <td>Edgar Allan Poe, Luis Buñuel</td>\n",
       "      <td>Films Jean Epstein</td>\n",
       "      <td>Jean Debucourt, Marguerite Gance, Charles Lamy...</td>\n",
       "      <td>7.3</td>\n",
       "      <td>3369</td>\n",
       "      <td>NaN</td>\n",
       "      <td>NaN</td>\n",
       "      <td>26.0</td>\n",
       "      <td>39.0</td>\n",
       "    </tr>\n",
       "    <tr>\n",
       "      <th>29</th>\n",
       "      <td>Der Golem</td>\n",
       "      <td>1915</td>\n",
       "      <td>Horror</td>\n",
       "      <td>60</td>\n",
       "      <td>Germany</td>\n",
       "      <td>German</td>\n",
       "      <td>Henrik Galeen, Paul Wegener</td>\n",
       "      <td>Henrik Galeen, Paul Wegener</td>\n",
       "      <td>Deutsche Bioscop GmbH</td>\n",
       "      <td>Paul Wegener, Henrik Galeen, Lyda Salmonova, R...</td>\n",
       "      <td>6.8</td>\n",
       "      <td>1040</td>\n",
       "      <td>NaN</td>\n",
       "      <td>NaN</td>\n",
       "      <td>5.0</td>\n",
       "      <td>NaN</td>\n",
       "    </tr>\n",
       "    <tr>\n",
       "      <th>572</th>\n",
       "      <td>London After Midnight</td>\n",
       "      <td>1927</td>\n",
       "      <td>Horror</td>\n",
       "      <td>69</td>\n",
       "      <td>USA</td>\n",
       "      <td>NaN</td>\n",
       "      <td>Tod Browning</td>\n",
       "      <td>Tod Browning, Waldemar Young</td>\n",
       "      <td>Metro-Goldwyn-Mayer (MGM)</td>\n",
       "      <td>Lon Chaney, Marceline Day, Henry B. Walthall, ...</td>\n",
       "      <td>6.8</td>\n",
       "      <td>1161</td>\n",
       "      <td>$ 152000</td>\n",
       "      <td>NaN</td>\n",
       "      <td>23.0</td>\n",
       "      <td>21.0</td>\n",
       "    </tr>\n",
       "    <tr>\n",
       "      <th>92</th>\n",
       "      <td>Furcht</td>\n",
       "      <td>1917</td>\n",
       "      <td>Horror</td>\n",
       "      <td>72</td>\n",
       "      <td>Germany</td>\n",
       "      <td>NaN</td>\n",
       "      <td>Robert Wiene</td>\n",
       "      <td>Robert Wiene</td>\n",
       "      <td>NaN</td>\n",
       "      <td>Bruno Decarli, Bernhard Goetzke, Mechthildis T...</td>\n",
       "      <td>6.1</td>\n",
       "      <td>129</td>\n",
       "      <td>NaN</td>\n",
       "      <td>NaN</td>\n",
       "      <td>3.0</td>\n",
       "      <td>NaN</td>\n",
       "    </tr>\n",
       "    <tr>\n",
       "      <th>195</th>\n",
       "      <td>Genuine</td>\n",
       "      <td>1920</td>\n",
       "      <td>Horror</td>\n",
       "      <td>88</td>\n",
       "      <td>Germany</td>\n",
       "      <td>German</td>\n",
       "      <td>Robert Wiene</td>\n",
       "      <td>Carl Mayer</td>\n",
       "      <td>Decla-Bioscop AG</td>\n",
       "      <td>Fern Andra, Hans Heinrich von Twardowski, Erns...</td>\n",
       "      <td>6.0</td>\n",
       "      <td>848</td>\n",
       "      <td>NaN</td>\n",
       "      <td>NaN</td>\n",
       "      <td>14.0</td>\n",
       "      <td>7.0</td>\n",
       "    </tr>\n",
       "  </tbody>\n",
       "</table>\n",
       "</div>"
      ],
      "text/plain": [
       "                      Movie_Name  Year   Genre  duration  Country Language  \\\n",
       "435     The Phantom of the Opera  1925  Horror        93      USA      NaN   \n",
       "627  La chute de la maison Usher  1928  Horror        63   France     None   \n",
       "29                     Der Golem  1915  Horror        60  Germany   German   \n",
       "572        London After Midnight  1927  Horror        69      USA      NaN   \n",
       "92                        Furcht  1917  Horror        72  Germany      NaN   \n",
       "195                      Genuine  1920  Horror        88  Germany   German   \n",
       "\n",
       "                        Director                        Writer  \\\n",
       "435    Rupert Julian, Lon Chaney                 Gaston Leroux   \n",
       "627                 Jean Epstein  Edgar Allan Poe, Luis Buñuel   \n",
       "29   Henrik Galeen, Paul Wegener   Henrik Galeen, Paul Wegener   \n",
       "572                 Tod Browning  Tod Browning, Waldemar Young   \n",
       "92                  Robert Wiene                  Robert Wiene   \n",
       "195                 Robert Wiene                    Carl Mayer   \n",
       "\n",
       "            production_company  \\\n",
       "435         Universal Pictures   \n",
       "627         Films Jean Epstein   \n",
       "29       Deutsche Bioscop GmbH   \n",
       "572  Metro-Goldwyn-Mayer (MGM)   \n",
       "92                         NaN   \n",
       "195           Decla-Bioscop AG   \n",
       "\n",
       "                                                Actors  Rating  votes  \\\n",
       "435  Lon Chaney, Mary Philbin, Norman Kerry, Arthur...     7.6  16255   \n",
       "627  Jean Debucourt, Marguerite Gance, Charles Lamy...     7.3   3369   \n",
       "29   Paul Wegener, Henrik Galeen, Lyda Salmonova, R...     6.8   1040   \n",
       "572  Lon Chaney, Marceline Day, Henry B. Walthall, ...     6.8   1161   \n",
       "92   Bruno Decarli, Bernhard Goetzke, Mechthildis T...     6.1    129   \n",
       "195  Fern Andra, Hans Heinrich von Twardowski, Erns...     6.0    848   \n",
       "\n",
       "       budget Worldwide_gross_income  Reviews from users  Reviews from critics  \n",
       "435       NaN              $ 4360000               152.0                  99.0  \n",
       "627       NaN                    NaN                26.0                  39.0  \n",
       "29        NaN                    NaN                 5.0                   NaN  \n",
       "572  $ 152000                    NaN                23.0                  21.0  \n",
       "92        NaN                    NaN                 3.0                   NaN  \n",
       "195       NaN                    NaN                14.0                   7.0  "
      ]
     },
     "execution_count": 89,
     "metadata": {},
     "output_type": "execute_result"
    }
   ],
   "source": [
    "df0=df.loc[df['Genre'] == \"Horror\"].sort_values('Rating', ascending= False)"
   ]
  },
  {
   "cell_type": "code",
   "execution_count": null,
   "metadata": {},
   "outputs": [],
   "source": []
  }
 ],
 "metadata": {
  "interpreter": {
   "hash": "76908ed6559b89e11eff19d31294caaf0a269574d9847f73b02cc4e480e3d916"
  },
  "kernelspec": {
   "display_name": "Python 3.9.7 64-bit",
   "name": "python3"
  },
  "language_info": {
   "codemirror_mode": {
    "name": "ipython",
    "version": 3
   },
   "file_extension": ".py",
   "mimetype": "text/x-python",
   "name": "python",
   "nbconvert_exporter": "python",
   "pygments_lexer": "ipython3",
   "version": "3.9.7"
  },
  "orig_nbformat": 4
 },
 "nbformat": 4,
 "nbformat_minor": 2
}
